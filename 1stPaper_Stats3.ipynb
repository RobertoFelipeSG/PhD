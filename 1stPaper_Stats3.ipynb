{
 "cells": [
  {
   "cell_type": "code",
   "execution_count": 1,
   "metadata": {},
   "outputs": [
    {
     "name": "stdout",
     "output_type": "stream",
     "text": [
      "(135, 1)\n",
      "(135,) (135,)\n",
      "(90,) (90,)\n"
     ]
    }
   ],
   "source": [
    "import numpy as np\n",
    "import pandas as pd\n",
    "import scipy\n",
    "import mne\n",
    "import matplotlib\n",
    "import matplotlib.pyplot as plt\n",
    "from pandas.plotting import scatter_matrix\n",
    "#matplotlib.use('TkAgg')\n",
    "\n",
    "from Stats_TF import *\n",
    "from Stats_Sigs import *\n",
    "from Stats_Univar import *\n",
    "from Stats_CF import *\n",
    "\n",
    "G1_Bsl = np.empty([2,2,15,40,750])\n",
    "G1_P10 = np.empty([2,2,15,40,750])\n",
    "G1_P30 = np.empty([2,2,15,40,750])\n",
    "G2_Bsl = np.empty([2,2,15,40,750])\n",
    "G2_P10 = np.empty([2,2,15,40,750])\n",
    "G2_P30 = np.empty([2,2,15,40,750])\n",
    "G5_Bsl = np.empty([2,2,15,40,750])\n",
    "G5_P10 = np.empty([2,2,15,40,750])\n",
    "G5_P30 = np.empty([2,2,15,40,750])\n",
    "All_Alp = np.empty([135,1])\n",
    "All_Gam = np.empty([135,1])\n",
    "\n",
    "for a in range(15):\n",
    "    #Bsl\n",
    "    G1_Bsl[:,:,a,:,:] = np.load('../../../Documents/1st_2nd_Results/Sources/Coh_Src/Data/P10_Bsl/Coh_%s_%s.npy' %('G1_Bsl', a+1))\n",
    "    G2_Bsl[:,:,a,:,:] = np.load('../../../Documents/1st_2nd_Results/Sources/Coh_Src/Data/P10_Bsl/Coh_%s_%s.npy' %('G2_Bsl', a+1))\n",
    "    G5_Bsl[:,:,a,:,:] = np.load('../../../Documents/1st_2nd_Results/Sources/Coh_Src/Data/P10_Bsl/Coh_%s_%s.npy' %('G5_Bsl', a+1))    \n",
    "    #P10\n",
    "    G1_P10[:,:,a,:,:] = np.load('../../../Documents/1st_2nd_Results/Sources/Coh_Src/Data/P10_Bsl/Coh_%s_%s.npy' %('G1_P10', a+1))\n",
    "    G2_P10[:,:,a,:,:] = np.load('../../../Documents/1st_2nd_Results/Sources/Coh_Src/Data/P10_Bsl/Coh_%s_%s.npy' %('G2_P10', a+1))\n",
    "    G5_P10[:,:,a,:,:] = np.load('../../../Documents/1st_2nd_Results/Sources/Coh_Src/Data/P10_Bsl/Coh_%s_%s.npy' %('G5_P10', a+1))\n",
    "    #P30\n",
    "    G1_P30[:,:,a,:,:] = np.load('../../../Documents/1st_2nd_Results/Sources/Coh_Src/Data/P30_Bsl/Coh_%s_%s.npy' %('G1_P30', a+1))\n",
    "    G2_P30[:,:,a,:,:] = np.load('../../../Documents/1st_2nd_Results/Sources/Coh_Src/Data/P30_Bsl/Coh_%s_%s.npy' %('G2_P30', a+1))\n",
    "    G5_P30[:,:,a,:,:] = np.load('../../../Documents/1st_2nd_Results/Sources/Coh_Src/Data/P30_Bsl/Coh_%s_%s.npy' %('G5_P30', a+1))\n",
    "    #print(G2_Bsl[1,0,5,:,:])\n",
    "\n",
    "# Alpha Coh\n",
    "Coh_G1_Bsl_Alp = np.mean(G1_Bsl[1,0,:,5:11,350:550], axis=(1,2))\n",
    "Coh_G2_Bsl_Alp = np.mean(G2_Bsl[1,0,:,5:11,350:550], axis=(1,2))\n",
    "Coh_G5_Bsl_Alp = np.mean(G5_Bsl[1,0,:,5:11,350:550], axis=(1,2))\n",
    "Coh_G1_P10_Alp = np.mean(G1_P10[1,0,:,5:11,350:550], axis=(1,2))\n",
    "Coh_G2_P10_Alp = np.mean(G2_P10[1,0,:,5:11,350:550], axis=(1,2))\n",
    "Coh_G5_P10_Alp = np.mean(G5_P10[1,0,:,5:11,350:550], axis=(1,2))\n",
    "Coh_G1_P30_Alp = np.mean(G1_P30[1,0,:,5:11,350:550], axis=(1,2))\n",
    "Coh_G2_P30_Alp = np.mean(G2_P30[1,0,:,5:11,350:550], axis=(1,2))\n",
    "Coh_G5_P30_Alp = np.mean(G5_P30[1,0,:,5:11,350:550], axis=(1,2))\n",
    "# Gamma Coh\n",
    "Coh_G1_Bsl_Gam = np.mean(G1_Bsl[1,0,:,29:40,350:550], axis=(1,2))\n",
    "Coh_G2_Bsl_Gam = np.mean(G2_Bsl[1,0,:,29:40,350:550], axis=(1,2))\n",
    "Coh_G5_Bsl_Gam = np.mean(G5_Bsl[1,0,:,29:40,350:550], axis=(1,2))\n",
    "Coh_G1_P10_Gam = np.mean(G1_P10[1,0,:,29:40,350:550], axis=(1,2))\n",
    "Coh_G2_P10_Gam = np.mean(G2_P10[1,0,:,29:40,350:550], axis=(1,2))\n",
    "Coh_G5_P10_Gam = np.mean(G5_P10[1,0,:,29:40,350:550], axis=(1,2))\n",
    "Coh_G1_P30_Gam = np.mean(G1_P30[1,0,:,29:40,350:550], axis=(1,2))\n",
    "Coh_G2_P30_Gam = np.mean(G2_P30[1,0,:,29:40,350:550], axis=(1,2))\n",
    "Coh_G5_P30_Gam = np.mean(G5_P30[1,0,:,29:40,350:550], axis=(1,2))\n",
    "#print(G1_P10_Gam)\n",
    "\n",
    "print(All_Alp.shape)\n",
    "Coh_All_Alp = np.concatenate([Coh_G1_Bsl_Alp, Coh_G2_Bsl_Alp, Coh_G5_Bsl_Alp,\n",
    "                         Coh_G1_P10_Alp, Coh_G2_P10_Alp, Coh_G5_P10_Alp,\n",
    "                         Coh_G1_P30_Alp, Coh_G2_P30_Alp, Coh_G5_P30_Alp], axis=0)\n",
    "Coh_All_Gam = np.concatenate([Coh_G1_Bsl_Gam, Coh_G2_Bsl_Gam, Coh_G5_Bsl_Gam,\n",
    "                         Coh_G1_P10_Gam, Coh_G2_P10_Gam, Coh_G5_P10_Gam,\n",
    "                         Coh_G1_P30_Gam, Coh_G2_P30_Gam, Coh_G5_P30_Gam], axis=0)\n",
    "print(Coh_All_Alp.shape, Coh_All_Gam.shape)\n",
    "All_Coh = np.stack([Coh_All_Alp, Coh_All_Gam], axis=1)\n",
    "    \n",
    "df_1 = pd.DataFrame(All_Coh, columns=['Coh_Alp', 'Coh_Gam'])\n",
    "df_1 = df_1.reset_index(drop=True)\n",
    "# print(df_1)\n",
    "    \n",
    "Coh_All_Alp_n = np.concatenate([Coh_G1_P10_Alp/Coh_G1_Bsl_Alp, Coh_G2_P10_Alp/Coh_G2_Bsl_Alp, Coh_G5_P10_Alp/Coh_G5_Bsl_Alp,\n",
    "                         Coh_G1_P30_Alp/Coh_G1_Bsl_Alp, Coh_G2_P30_Alp/Coh_G2_Bsl_Alp, Coh_G5_P30_Alp/Coh_G5_Bsl_Alp], axis=0)\n",
    "Coh_All_Gam_n = np.concatenate([Coh_G1_P10_Gam/Coh_G1_Bsl_Gam, Coh_G2_P10_Gam/Coh_G2_Bsl_Gam, Coh_G5_P10_Gam/Coh_G5_Bsl_Gam,\n",
    "                         Coh_G1_P30_Gam/Coh_G1_Bsl_Gam, Coh_G2_P30_Gam/Coh_G2_Bsl_Gam, Coh_G5_P30_Gam/Coh_G5_Bsl_Gam], axis=0)\n",
    "print(Coh_All_Alp_n.shape, Coh_All_Gam_n.shape)\n",
    "All_Coh_n = np.stack([Coh_All_Alp_n, Coh_All_Gam_n], axis=1)  \n",
    "\n",
    "df_1_n = pd.DataFrame(All_Coh_n, columns=['Coh_Alp_n', 'Coh_Gam_n'])\n",
    "df_1_n = df_1_n.reset_index(drop=True)\n",
    "# print(df_1_n)"
   ]
  },
  {
   "cell_type": "code",
   "execution_count": 2,
   "metadata": {},
   "outputs": [
    {
     "name": "stdout",
     "output_type": "stream",
     "text": [
      "(135,) (135,)\n",
      "(90,) (90,)\n"
     ]
    }
   ],
   "source": [
    "# Alpha PSD\n",
    "Psd_G1_Bsl_Alp = np.mean(np.load('../../../Documents/1st_2nd_Results/Electrodes/Psd_FullBrain/Pre_PSD_All_G1_P1-Bsl.npy')[:,7:13],axis=(1,2))\n",
    "Psd_G1_P10_Alp = np.mean(np.load('../../../Documents/1st_2nd_Results/Electrodes/Psd_FullBrain/Pos_PSD_All_G1_P1-Bsl.npy')[:,7:13],axis=(1,2))\n",
    "Psd_G1_P30_Alp = np.mean(np.load('../../../Documents/1st_2nd_Results/Electrodes/Psd_FullBrain/Pos_PSD_All_G1_P3-Bsl.npy')[:,7:13],axis=(1,2))\n",
    "Psd_G2_Bsl_Alp = np.mean(np.load('../../../Documents/1st_2nd_Results/Electrodes/Psd_FullBrain/Pre_PSD_All_G2_P1-Bsl.npy')[:,7:13],axis=(1,2))\n",
    "Psd_G2_P10_Alp = np.mean(np.load('../../../Documents/1st_2nd_Results/Electrodes/Psd_FullBrain/Pos_PSD_All_G2_P1-Bsl.npy')[:,7:13],axis=(1,2))\n",
    "Psd_G2_P30_Alp = np.mean(np.load('../../../Documents/1st_2nd_Results/Electrodes/Psd_FullBrain/Pos_PSD_All_G2_P3-Bsl.npy')[:,7:13],axis=(1,2))\n",
    "Psd_G5_Bsl_Alp = np.mean(np.load('../../../Documents/1st_2nd_Results/Electrodes/Psd_FullBrain/Pre_PSD_All_G5_P1-Bsl.npy')[:,7:13],axis=(1,2))\n",
    "Psd_G5_P10_Alp = np.mean(np.load('../../../Documents/1st_2nd_Results/Electrodes/Psd_FullBrain/Pos_PSD_All_G5_P1-Bsl.npy')[:,7:13],axis=(1,2))\n",
    "Psd_G5_P30_Alp = np.mean(np.load('../../../Documents/1st_2nd_Results/Electrodes/Psd_FullBrain/Pos_PSD_All_G5_P3-Bsl.npy')[:,7:13],axis=(1,2))\n",
    "# Gamma PSD\n",
    "Psd_G1_Bsl_Gam = np.mean(np.load('../../../Documents/1st_2nd_Results/Electrodes/Psd_FullBrain/Pre_PSD_All_G1_P1-Bsl.npy')[:,30:45],axis=(1,2))\n",
    "Psd_G1_P10_Gam = np.mean(np.load('../../../Documents/1st_2nd_Results/Electrodes/Psd_FullBrain/Pos_PSD_All_G1_P1-Bsl.npy')[:,30:45],axis=(1,2))\n",
    "Psd_G1_P30_Gam = np.mean(np.load('../../../Documents/1st_2nd_Results/Electrodes/Psd_FullBrain/Pos_PSD_All_G1_P3-Bsl.npy')[:,30:45],axis=(1,2))\n",
    "Psd_G2_Bsl_Gam = np.mean(np.load('../../../Documents/1st_2nd_Results/Electrodes/Psd_FullBrain/Pre_PSD_All_G2_P1-Bsl.npy')[:,30:45],axis=(1,2))\n",
    "Psd_G2_P10_Gam = np.mean(np.load('../../../Documents/1st_2nd_Results/Electrodes/Psd_FullBrain/Pos_PSD_All_G2_P1-Bsl.npy')[:,30:45],axis=(1,2))\n",
    "Psd_G2_P30_Gam = np.mean(np.load('../../../Documents/1st_2nd_Results/Electrodes/Psd_FullBrain/Pos_PSD_All_G2_P3-Bsl.npy')[:,30:45],axis=(1,2))\n",
    "Psd_G5_Bsl_Gam = np.mean(np.load('../../../Documents/1st_2nd_Results/Electrodes/Psd_FullBrain/Pre_PSD_All_G5_P1-Bsl.npy')[:,30:45],axis=(1,2))\n",
    "Psd_G5_P10_Gam = np.mean(np.load('../../../Documents/1st_2nd_Results/Electrodes/Psd_FullBrain/Pos_PSD_All_G5_P1-Bsl.npy')[:,30:45],axis=(1,2))\n",
    "Psd_G5_P30_Gam = np.mean(np.load('../../../Documents/1st_2nd_Results/Electrodes/Psd_FullBrain/Pos_PSD_All_G5_P3-Bsl.npy')[:,30:45],axis=(1,2))\n",
    "\n",
    "Psd_All_Alp = np.concatenate([Psd_G1_Bsl_Alp, Psd_G2_Bsl_Alp, Psd_G5_Bsl_Alp,\n",
    "                         Psd_G1_P10_Alp, Psd_G2_P10_Alp, Psd_G5_P10_Alp,\n",
    "                         Psd_G1_P30_Alp, Psd_G2_P30_Alp, Psd_G5_P30_Alp], axis=0)\n",
    "Psd_All_Gam = np.concatenate([Psd_G1_Bsl_Gam, Psd_G2_Bsl_Gam, Psd_G5_Bsl_Gam,\n",
    "                         Psd_G1_P10_Gam, Psd_G2_P10_Gam, Psd_G5_P10_Gam,\n",
    "                         Psd_G1_P30_Gam, Psd_G2_P30_Gam, Psd_G5_P30_Gam], axis=0)\n",
    "print(Psd_All_Alp.shape, Psd_All_Gam.shape)\n",
    "All_Psd = np.stack([Psd_All_Alp, Psd_All_Gam], axis=1)\n",
    "    \n",
    "df_2 = pd.DataFrame(All_Psd, columns=['Psd_Alp', 'Psd_Gam'])\n",
    "df_2 = df_2.reset_index(drop=True)\n",
    "# print(df_2)\n",
    "\n",
    "Psd_All_Alp_n = np.concatenate([Psd_G1_P10_Alp/Psd_G1_Bsl_Alp, Psd_G2_P10_Alp/Psd_G2_Bsl_Alp, Psd_G5_P10_Alp/Psd_G5_Bsl_Alp,\n",
    "                         Psd_G1_P30_Alp/Psd_G1_Bsl_Alp, Psd_G2_P30_Alp/Psd_G2_Bsl_Alp, Psd_G5_P30_Alp/Psd_G5_Bsl_Alp], axis=0)\n",
    "Psd_All_Gam_n = np.concatenate([Psd_G1_P10_Gam/Psd_G1_Bsl_Gam, Psd_G2_P10_Gam/Psd_G2_Bsl_Gam, Psd_G5_P10_Gam/Psd_G5_Bsl_Gam,\n",
    "                         Psd_G1_P30_Gam/Psd_G1_Bsl_Gam, Psd_G2_P30_Gam/Psd_G2_Bsl_Gam, Psd_G5_P30_Gam/Psd_G5_Bsl_Gam], axis=0)\n",
    "print(Psd_All_Alp_n.shape, Psd_All_Gam_n.shape)\n",
    "All_Psd_n = np.stack([Psd_All_Alp_n, Psd_All_Gam_n], axis=1)\n",
    "    \n",
    "df_2_n = pd.DataFrame(All_Psd_n, columns=['Psd_Alp_n', 'Psd_Gam_n'])\n",
    "df_2_n = df_2_n.reset_index(drop=True)\n",
    "# print(df_2_n)"
   ]
  },
  {
   "cell_type": "code",
   "execution_count": 8,
   "metadata": {},
   "outputs": [
    {
     "name": "stdout",
     "output_type": "stream",
     "text": [
      "(2, 2, 15, 40, 750)\n",
      "    Zpac_V1pV5a_n  Zpac_V1aV5p_n\n",
      "0        1.057530       1.423934\n",
      "1       -0.626081       1.940057\n",
      "2       -4.340319      -0.133113\n",
      "3       -0.190787      -0.203630\n",
      "4        1.736786       3.585794\n",
      "..            ...            ...\n",
      "85      -2.668735       0.986844\n",
      "86       0.675208       0.300362\n",
      "87      -0.064995       0.932398\n",
      "88       1.041739       1.220105\n",
      "89       0.331069       0.944154\n",
      "\n",
      "[90 rows x 2 columns]\n",
      "Statistics=0.462, p=0.000\n",
      "Sample does not look Gaussian (reject H0)\n"
     ]
    }
   ],
   "source": [
    "ZPAC_G1_Bsl = np.empty([15,5,6,2])\n",
    "ZPAC_G1_P10 = np.empty([15,5,6,2])\n",
    "ZPAC_G1_P30 = np.empty([15,5,6,2])\n",
    "ZPAC_G2_Bsl = np.empty([15,5,6,2])\n",
    "ZPAC_G2_P10 = np.empty([15,5,6,2])\n",
    "ZPAC_G2_P30 = np.empty([15,5,6,2])\n",
    "ZPAC_G5_Bsl = np.empty([15,5,6,2])\n",
    "ZPAC_G5_P10 = np.empty([15,5,6,2])\n",
    "ZPAC_G5_P30 = np.empty([15,5,6,2])\n",
    "\n",
    "for a in range(15):\n",
    "    ##P10 or P30\n",
    "    ZPAC_G1_Bsl[a,:,:,:] = np.load('../../../Documents/1st_2nd_Results/Sources/CrossFr_Src/Data/zPAC/Bsl/zPAC_V1V5_%s_%s.npy' %('G1_Bsl', a+1))\n",
    "    ZPAC_G1_P10[a,:,:,:] = np.load('../../../Documents/1st_2nd_Results/Sources/CrossFr_Src/Data/zPAC/P10/zPAC_V1V5_%s_%s.npy' %('G1_P10', a+1))\n",
    "    ZPAC_G1_P30[a,:,:,:] = np.load('../../../Documents/1st_2nd_Results/Sources/CrossFr_Src/Data/zPAC/P30/zPAC_V1V5_%s_%s.npy' %('G1_P30', a+1))\n",
    "    ZPAC_G2_Bsl[a,:,:,:] = np.load('../../../Documents/1st_2nd_Results/Sources/CrossFr_Src/Data/zPAC/Bsl/zPAC_V1V5_%s_%s.npy' %('G2_Bsl', a+1))\n",
    "    ZPAC_G2_P10[a,:,:,:] = np.load('../../../Documents/1st_2nd_Results/Sources/CrossFr_Src/Data/zPAC/P10/zPAC_V1V5_%s_%s.npy' %('G2_P10', a+1))\n",
    "    ZPAC_G2_P30[a,:,:,:] = np.load('../../../Documents/1st_2nd_Results/Sources/CrossFr_Src/Data/zPAC/P30/zPAC_V1V5_%s_%s.npy' %('G2_P30', a+1))\n",
    "    ZPAC_G5_Bsl[a,:,:,:] = np.load('../../../Documents/1st_2nd_Results/Sources/CrossFr_Src/Data/zPAC/Bsl/zPAC_V1V5_%s_%s.npy' %('G5_Bsl', a+1))\n",
    "    ZPAC_G5_P10[a,:,:,:] = np.load('../../../Documents/1st_2nd_Results/Sources/CrossFr_Src/Data/zPAC/P10/zPAC_V1V5_%s_%s.npy' %('G5_P10', a+1))\n",
    "    ZPAC_G5_P30[a,:,:,:] = np.load('../../../Documents/1st_2nd_Results/Sources/CrossFr_Src/Data/zPAC/P30/zPAC_V1V5_%s_%s.npy' %('G5_P30', a+1))\n",
    "    \n",
    "print(G1_Bsl.shape) # Subjects x HiFr x LoFr x 2 Direction of Interaction\n",
    "\n",
    "# Orientation V1pV5a\n",
    "G1_P10_avg_0 = np.mean(ZPAC_G1_P10[:,2:4,3:5,0], axis=(1,2))\n",
    "G2_P10_avg_0 = np.mean(ZPAC_G2_P10[:,2:4,3:5,0], axis=(1,2))\n",
    "G5_P10_avg_0 = np.mean(ZPAC_G5_P10[:,2:4,3:5,0], axis=(1,2))\n",
    "G1_Bsl_avg_0 = np.mean(ZPAC_G1_Bsl[:,3:4,3:,0], axis=(1,2))\n",
    "G1_P30_avg_0 = np.mean(ZPAC_G1_P30[:,3:4,3:,0], axis=(1,2))\n",
    "G2_Bsl_avg_0 = np.mean(ZPAC_G2_Bsl[:,3:4,3:,0], axis=(1,2))\n",
    "G2_P30_avg_0 = np.mean(ZPAC_G2_P30[:,3:4,3:,0], axis=(1,2))\n",
    "G5_Bsl_avg_0 = np.mean(ZPAC_G5_Bsl[:,3:4,3:,0], axis=(1,2))\n",
    "G5_P30_avg_0 = np.mean(ZPAC_G5_P30[:,3:4,3:,0], axis=(1,2))\n",
    "\n",
    "# Orientation V1aV5p\n",
    "G1_P30_avg_1 = np.mean(ZPAC_G1_P30[:,0:2,:,1], axis=(1,2))\n",
    "G2_P30_avg_1 = np.mean(ZPAC_G2_P30[:,0:2,:,1], axis=(1,2))\n",
    "G5_P30_avg_1 = np.mean(ZPAC_G5_P30[:,0:2,:,1], axis=(1,2))\n",
    "G1_Bsl_avg_1 = np.mean(ZPAC_G1_Bsl[:,1:3,3:4,1], axis=(1,2))\n",
    "G1_P10_avg_1 = np.mean(ZPAC_G1_P10[:,1:3,3:4,1], axis=(1,2))\n",
    "G2_Bsl_avg_1 = np.mean(ZPAC_G2_Bsl[:,1:3,3:4,1], axis=(1,2))\n",
    "G2_P10_avg_1 = np.mean(ZPAC_G2_P10[:,1:3,3:4,1], axis=(1,2))\n",
    "G5_Bsl_avg_1 = np.mean(ZPAC_G5_Bsl[:,1:3,3:4,1], axis=(1,2))\n",
    "G5_P10_avg_1 = np.mean(ZPAC_G5_P10[:,1:3,3:4,1], axis=(1,2))\n",
    "\n",
    "zpac_0 = np.concatenate([G1_Bsl_avg_0, G2_Bsl_avg_0, G5_Bsl_avg_0, \n",
    "                        G1_P10_avg_0, G2_P10_avg_0, G5_P10_avg_0, \n",
    "                        G1_P30_avg_0, G2_P30_avg_0, G5_P30_avg_0], axis=0) \n",
    "zpac_1 = np.concatenate([G1_Bsl_avg_1, G2_Bsl_avg_1, G5_Bsl_avg_1,\n",
    "                        G1_P10_avg_1, G2_P10_avg_1, G5_P10_avg_1,\n",
    "                        G1_P30_avg_1, G2_P30_avg_1, G5_P30_avg_1], axis=0)\n",
    "All_zpac = np.stack([zpac_0, zpac_1], axis=1)\n",
    "# print(len(zpac_0))\n",
    "    \n",
    "df_3 = pd.DataFrame(All_zpac, columns=['Zpac_V1pV5a', 'Zpac_V1aV5p'])\n",
    "df_3 = df_3.reset_index(drop=True)\n",
    "\n",
    "# Features = pd.concat([df_1, df_2, df_3], axis=1)\n",
    "# print(Features)\n",
    "\n",
    "# Step_reg.to_csv('Step_reg.txt', sep='\\t')\n",
    "\n",
    "zpac_0_n = np.concatenate([G1_P10_avg_0/G1_Bsl_avg_0, G2_P10_avg_0/G2_Bsl_avg_0, G5_P10_avg_0/G5_Bsl_avg_0, \n",
    "                        G1_P30_avg_0/G1_Bsl_avg_0, G2_P30_avg_0/G2_Bsl_avg_0, G5_P30_avg_0/G5_Bsl_avg_0], axis=0) \n",
    "zpac_1_n = np.concatenate([G1_P10_avg_1/G1_Bsl_avg_1, G2_P10_avg_1/G2_Bsl_avg_1, G5_P10_avg_1/G5_Bsl_avg_1,\n",
    "                        G1_P30_avg_1/G1_Bsl_avg_1, G2_P30_avg_1/G2_Bsl_avg_1, G5_P30_avg_1/G5_Bsl_avg_1], axis=0)\n",
    "All_zpac_n = np.stack([zpac_0_n, zpac_1_n], axis=1)\n",
    "# print(len(zpac_0))\n",
    "    \n",
    "df_3_n = pd.DataFrame(All_zpac_n, columns=['Zpac_V1pV5a_n', 'Zpac_V1aV5p_n'])\n",
    "df_3_n = df_3_n.reset_index(drop=True)\n",
    "print(df_3_n)\n",
    "\n",
    "from scipy.stats import shapiro\n",
    "# normality test\n",
    "stat, p = shapiro(df_3_n['Zpac_V1aV5p_n'])\n",
    "print('Statistics=%.3f, p=%.3f' % (stat, p))\n",
    "# interpret\n",
    "alpha = 0.05\n",
    "if p > alpha:\n",
    "    print('Sample looks Gaussian (fail to reject H0)')\n",
    "else:\n",
    "    print('Sample does not look Gaussian (reject H0)')\n",
    "\n",
    "# Features_n = pd.concat([df_1_n, df_2_n, df_3_n], axis=1)\n",
    "# # print(Features_n)"
   ]
  },
  {
   "cell_type": "code",
   "execution_count": 506,
   "metadata": {},
   "outputs": [
    {
     "name": "stdout",
     "output_type": "stream",
     "text": [
      "(135, 1)\n",
      "(135,) (135,)\n",
      "(90,) (90,)\n"
     ]
    }
   ],
   "source": [
    "ImCoh_G1_Bsl = np.empty([2,2,15,40,750])\n",
    "ImCoh_G1_P10 = np.empty([2,2,15,40,750])\n",
    "ImCoh_G1_P30 = np.empty([2,2,15,40,750])\n",
    "ImCoh_G2_Bsl = np.empty([2,2,15,40,750])\n",
    "ImCoh_G2_P10 = np.empty([2,2,15,40,750])\n",
    "ImCoh_G2_P30 = np.empty([2,2,15,40,750])\n",
    "ImCoh_G5_Bsl = np.empty([2,2,15,40,750])\n",
    "ImCoh_G5_P10 = np.empty([2,2,15,40,750])\n",
    "ImCoh_G5_P30 = np.empty([2,2,15,40,750])\n",
    "ImCoh_All_Alp = np.empty([135,1])\n",
    "ImCoh_All_Gam = np.empty([135,1])\n",
    "\n",
    "for a in range(15):\n",
    "    #Bsl\n",
    "    ImCoh_G1_Bsl[:,:,a,:,:] = np.load('../../../Documents/1st_2nd_Results/Sources/ImCoh_Src/ImCoh_%s_%s.npy' %('G1_Bsl', a+1))\n",
    "    ImCoh_G2_Bsl[:,:,a,:,:] = np.load('../../../Documents/1st_2nd_Results/Sources/ImCoh_Src/ImCoh_%s_%s.npy' %('G2_Bsl', a+1))\n",
    "    ImCoh_G5_Bsl[:,:,a,:,:] = np.load('../../../Documents/1st_2nd_Results/Sources/ImCoh_Src/ImCoh_%s_%s.npy' %('G5_Bsl', a+1))    \n",
    "    #P10\n",
    "    ImCoh_G1_P10[:,:,a,:,:] = np.load('../../../Documents/1st_2nd_Results/Sources/ImCoh_Src/ImCoh_%s_%s.npy' %('G1_P10', a+1))\n",
    "    ImCoh_G2_P10[:,:,a,:,:] = np.load('../../../Documents/1st_2nd_Results/Sources/ImCoh_Src/ImCoh_%s_%s.npy' %('G2_P10', a+1))\n",
    "    ImCoh_G5_P10[:,:,a,:,:] = np.load('../../../Documents/1st_2nd_Results/Sources/ImCoh_Src/ImCoh_%s_%s.npy' %('G5_P10', a+1))\n",
    "    #P30\n",
    "    ImCoh_G1_P30[:,:,a,:,:] = np.load('../../../Documents/1st_2nd_Results/Sources/ImCoh_Src/ImCoh_%s_%s.npy' %('G1_P30', a+1))\n",
    "    ImCoh_G2_P30[:,:,a,:,:] = np.load('../../../Documents/1st_2nd_Results/Sources/ImCoh_Src/ImCoh_%s_%s.npy' %('G2_P30', a+1))\n",
    "    ImCoh_G5_P30[:,:,a,:,:] = np.load('../../../Documents/1st_2nd_Results/Sources/ImCoh_Src/ImCoh_%s_%s.npy' %('G5_P30', a+1))\n",
    "    #print(G2_Bsl[1,0,5,:,:])\n",
    "\n",
    "# Alpha Coh\n",
    "ImCoh_G1_Bsl_Alp = np.mean(ImCoh_G1_Bsl[1,0,:,5:11,350:550], axis=(1,2))\n",
    "ImCoh_G2_Bsl_Alp = np.mean(ImCoh_G2_Bsl[1,0,:,5:11,350:550], axis=(1,2))\n",
    "ImCoh_G5_Bsl_Alp = np.mean(ImCoh_G5_Bsl[1,0,:,5:11,350:550], axis=(1,2))\n",
    "ImCoh_G1_P10_Alp = np.mean(ImCoh_G1_P10[1,0,:,5:11,350:550], axis=(1,2))\n",
    "ImCoh_G2_P10_Alp = np.mean(ImCoh_G2_P10[1,0,:,5:11,350:550], axis=(1,2))\n",
    "ImCoh_G5_P10_Alp = np.mean(ImCoh_G5_P10[1,0,:,5:11,350:550], axis=(1,2))\n",
    "ImCoh_G1_P30_Alp = np.mean(ImCoh_G1_P30[1,0,:,5:11,350:550], axis=(1,2))\n",
    "ImCoh_G2_P30_Alp = np.mean(ImCoh_G2_P30[1,0,:,5:11,350:550], axis=(1,2))\n",
    "ImCoh_G5_P30_Alp = np.mean(ImCoh_G5_P30[1,0,:,5:11,350:550], axis=(1,2))\n",
    "# Gamma Coh\n",
    "ImCoh_G1_Bsl_Gam = np.mean(ImCoh_G1_Bsl[1,0,:,29:40,350:550], axis=(1,2))\n",
    "ImCoh_G2_Bsl_Gam = np.mean(ImCoh_G2_Bsl[1,0,:,29:40,350:550], axis=(1,2))\n",
    "ImCoh_G5_Bsl_Gam = np.mean(ImCoh_G5_Bsl[1,0,:,29:40,350:550], axis=(1,2))\n",
    "ImCoh_G1_P10_Gam = np.mean(ImCoh_G1_P10[1,0,:,29:40,350:550], axis=(1,2))\n",
    "ImCoh_G2_P10_Gam = np.mean(ImCoh_G2_P10[1,0,:,29:40,350:550], axis=(1,2))\n",
    "ImCoh_G5_P10_Gam = np.mean(ImCoh_G5_P10[1,0,:,29:40,350:550], axis=(1,2))\n",
    "ImCoh_G1_P30_Gam = np.mean(ImCoh_G1_P30[1,0,:,29:40,350:550], axis=(1,2))\n",
    "ImCoh_G2_P30_Gam = np.mean(ImCoh_G2_P30[1,0,:,29:40,350:550], axis=(1,2))\n",
    "ImCoh_G5_P30_Gam = np.mean(ImCoh_G5_P30[1,0,:,29:40,350:550], axis=(1,2))\n",
    "#print(G1_P10_Gam)\n",
    "\n",
    "print(All_Alp.shape)\n",
    "ImCoh_All_Alp = np.concatenate([ImCoh_G1_Bsl_Alp, ImCoh_G2_Bsl_Alp, ImCoh_G5_Bsl_Alp,\n",
    "                         ImCoh_G1_P10_Alp, ImCoh_G2_P10_Alp, ImCoh_G5_P10_Alp,\n",
    "                         ImCoh_G1_P30_Alp, ImCoh_G2_P30_Alp, ImCoh_G5_P30_Alp], axis=0)\n",
    "ImCoh_All_Gam = np.concatenate([ImCoh_G1_Bsl_Gam, ImCoh_G2_Bsl_Gam, ImCoh_G5_Bsl_Gam,\n",
    "                         ImCoh_G1_P10_Gam, ImCoh_G2_P10_Gam, ImCoh_G5_P10_Gam,\n",
    "                         ImCoh_G1_P30_Gam, ImCoh_G2_P30_Gam, ImCoh_G5_P30_Gam], axis=0)\n",
    "print(ImCoh_All_Alp.shape, ImCoh_All_Gam.shape)\n",
    "All_Coh = np.stack([ImCoh_All_Alp, ImCoh_All_Gam], axis=1)\n",
    "    \n",
    "df_4 = pd.DataFrame(All_Coh, columns=['ImCoh_Alp', 'ImCoh_Gam'])\n",
    "df_4 = df_1.reset_index(drop=True)\n",
    "# print(df_4)\n",
    "    \n",
    "ImCoh_All_Alp_n = np.concatenate([ImCoh_G1_P10_Alp/ImCoh_G1_Bsl_Alp, ImCoh_G2_P10_Alp/ImCoh_G2_Bsl_Alp, ImCoh_G5_P10_Alp/ImCoh_G5_Bsl_Alp,\n",
    "                         ImCoh_G1_P30_Alp/ImCoh_G1_Bsl_Alp, ImCoh_G2_P30_Alp/ImCoh_G2_Bsl_Alp, ImCoh_G5_P30_Alp/ImCoh_G5_Bsl_Alp], axis=0)\n",
    "ImCoh_All_Gam_n = np.concatenate([ImCoh_G1_P10_Gam/ImCoh_G1_Bsl_Gam, ImCoh_G2_P10_Gam/ImCoh_G2_Bsl_Gam, ImCoh_G5_P10_Gam/ImCoh_G5_Bsl_Gam,\n",
    "                         ImCoh_G1_P30_Gam/ImCoh_G1_Bsl_Gam, ImCoh_G2_P30_Gam/ImCoh_G2_Bsl_Gam, ImCoh_G5_P30_Gam/ImCoh_G5_Bsl_Gam], axis=0)\n",
    "print(ImCoh_All_Alp_n.shape, ImCoh_All_Gam_n.shape)\n",
    "All_ImCoh_n = np.stack([ImCoh_All_Alp_n, ImCoh_All_Gam_n], axis=1)  \n",
    "\n",
    "df_4_n = pd.DataFrame(All_ImCoh_n, columns=['ImCoh_Alp_n', 'ImCoh_Gam_n'])\n",
    "df_4_n = df_4_n.reset_index(drop=True)\n",
    "# print(df_4_n)\n",
    "\n",
    "# Features_n = pd.concat([df_1_n, df_2_n, df_3_n, df_4_n], axis=1)\n",
    "# Features_n = pd.concat([df_2_n, df_3_n, df_4_n], axis=1) ### Without Coherence\n",
    "Features_n = pd.concat([df_1_n, df_3_n, df_4_n], axis=1) ### Without PSD\n",
    "\n",
    "# print(Features_n)"
   ]
  },
  {
   "cell_type": "code",
   "execution_count": 507,
   "metadata": {},
   "outputs": [
    {
     "name": "stdout",
     "output_type": "stream",
     "text": [
      "135\n",
      "135\n"
     ]
    }
   ],
   "source": [
    "NDR = pd.read_excel('Raw_NDR.xlsx', 'Sheet2')\n",
    "\n",
    "NDR_G1_Bsl = NDR['A_Bsl']\n",
    "NDR_G2_Bsl = NDR['B_Bsl']\n",
    "NDR_G5_Bsl = NDR['E_Bsl']\n",
    "\n",
    "NDR_G1_P10 = NDR['A_P10']\n",
    "NDR_G2_P10 = NDR['B_P10']\n",
    "NDR_G5_P10 = NDR['E_P10']\n",
    "\n",
    "NDR_G1_P30 = NDR['A_P30']\n",
    "NDR_G2_P30 = NDR['B_P30']\n",
    "NDR_G5_P30 = NDR['E_P30']\n",
    "\n",
    "ndr_all = pd.concat([NDR_G1_Bsl, NDR_G2_Bsl, NDR_G5_Bsl, \n",
    "                     NDR_G1_P10, NDR_G2_P10, NDR_G5_P10, \n",
    "                     NDR_G1_P30, NDR_G2_P30, NDR_G5_P30], axis=0)\n",
    "ndr = ndr_all.reset_index(drop=True)\n",
    "print(len(ndr))\n",
    "\n",
    "Best_F = pd.concat([ndr, Features], axis=1)\n",
    "Best_F.rename(columns={0:'NDR'}, inplace=True)\n",
    "# print(Best_F)\n",
    "\n",
    "ndr_all_n = pd.concat([NDR_G1_P10/NDR_G1_Bsl, NDR_G2_P10/NDR_G2_Bsl, NDR_G5_P10/NDR_G5_Bsl, \n",
    "                     NDR_G1_P30/NDR_G1_Bsl, NDR_G2_P30/NDR_G2_Bsl, NDR_G5_P30/NDR_G5_Bsl], axis=0)\n",
    "ndr_n = ndr_all_n.reset_index(drop=True)\n",
    "print(len(ndr))\n",
    "\n",
    "Best_F_n = pd.concat([ndr_n, Features_n], axis=1)\n",
    "Best_F_n.rename(columns={0:'NDR_n'}, inplace=True)\n",
    "# print(Best_F_n)\n",
    "\n",
    "# NDR_G1_Bsl = NDR_G1_Bsl.drop(index=1, inplace=False)\n",
    "# NDR_G2_Bsl = NDR_G2_Bsl.drop(index=[0,9], inplace=False)\n",
    "# NDR_G1_P10 = NDR_G1_P10.drop(index=1, inplace=False)\n",
    "# NDR_G2_P10 = NDR_G2_P10.drop(index=[0,9], inplace=False)\n",
    "# NDR_G1_P30 = NDR_G1_P30.drop(index=1, inplace=False)\n",
    "# NDR_G2_P30 = NDR_G2_P30.drop(index=[0,9], inplace=False)"
   ]
  },
  {
   "cell_type": "code",
   "execution_count": 508,
   "metadata": {},
   "outputs": [
    {
     "name": "stdout",
     "output_type": "stream",
     "text": [
      "      NDR_n  Coh_Alp_n  Coh_Gam_n  Zpac_V1pV5a_n  Zpac_V1aV5p_n  ImCoh_Alp_n  \\\n",
      "0  0.683702   1.084474   1.112513       1.057530       1.423934     0.060297   \n",
      "1  0.667841   0.413761   0.450698      -0.626081       1.940057    -0.970352   \n",
      "2  1.021572   0.850081   0.904627      -4.340319      -0.133113     1.368633   \n",
      "3  1.136447   1.098294   1.156442      -0.190787      -0.203630     1.770872   \n",
      "4  1.030368   1.833911   1.305239       1.736786       3.585794    -0.865997   \n",
      "5  1.619740   1.833365   2.138237       4.058741       0.342648   -10.989407   \n",
      "6  1.022897   1.213375   1.674409       0.999768       0.630743     2.522114   \n",
      "7  0.914174   0.179794   0.223076       0.347980       1.244630     1.654733   \n",
      "8  0.523447   1.132130   0.995949      -1.548718       5.923998    -4.266574   \n",
      "9  1.826234   1.097370   1.189398      -0.013518       1.633113     0.417234   \n",
      "\n",
      "   ImCoh_Gam_n  GROUP_n  TIMEP_n  \n",
      "0     0.070482        1       10  \n",
      "1     0.513965        1       10  \n",
      "2    -2.697462        1       10  \n",
      "3    -9.055186        1       10  \n",
      "4     1.043469        1       10  \n",
      "5    -0.529811        1       10  \n",
      "6    -4.434103        1       10  \n",
      "7     3.098200        1       10  \n",
      "8    -1.150557        1       10  \n",
      "9     0.571516        1       10  \n"
     ]
    }
   ],
   "source": [
    "G1 = [1 for number in range(15)] #G1\n",
    "G2 = [2 for number in range(15)] #G2\n",
    "G5 = [5 for number in range(15)] #G5\n",
    "groups = G1+G2+G5+G1+G2+G5+G1+G2+G5\n",
    "group = pd.DataFrame(groups, columns=['GROUP']) \n",
    "group = group.reset_index(drop=True)\n",
    "groups_n = G1+G2+G5+G1+G2+G5\n",
    "group_n = pd.DataFrame(groups_n, columns=['GROUP_n']) \n",
    "group_n = group_n.reset_index(drop=True)\n",
    "\n",
    "Bsl = [0 for number in range(45)] #'Bsl'\n",
    "P10 = [10 for number in range(45)] #'P10'\n",
    "P30 = [30 for number in range(45)] #'P30'\n",
    "timepoint = Bsl+P10+P30\n",
    "timep = pd.DataFrame(timepoint, columns=['TIMEP'])\n",
    "timep = timep.reset_index(drop=True)\n",
    "timepoint_n = P10+P30\n",
    "timep_n = pd.DataFrame(timepoint_n, columns=['TIMEP_n'])\n",
    "timep_n = timep_n.reset_index(drop=True)\n",
    "\n",
    "pd.set_option('display.max_rows', 200)\n",
    "For_Lasso = pd.concat([Best_F, group, timep], axis=1)\n",
    "For_Lasso.rename(columns={0:'NDR'}, inplace=True)\n",
    "# print(For_Lasso)\n",
    "For_Lasso.to_csv('For_Lasso.txt', sep='\\t')\n",
    "\n",
    "For_Lasso_n = pd.concat([Best_F_n, group_n, timep_n], axis=1)\n",
    "For_Lasso_n.rename(columns={0:'NDR_n'}, inplace=True)\n",
    "print(For_Lasso_n[0:10])"
   ]
  },
  {
   "cell_type": "code",
   "execution_count": 19,
   "metadata": {
    "jupyter": {
     "source_hidden": true
    }
   },
   "outputs": [
    {
     "name": "stdout",
     "output_type": "stream",
     "text": [
      "45 45 45\n",
      "0.17258974702938573 0.9173236968727964\n",
      "0.9743790849673246 0.6143505763741602\n"
     ]
    }
   ],
   "source": [
    "### Non normalized Data\n",
    "Bsl_Best = Best_F.loc[0:44,:]\n",
    "P10_Best = Best_F.loc[45:89,:]\n",
    "P30_Best = Best_F.loc[90:135,:]\n",
    "print(len(Bsl_Best), len(P10_Best), len(P30_Best))\n",
    "\n",
    "timep = For_Lasso.groupby(For_Lasso['TIMEP']).groups\n",
    "Bsl_index = timep[0].values\n",
    "P10_index = timep[10].values\n",
    "P30_index = timep[30].values\n",
    "stim = For_Lasso.groupby(For_Lasso['GROUP']).groups\n",
    "G1_index = stim[1].values\n",
    "G2_index = stim[2].values\n",
    "G5_index = stim[5].values\n",
    "\n",
    "G1_Bsl = stim[1].intersection(timep[0]).values\n",
    "G1_P10 = stim[1].intersection(timep[10]).values\n",
    "G1_P30 = stim[1].intersection(timep[30]).values\n",
    "G2_Bsl = stim[2].intersection(timep[0]).values\n",
    "G2_P10 = stim[2].intersection(timep[10]).values\n",
    "G2_P30 = stim[2].intersection(timep[30]).values\n",
    "G5_Bsl = stim[5].intersection(timep[0]).values\n",
    "G5_P10 = stim[5].intersection(timep[10]).values\n",
    "G5_P30 = stim[5].intersection(timep[30]).values\n",
    "\n",
    "X = For_Lasso.loc[P10_index].drop([\"NDR\", 'GROUP', 'TIMEP'],1)    #Feature Matrix\n",
    "y = For_Lasso.loc[P10_index][\"NDR\"]           #Target Variable\n",
    "# X_10 = P10_Best.drop(\"NDR\",1)   #Feature Matrix\n",
    "# y_10 = P10_Best[\"NDR\"]          #Target Variable\n",
    "# X_30 = P30_Best.drop(\"NDR\",1)   #Feature Matrix\n",
    "# y_30 = P30_Best[\"NDR\"]          #Target Variable\n",
    "# print(y_0)\n",
    "# print(For_Lasso.loc[P10_index].drop([\"NDR\", 'GROUP', 'TIMEP'],1)\n",
    "# print(X)\n",
    "# print(X['Zpac_V1pV5a'].std()*2)\n",
    "# print(X>3.44)\n",
    "# x10 = For_Lasso.loc[P10_index].drop([\"NDR\", 'GROUP', 'TIMEP'],1)\n",
    "# print(y)\n",
    "\n",
    "# friedmanchisquare\n",
    "a,b = scipy.stats.kruskal(For_Lasso.loc[P10_index]['Zpac_V1pV5a'], For_Lasso.loc[P10_index]['Zpac_V1pV5a'], For_Lasso.loc[P30_index]['Zpac_V1pV5a'])\n",
    "print(a,b)\n",
    "c,d = scipy.stats.kruskal(For_Lasso.loc[Bsl_index]['Zpac_V1aV5p'], For_Lasso.loc[P10_index]['Zpac_V1aV5p'], For_Lasso.loc[P30_index]['Zpac_V1aV5p'])\n",
    "print(c,d)"
   ]
  },
  {
   "cell_type": "code",
   "execution_count": 453,
   "metadata": {
    "tags": []
   },
   "outputs": [],
   "source": [
    "### Normalized Data \n",
    "## Cook's distance oulier removal\n",
    "\n",
    "timep_n = For_Lasso_n.groupby(For_Lasso_n['TIMEP_n']).groups\n",
    "P10_ind_n = timep_n[10].values\n",
    "P30_ind_n = timep_n[30].values\n",
    "\n",
    "X_n = For_Lasso_n.loc[P10_ind_n].drop([\"NDR_n\", 'GROUP_n', 'TIMEP_n'],1)    #Feature Matrix\n",
    "y_n = For_Lasso_n.loc[P10_ind_n][\"NDR_n\"]           #Target Variable\n",
    "# print(X_n)#, y_n)\n",
    "X_n = X_n.drop(index=[10, 18, 28, 1, 15, 17, 30, 14, 29, 31, 16, 32, 36, 8, 37, 38]) # 14, 16, 29 ==== , 32, 8, 14, 36\n",
    "y_n = y_n.drop(index=[10, 18, 28, 1, 15, 17, 30, 14, 29, 31, 16, 32, 36, 8, 37, 38])# TP10index= 10, 18, 28, 1, 15, 24,8 ### TP30index = 61, 53, 47, 46, 60, 69 outliers ZPAC vs NDR\n",
    "\n",
    "# print(X_n['Zpac_V1pV5a_n']>X_n['Zpac_V1pV5a_n'].mean()+X_n['Zpac_V1pV5a_n'].std()*2) #Orient0 18,35-47\n",
    "# print(X_n['Zpac_V1aV5p_n']>X_n['Zpac_V1aV5p_n'].mean()+X_n['Zpac_V1aV5p_n'].std()*2) #Orient1 .....-53"
   ]
  },
  {
   "cell_type": "code",
   "execution_count": 180,
   "metadata": {
    "tags": []
   },
   "outputs": [
    {
     "data": {
      "image/png": "[encoded data removed]",
      "text/plain": [
       "<Figure size 864x720 with 2 Axes>"
      ]
     },
     "metadata": {},
     "output_type": "display_data"
    },
    {
     "name": "stdout",
     "output_type": "stream",
     "text": [
      "NDR        1.000000\n",
      "Coh_Alp    0.155332\n",
      "Coh_Gam    0.155543\n",
      "Psd_Alp    0.369560\n",
      "Psd_Gam    0.170300\n",
      "Name: NDR, dtype: float64\n",
      "              Psd_Alp  Zpac_V1aV5p\n",
      "Psd_Alp      1.000000    -0.122111\n",
      "Zpac_V1aV5p -0.122111     1.000000\n"
     ]
    }
   ],
   "source": [
    "### Filter Method\n",
    "import seaborn as sns\n",
    "plt.figure(figsize=(12,10))\n",
    "cor = Bsl_Best.corr()\n",
    "sns.heatmap(cor, annot=True, cmap=plt.cm.Reds)\n",
    "plt.show()\n",
    "\n",
    "#Correlation with output variable\n",
    "cor_target = abs(cor[\"NDR\"])\n",
    "#Selecting highly correlated features\n",
    "relevant_features = cor_target[cor_target>0.1]\n",
    "print(relevant_features)\n",
    "\n",
    "print(Best_F[[\"Psd_Alp\",\"Zpac_V1aV5p\"]].corr())"
   ]
  },
  {
   "cell_type": "code",
   "execution_count": 219,
   "metadata": {
    "collapsed": true,
    "jupyter": {
     "outputs_hidden": true
    },
    "tags": []
   },
   "outputs": [
    {
     "name": "stdout",
     "output_type": "stream",
     "text": [
      "[]\n"
     ]
    }
   ],
   "source": [
    "### Wrapper Method\n",
    "\n",
    "## Backward elimination\n",
    "#Adding constant column of ones, mandatory for sm.OLS model\n",
    "import statsmodels.api as sm\n",
    "X_1 = sm.add_constant(X)\n",
    "#Fitting sm.OLS model\n",
    "model = sm.OLS(y,X_1).fit()\n",
    "model.pvalues\n",
    "\n",
    "cols = list(X.columns)\n",
    "pmax = 1\n",
    "while (len(cols)>0):\n",
    "    p= []\n",
    "    X_1 = X[cols]\n",
    "    X_1 = sm.add_constant(X_1)\n",
    "    model = sm.OLS(y,X_1).fit()\n",
    "    p = pd.Series(model.pvalues.values[1:],index = cols)      \n",
    "    pmax = max(p)\n",
    "    feature_with_p_max = p.idxmax()\n",
    "    if(pmax>0.08):\n",
    "        cols.remove(feature_with_p_max)\n",
    "    else:\n",
    "        break\n",
    "selected_features_BE = cols\n",
    "print(selected_features_BE)"
   ]
  },
  {
   "cell_type": "code",
   "execution_count": 68,
   "metadata": {
    "collapsed": true,
    "jupyter": {
     "outputs_hidden": true
    },
    "tags": []
   },
   "outputs": [
    {
     "name": "stdout",
     "output_type": "stream",
     "text": [
      "Index(['Psd_Alp', 'Psd_Gam'], dtype='object')\n"
     ]
    }
   ],
   "source": [
    "## Recursive feature elimination\n",
    "\n",
    "from sklearn.linear_model import LinearRegression\n",
    "from sklearn.feature_selection import RFE\n",
    "\n",
    "cols = list(X.columns)\n",
    "model = LinearRegression()\n",
    "#Initializing RFE model\n",
    "rfe = RFE(model, n_features_to_select=2)\n",
    "#Transforming data using RFE\n",
    "X_rfe = rfe.fit_transform(X,y)  \n",
    "#Fitting the data to model\n",
    "model.fit(X_rfe,y)\n",
    "temp = pd.Series(rfe.support_,index = cols)\n",
    "selected_features_rfe = temp[temp==True].index\n",
    "print(selected_features_rfe)\n"
   ]
  },
  {
   "cell_type": "code",
   "execution_count": 512,
   "metadata": {},
   "outputs": [
    {
     "name": "stdout",
     "output_type": "stream",
     "text": [
      "(45, 6) (45,)\n",
      "Int64Index([47, 52, 60, 62, 77], dtype='int64')\n",
      "(40, 6) (40,)\n",
      "0.8968010638575908\n",
      "Best alpha using built-in LassoCV: 0.111465\n",
      "Best score using built-in LassoCV: 0.073195\n",
      "Coh_Alp_n        0.000000\n",
      "Coh_Gam_n        0.000000\n",
      "Zpac_V1pV5a_n    0.026673\n",
      "Zpac_V1aV5p_n   -0.000000\n",
      "ImCoh_Alp_n     -0.000927\n",
      "ImCoh_Gam_n      0.000000\n",
      "dtype: float64\n",
      "Lasso picked 2 variables and eliminated the other 4 variables\n"
     ]
    },
    {
     "data": {
      "text/plain": [
       "Text(0.5, 1.0, 'Feature importance')"
      ]
     },
     "execution_count": 512,
     "metadata": {},
     "output_type": "execute_result"
    },
    {
     "data": {
      "image/png": "[encoded data removed]",
      "text/plain": [
       "<Figure size 288x288 with 1 Axes>"
      ]
     },
     "metadata": {},
     "output_type": "display_data"
    }
   ],
   "source": [
    "## Embedded Methods\n",
    "\n",
    "## Lasso\n",
    "from sklearn.linear_model import RidgeCV, LassoCV, Ridge, Lasso\n",
    "from sklearn.feature_selection import SelectFromModel\n",
    "from sklearn.preprocessing import StandardScaler\n",
    "from yellowbrick.regressor import CooksDistance\n",
    "\n",
    "# Instantiate and fit the visualizer\n",
    "# visualizer = CooksDistance()\n",
    "# visualizer.fit(X_n, y_n)\n",
    "# visualizer.show()\n",
    "# visualizer.poof()\n",
    "\n",
    "timep_n = For_Lasso_n.groupby(For_Lasso_n['TIMEP_n']).groups\n",
    "P10_ind_n = timep_n[10].values\n",
    "P30_ind_n = timep_n[30].values\n",
    "\n",
    "X_n = For_Lasso_n.loc[P30_ind_n].drop([\"NDR_n\", 'GROUP_n', 'TIMEP_n'],1)    #Feature Matrix\n",
    "y_n = For_Lasso_n.loc[P30_ind_n][\"NDR_n\"]           #Target Variable\n",
    "print(X_n.shape, y_n.shape)\n",
    "\n",
    "### Discard outliers based on ZScores\n",
    "outl = X_n[~(np.abs(stats.zscore(X_n)) < 4).all(axis=1)]\n",
    "print(outl.index)\n",
    "X_n = X_n.drop(outl.index)\n",
    "y_n = y_n.drop(outl.index)\n",
    "print(X_n.shape, y_n.shape)\n",
    "\n",
    "\n",
    "alphas = np.linspace(-10, 10, 50)\n",
    "# print(alphas)\n",
    "reg = LassoCV()#alphas=[0.0578, 0.08645, 0.1, 0.2, 0.2040])\n",
    "reg.fit(X_n, y_n)\n",
    "print(reg.intercept_)\n",
    "print(\"Best alpha using built-in LassoCV: %f\" % reg.alpha_)\n",
    "print(\"Best score using built-in LassoCV: %f\" % reg.score(X_n,y_n))\n",
    "coef = pd.Series(reg.coef_, index = X_n.columns)\n",
    "print(coef)\n",
    "    \n",
    "print(\"Lasso picked \" + str(sum(coef != 0)) + \" variables and eliminated the other \" +  str(sum(coef == 0)) + \" variables\")\n",
    "\n",
    "imp_coef = coef.sort_values()\n",
    "import matplotlib\n",
    "matplotlib.rcParams['figure.figsize'] = (4, 4)\n",
    "imp_coef.plot(kind = \"barh\")\n",
    "plt.title(\"Feature importance\")\n"
   ]
  },
  {
   "cell_type": "markdown",
   "metadata": {
    "jupyter": {
     "outputs_hidden": true,
     "source_hidden": true
    }
   },
   "source": [
    "##### EPSILON = 1e-4\n",
    "# Display results\n",
    "m_log_alphas = -np.log10(reg.alphas_ + EPSILON)\n",
    "reg\n",
    "plt.figure()\n",
    "#ymin, ymax = 2300, 3800\n",
    "plt.plot(m_log_alphas, reg.mse_path_, ':')\n",
    "# plt.plot(m_log_alphas, reg.mse_path_.mean(axis=-1), 'k',\n",
    "#          label='label', linewidth=2)\n",
    "plt.axvline(-np.log10(reg.alpha_ + EPSILON), linestyle='--', color='k',\n",
    "            label='alpha: CV estimate')\n",
    "\n",
    "plt.legend()\n",
    "\n",
    "plt.xlabel('-log(alpha)')\n",
    "plt.ylabel('Mean square error')\n"
   ]
  },
  {
   "cell_type": "code",
   "execution_count": 14,
   "metadata": {
    "collapsed": true,
    "jupyter": {
     "outputs_hidden": true,
     "source_hidden": true
    }
   },
   "outputs": [
    {
     "name": "stdout",
     "output_type": "stream",
     "text": [
      "       Feature\n",
      "0      Coh_Alp\n",
      "1      Coh_Gam\n",
      "2      Psd_Alp\n",
      "3      Psd_Gam\n",
      "4  Zpac_V1pV5a\n",
      "5  Zpac_V1aV5p\n",
      "[-2.5        -1.94444444 -1.38888889 -0.83333333 -0.27777778  0.27777778\n",
      "  0.83333333  1.38888889  1.94444444  2.5       ]\n",
      "       Feature  Alpha = -2.500000  Alpha = -1.944444  Alpha = -1.388889  \\\n",
      "0      Coh_Alp        -103.449726         -81.095235         -58.740744   \n",
      "1      Coh_Gam         109.220410          85.855861          62.491313   \n",
      "2      Psd_Alp         -20.847185         -17.267747         -13.688309   \n",
      "3      Psd_Gam          25.377520          21.923427          18.469335   \n",
      "4  Zpac_V1pV5a         -11.363650          -9.594637          -7.825623   \n",
      "5  Zpac_V1aV5p           8.393634           7.745060           7.096486   \n",
      "\n",
      "   Alpha = -0.833333  Alpha = -0.277778  Alpha = 0.277778  Alpha = 0.833333  \\\n",
      "0          30.331959         -14.031761          0.000000         -0.000000   \n",
      "1         -27.803990          15.762216          0.234979         -0.000000   \n",
      "2          -8.539312          -6.529434         -3.132190         -0.097823   \n",
      "3          13.149487          11.561151          8.370756          5.499628   \n",
      "4          -5.830314          -4.287597         -2.154237         -1.000797   \n",
      "5           6.601370           5.799338          5.150452          4.424519   \n",
      "\n",
      "   Alpha = 1.388889  Alpha = 1.944444  Alpha = 2.500000  \n",
      "0         -0.000000         -0.000000         -0.000000  \n",
      "1         -0.000000         -0.000000         -0.000000  \n",
      "2         -0.000000         -0.000000          0.000000  \n",
      "3          4.993897          4.413915          3.822440  \n",
      "4         -0.064885         -0.000000         -0.000000  \n",
      "5          3.421497          2.800832          2.209357  \n"
     ]
    },
    {
     "name": "stderr",
     "output_type": "stream",
     "text": [
      "/home/robertofelipe_sg/anaconda3/lib/python3.6/site-packages/ipykernel_launcher.py:7: SettingWithCopyWarning: \n",
      "A value is trying to be set on a copy of a slice from a DataFrame.\n",
      "Try using .loc[row_indexer,col_indexer] = value instead\n",
      "\n",
      "See the caveats in the documentation: http://pandas.pydata.org/pandas-docs/stable/user_guide/indexing.html#returning-a-view-versus-a-copy\n",
      "  import sys\n",
      "/home/robertofelipe_sg/anaconda3/lib/python3.6/site-packages/pandas/core/frame.py:3513: SettingWithCopyWarning: \n",
      "A value is trying to be set on a copy of a slice from a DataFrame\n",
      "\n",
      "See the caveats in the documentation: http://pandas.pydata.org/pandas-docs/stable/user_guide/indexing.html#returning-a-view-versus-a-copy\n",
      "  self.loc._setitem_with_indexer((slice(None), indexer), value)\n",
      "/home/robertofelipe_sg/anaconda3/lib/python3.6/site-packages/pandas/core/frame.py:3484: SettingWithCopyWarning: \n",
      "A value is trying to be set on a copy of a slice from a DataFrame\n",
      "\n",
      "See the caveats in the documentation: http://pandas.pydata.org/pandas-docs/stable/user_guide/indexing.html#returning-a-view-versus-a-copy\n",
      "  self._setitem_array(key, value)\n",
      "/home/robertofelipe_sg/anaconda3/lib/python3.6/site-packages/sklearn/linear_model/coordinate_descent.py:475: ConvergenceWarning: Objective did not converge. You might want to increase the number of iterations. Duality gap: 24669.917855467596, tolerance: 1.9098279642495284\n",
      "  positive)\n",
      "/home/robertofelipe_sg/anaconda3/lib/python3.6/site-packages/sklearn/linear_model/coordinate_descent.py:475: ConvergenceWarning: Objective did not converge. You might want to increase the number of iterations. Duality gap: 26189.23876436632, tolerance: 1.9098279642495284\n",
      "  positive)\n",
      "/home/robertofelipe_sg/anaconda3/lib/python3.6/site-packages/sklearn/linear_model/coordinate_descent.py:475: ConvergenceWarning: Objective did not converge. You might want to increase the number of iterations. Duality gap: 27708.559673266078, tolerance: 1.9098279642495284\n",
      "  positive)\n",
      "/home/robertofelipe_sg/anaconda3/lib/python3.6/site-packages/sklearn/linear_model/coordinate_descent.py:475: ConvergenceWarning: Objective did not converge. You might want to increase the number of iterations. Duality gap: 30268.04925154241, tolerance: 1.9098279642495284\n",
      "  positive)\n",
      "/home/robertofelipe_sg/anaconda3/lib/python3.6/site-packages/sklearn/linear_model/coordinate_descent.py:475: ConvergenceWarning: Objective did not converge. You might want to increase the number of iterations. Duality gap: 30747.201491065156, tolerance: 1.9098279642495284\n",
      "  positive)\n"
     ]
    },
    {
     "data": {
      "text/plain": [
       "Text(0, 0.5, 'coefs')"
      ]
     },
     "execution_count": 14,
     "metadata": {},
     "output_type": "execute_result"
    },
    {
     "data": {
      "image/png": "[encoded data removed]",
      "text/plain": [
       "<Figure size 1152x504 with 1 Axes>"
      ]
     },
     "metadata": {
      "needs_background": "light"
     },
     "output_type": "display_data"
    }
   ],
   "source": [
    "scaler = StandardScaler()\n",
    "P30_Best[['Coh_Alp','Coh_Gam','Psd_Alp','Psd_Gam','Zpac_V1pV5a','Zpac_V1aV5p']] = scaler.fit_transform(P30_Best[['Coh_Alp',\n",
    "                                                                                                                      'Coh_Gam',\n",
    "                                                                                                                      'Psd_Alp',\n",
    "                                                                                                                      'Psd_Gam',\n",
    "                                                                                                                      'Zpac_V1pV5a',\n",
    "                                                                                                                      'Zpac_V1aV5p']])\n",
    "X = P30_Best.drop(\"NDR\",1)   #Feature Matrix\n",
    "y = P30_Best[\"NDR\"]          #Target Variable\n",
    "\n",
    "coefsLasso = []\n",
    "df_a = pd.DataFrame()\n",
    "df_a['Feature'] = list(X.columns)\n",
    "print(df_a)\n",
    "alphas = np.linspace(-2.5,2.5,10)\n",
    "print(alphas)\n",
    "\n",
    "for a in alphas:\n",
    "    reg = Lasso(alpha=a, max_iter=1000)#normalize=False)\n",
    "    reg.fit(X, y)\n",
    "    # Create a column name for that alpha value\n",
    "    column_name = 'Alpha = %f' % a\n",
    "    # Create a column of coefficient values\n",
    "    df_a[column_name] = reg.coef_\n",
    "    coefsLasso.append(reg.coef_)\n",
    "print(df_a)\n",
    "\n",
    "plt.figure(figsize = (16,7))\n",
    "\n",
    "plt.subplot(121)\n",
    "plt.plot(alphas, coefsLasso, label=X.columns)\n",
    "plt.title('Lasso coefficients')\n",
    "plt.xlabel('alpha')\n",
    "plt.ylabel('coefs')"
   ]
  },
  {
   "cell_type": "code",
   "execution_count": 2,
   "metadata": {
    "collapsed": true,
    "jupyter": {
     "outputs_hidden": true,
     "source_hidden": true
    }
   },
   "outputs": [
    {
     "name": "stdout",
     "output_type": "stream",
     "text": [
      "[0.      0.00111 0.00222 0.00333 0.00444 0.00555 0.00666 0.00777 0.00888\n",
      " 0.00999 0.0111  0.01221 0.01332 0.01443 0.01554 0.01665 0.01776 0.01887\n",
      " 0.01998 0.02109 0.0222  0.02331 0.02442 0.02553 0.02664 0.02775 0.02886\n",
      " 0.02997 0.03108 0.03219 0.0333  0.03441 0.03552 0.03663 0.03774 0.03885\n",
      " 0.03996 0.04107 0.04218 0.04329 0.0444  0.04551 0.04662 0.04773 0.04884\n",
      " 0.04995 0.05106 0.05217 0.05328 0.05439 0.0555  0.05661 0.05772 0.05883\n",
      " 0.05994 0.06105 0.06216 0.06327 0.06438 0.06549 0.0666  0.06771 0.06882\n",
      " 0.06993 0.07104 0.07215 0.07326 0.07437 0.07548 0.07659 0.0777  0.07881\n",
      " 0.07992 0.08103 0.08214 0.08325 0.08436 0.08547 0.08658 0.08769 0.0888\n",
      " 0.08991 0.09102 0.09213 0.09324 0.09435 0.09546 0.09657 0.09768 0.09879\n",
      " 0.0999 ]\n"
     ]
    }
   ],
   "source": [
    "import numpy as np\n",
    "\n",
    "f = [10, 30]\n",
    "T = [0.1, 0.0333]\n",
    "time = np.arange(0, T[0], T[1]/30)\n",
    "print(time)\n"
   ]
  },
  {
   "cell_type": "code",
   "execution_count": null,
   "metadata": {},
   "outputs": [],
   "source": []
  }
 ],
 "metadata": {
  "kernelspec": {
   "display_name": "Python 3 (ipykernel)",
   "language": "python",
   "name": "python3"
  },
  "language_info": {
   "codemirror_mode": {
    "name": "ipython",
    "version": 3
   },
   "file_extension": ".py",
   "mimetype": "text/x-python",
   "name": "python",
   "nbconvert_exporter": "python",
   "pygments_lexer": "ipython3",
   "version": "3.9.13"
  }
 },
 "nbformat": 4,
 "nbformat_minor": 4
}
