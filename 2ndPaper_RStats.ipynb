{
 "cells": [
  {
   "cell_type": "code",
   "execution_count": 1,
   "metadata": {},
   "outputs": [
    {
     "name": "stderr",
     "output_type": "stream",
     "text": [
      "Loading required package: lme4\n",
      "\n",
      "Loading required package: Matrix\n",
      "\n",
      "\n",
      "Attaching package: ‘simr’\n",
      "\n",
      "\n",
      "The following object is masked from ‘package:lme4’:\n",
      "\n",
      "    getData\n",
      "\n",
      "\n",
      "\n",
      "Attaching package: ‘lmerTest’\n",
      "\n",
      "\n",
      "The following object is masked from ‘package:lme4’:\n",
      "\n",
      "    lmer\n",
      "\n",
      "\n",
      "The following object is masked from ‘package:stats’:\n",
      "\n",
      "    step\n",
      "\n",
      "\n",
      "\n",
      "Attaching package: ‘mice’\n",
      "\n",
      "\n",
      "The following object is masked from ‘package:stats’:\n",
      "\n",
      "    filter\n",
      "\n",
      "\n",
      "The following objects are masked from ‘package:base’:\n",
      "\n",
      "    cbind, rbind\n",
      "\n",
      "\n",
      "In case you would like cite this package, cite it as:\n",
      "     Patil, I. (2018). ggstatsplot: \"ggplot2\" Based Plots with Statistical Details. CRAN.\n",
      "     Retrieved from https://cran.r-project.org/web/packages/ggstatsplot/index.html\n",
      "\n",
      "This is rstantools version 2.1.1\n",
      "\n",
      "Loading required package: ggplot2\n",
      "\n"
     ]
    },
    {
     "data": {
      "text/html": [
       "<style>\n",
       ".list-inline {list-style: none; margin:0; padding: 0}\n",
       ".list-inline>li {display: inline-block}\n",
       ".list-inline>li:not(:last-child)::after {content: \"\\00b7\"; padding: 0 .5ex}\n",
       "</style>\n",
       "<ol class=list-inline><li>155</li><li>23</li></ol>\n"
      ],
      "text/latex": [
       "\\begin{enumerate*}\n",
       "\\item 155\n",
       "\\item 23\n",
       "\\end{enumerate*}\n"
      ],
      "text/markdown": [
       "1. 155\n",
       "2. 23\n",
       "\n",
       "\n"
      ],
      "text/plain": [
       "[1] 155  23"
      ]
     },
     "metadata": {},
     "output_type": "display_data"
    },
    {
     "name": "stdout",
     "output_type": "stream",
     "text": [
      "'data.frame':\t155 obs. of  23 variables:\n",
      " $ X      : int  0 1 2 3 4 5 6 7 8 9 ...\n",
      " $ NDR    : num  1 1 1 1 1 1 1 1 1 1 ...\n",
      " $ SUBJECT: Factor w/ 44 levels \"1\",\"2\",\"3\",\"4\",..: 1 2 3 4 5 6 7 8 9 10 ...\n",
      " $ GROUP  : Factor w/ 3 levels \"aV1-gV5\",\"gV1-aV5\",..: 1 1 1 1 1 1 1 1 1 1 ...\n",
      " $ TIMEP  : Factor w/ 4 levels \"Bsl\",\"TP0\",\"TP10\",..: 1 1 1 1 1 1 1 1 1 1 ...\n",
      " $ PSDA   : num  1 1 1 1 1 1 1 1 1 1 ...\n",
      " $ PSDB   : num  1 1 1 1 1 1 1 1 1 1 ...\n",
      " $ PSDG   : num  1 1 1 1 1 1 1 1 1 1 ...\n",
      " $ COHA   : num  1 1 1 1 1 1 1 1 1 1 ...\n",
      " $ COHB   : num  1 1 1 1 1 1 1 1 1 1 ...\n",
      " $ COHG   : num  1 1 1 1 1 1 1 1 1 1 ...\n",
      " $ V1pV5a : num  1 1 1 1 1 1 1 1 1 1 ...\n",
      " $ V1aV5p : num  1 1 1 1 1 1 1 1 1 1 ...\n",
      " $ WPLIA  : num  1 1 1 1 1 1 1 1 1 1 ...\n",
      " $ WPLIB  : num  1 1 1 1 1 1 1 1 1 1 ...\n",
      " $ WPLIG  : num  1 1 1 1 1 1 1 1 1 1 ...\n",
      " $ PSIT   : num  1 1 1 1 1 1 1 1 1 1 ...\n",
      " $ PSIA   : num  1 1 1 1 1 1 1 1 1 1 ...\n",
      " $ PSIB   : num  1 1 1 1 1 1 1 1 1 1 ...\n",
      " $ PSIG   : num  1 1 1 1 1 1 1 1 1 1 ...\n",
      " $ IMCOHA : num  1 1 1 1 1 1 1 1 1 1 ...\n",
      " $ IMCOHB : num  1 1 1 1 1 1 1 1 1 1 ...\n",
      " $ IMCOHG : num  1 1 1 1 1 1 1 1 1 1 ...\n"
     ]
    },
    {
     "data": {
      "text/html": [
       "<style>\n",
       ".list-inline {list-style: none; margin:0; padding: 0}\n",
       ".list-inline>li {display: inline-block}\n",
       ".list-inline>li:not(:last-child)::after {content: \"\\00b7\"; padding: 0 .5ex}\n",
       "</style>\n",
       "<ol class=list-inline><li>'aV1-gV5'</li><li>'gV1-aV5'</li><li>'Sham'</li></ol>\n"
      ],
      "text/latex": [
       "\\begin{enumerate*}\n",
       "\\item 'aV1-gV5'\n",
       "\\item 'gV1-aV5'\n",
       "\\item 'Sham'\n",
       "\\end{enumerate*}\n"
      ],
      "text/markdown": [
       "1. 'aV1-gV5'\n",
       "2. 'gV1-aV5'\n",
       "3. 'Sham'\n",
       "\n",
       "\n"
      ],
      "text/plain": [
       "[1] \"aV1-gV5\" \"gV1-aV5\" \"Sham\"   "
      ]
     },
     "metadata": {},
     "output_type": "display_data"
    },
    {
     "data": {
      "text/plain": [
       "Linear mixed model fit by REML. t-tests use Satterthwaite's method [\n",
       "lmerModLmerTest]\n",
       "Formula: NDR ~ 1 + TIMEP + GROUP * V1pV5a + (1 | SUBJECT)\n",
       "   Data: ndr\n",
       "\n",
       "REML criterion at convergence: -32.8\n",
       "\n",
       "Scaled residuals: \n",
       "    Min      1Q  Median      3Q     Max \n",
       "-2.5078 -0.4791  0.0737  0.4258  3.3649 \n",
       "\n",
       "Random effects:\n",
       " Groups   Name        Variance Std.Dev.\n",
       " SUBJECT  (Intercept) 0.009015 0.09495 \n",
       " Residual             0.023856 0.15445 \n",
       "Number of obs: 111, groups:  SUBJECT, 44\n",
       "\n",
       "Fixed effects:\n",
       "                      Estimate Std. Error         df t value Pr(>|t|)    \n",
       "(Intercept)           1.042357   0.044737  76.919623  23.300  < 2e-16 ***\n",
       "TIMEPTP10            -0.116394   0.036412  71.979182  -3.197 0.002067 ** \n",
       "TIMEPTP30            -0.132475   0.035993  71.485005  -3.681 0.000448 ***\n",
       "GROUPaV1-gV5         -0.065580   0.056454  54.740978  -1.162 0.250418    \n",
       "GROUPgV1-aV5         -0.058116   0.055765  55.783929  -1.042 0.301839    \n",
       "V1pV5a                0.001443   0.018208 100.198352   0.079 0.937009    \n",
       "GROUPaV1-gV5:V1pV5a   0.004254   0.021342  98.562576   0.199 0.842422    \n",
       "GROUPgV1-aV5:V1pV5a  -0.013127   0.019334  98.822949  -0.679 0.498753    \n",
       "---\n",
       "Signif. codes:  0 ‘***’ 0.001 ‘**’ 0.01 ‘*’ 0.05 ‘.’ 0.1 ‘ ’ 1\n",
       "\n",
       "Correlation of Fixed Effects:\n",
       "                 (Intr) TIMEPTP1 TIMEPTP3 GROUPV1-gV5 GROUPgV1-V5 V1pV5a\n",
       "TIMEPTP10        -0.347                                                 \n",
       "TIMEPTP30        -0.295  0.429                                          \n",
       "GROUPV1-gV5      -0.674  0.010   -0.027                                 \n",
       "GROUPgV1-V5      -0.689  0.043   -0.040    0.545                        \n",
       "V1pV5a           -0.464 -0.039   -0.085    0.390       0.396            \n",
       "GROUPV1-gV5:V1V5  0.390  0.049    0.080   -0.422      -0.337      -0.854\n",
       "GROUPgV1-V5:V1V5  0.449  0.003    0.063   -0.368      -0.442      -0.940\n",
       "                 GROUPV1-gV5:V1V5\n",
       "TIMEPTP10                        \n",
       "TIMEPTP30                        \n",
       "GROUPV1-gV5                      \n",
       "GROUPgV1-V5                      \n",
       "V1pV5a                           \n",
       "GROUPV1-gV5:V1V5                 \n",
       "GROUPgV1-V5:V1V5  0.802          "
      ]
     },
     "metadata": {},
     "output_type": "display_data"
    },
    {
     "name": "stderr",
     "output_type": "stream",
     "text": [
      "Computing profile confidence intervals ...\n",
      "\n"
     ]
    },
    {
     "data": {
      "text/html": [
       "<table class=\"dataframe\">\n",
       "<caption>A matrix: 10 × 2 of type dbl</caption>\n",
       "<thead>\n",
       "\t<tr><th></th><th scope=col>2.5 %</th><th scope=col>97.5 %</th></tr>\n",
       "</thead>\n",
       "<tbody>\n",
       "\t<tr><th scope=row>.sig01</th><td> 0.04206471</td><td> 0.13296624</td></tr>\n",
       "\t<tr><th scope=row>.sigma</th><td> 0.12777705</td><td> 0.17790788</td></tr>\n",
       "\t<tr><th scope=row>(Intercept)</th><td> 0.95701699</td><td> 1.12747445</td></tr>\n",
       "\t<tr><th scope=row>TIMEPTP10</th><td>-0.18618492</td><td>-0.04638226</td></tr>\n",
       "\t<tr><th scope=row>TIMEPTP30</th><td>-0.20118259</td><td>-0.06278061</td></tr>\n",
       "\t<tr><th scope=row>GROUPaV1-gV5</th><td>-0.17302595</td><td> 0.04272109</td></tr>\n",
       "\t<tr><th scope=row>GROUPgV1-aV5</th><td>-0.16425876</td><td> 0.04876608</td></tr>\n",
       "\t<tr><th scope=row>V1pV5a</th><td>-0.03325171</td><td> 0.03619419</td></tr>\n",
       "\t<tr><th scope=row>GROUPaV1-gV5:V1pV5a</th><td>-0.03657595</td><td> 0.04489294</td></tr>\n",
       "\t<tr><th scope=row>GROUPgV1-aV5:V1pV5a</th><td>-0.05003009</td><td> 0.02373085</td></tr>\n",
       "</tbody>\n",
       "</table>\n"
      ],
      "text/latex": [
       "A matrix: 10 × 2 of type dbl\n",
       "\\begin{tabular}{r|ll}\n",
       "  & 2.5 \\% & 97.5 \\%\\\\\n",
       "\\hline\n",
       "\t.sig01 &  0.04206471 &  0.13296624\\\\\n",
       "\t.sigma &  0.12777705 &  0.17790788\\\\\n",
       "\t(Intercept) &  0.95701699 &  1.12747445\\\\\n",
       "\tTIMEPTP10 & -0.18618492 & -0.04638226\\\\\n",
       "\tTIMEPTP30 & -0.20118259 & -0.06278061\\\\\n",
       "\tGROUPaV1-gV5 & -0.17302595 &  0.04272109\\\\\n",
       "\tGROUPgV1-aV5 & -0.16425876 &  0.04876608\\\\\n",
       "\tV1pV5a & -0.03325171 &  0.03619419\\\\\n",
       "\tGROUPaV1-gV5:V1pV5a & -0.03657595 &  0.04489294\\\\\n",
       "\tGROUPgV1-aV5:V1pV5a & -0.05003009 &  0.02373085\\\\\n",
       "\\end{tabular}\n"
      ],
      "text/markdown": [
       "\n",
       "A matrix: 10 × 2 of type dbl\n",
       "\n",
       "| <!--/--> | 2.5 % | 97.5 % |\n",
       "|---|---|---|\n",
       "| .sig01 |  0.04206471 |  0.13296624 |\n",
       "| .sigma |  0.12777705 |  0.17790788 |\n",
       "| (Intercept) |  0.95701699 |  1.12747445 |\n",
       "| TIMEPTP10 | -0.18618492 | -0.04638226 |\n",
       "| TIMEPTP30 | -0.20118259 | -0.06278061 |\n",
       "| GROUPaV1-gV5 | -0.17302595 |  0.04272109 |\n",
       "| GROUPgV1-aV5 | -0.16425876 |  0.04876608 |\n",
       "| V1pV5a | -0.03325171 |  0.03619419 |\n",
       "| GROUPaV1-gV5:V1pV5a | -0.03657595 |  0.04489294 |\n",
       "| GROUPgV1-aV5:V1pV5a | -0.05003009 |  0.02373085 |\n",
       "\n"
      ],
      "text/plain": [
       "                    2.5 %       97.5 %     \n",
       ".sig01               0.04206471  0.13296624\n",
       ".sigma               0.12777705  0.17790788\n",
       "(Intercept)          0.95701699  1.12747445\n",
       "TIMEPTP10           -0.18618492 -0.04638226\n",
       "TIMEPTP30           -0.20118259 -0.06278061\n",
       "GROUPaV1-gV5        -0.17302595  0.04272109\n",
       "GROUPgV1-aV5        -0.16425876  0.04876608\n",
       "V1pV5a              -0.03325171  0.03619419\n",
       "GROUPaV1-gV5:V1pV5a -0.03657595  0.04489294\n",
       "GROUPgV1-aV5:V1pV5a -0.05003009  0.02373085"
      ]
     },
     "metadata": {},
     "output_type": "display_data"
    },
    {
     "data": {
      "text/html": [
       "<table class=\"dataframe\">\n",
       "<caption>A anova: 4 × 6</caption>\n",
       "<thead>\n",
       "\t<tr><th></th><th scope=col>Sum Sq</th><th scope=col>Mean Sq</th><th scope=col>NumDF</th><th scope=col>DenDF</th><th scope=col>F value</th><th scope=col>Pr(&gt;F)</th></tr>\n",
       "\t<tr><th></th><th scope=col>&lt;dbl&gt;</th><th scope=col>&lt;dbl&gt;</th><th scope=col>&lt;int&gt;</th><th scope=col>&lt;dbl&gt;</th><th scope=col>&lt;dbl&gt;</th><th scope=col>&lt;dbl&gt;</th></tr>\n",
       "</thead>\n",
       "<tbody>\n",
       "\t<tr><th scope=row>TIMEP</th><td>0.39976477</td><td>0.19988239</td><td>2</td><td>72.01900</td><td>8.3788468</td><td>0.0005351423</td></tr>\n",
       "\t<tr><th scope=row>GROUP</th><td>0.03786626</td><td>0.01893313</td><td>2</td><td>52.40166</td><td>0.7936558</td><td>0.4575483541</td></tr>\n",
       "\t<tr><th scope=row>V1pV5a</th><td>0.03018950</td><td>0.03018950</td><td>1</td><td>87.71862</td><td>1.2655104</td><td>0.2636793982</td></tr>\n",
       "\t<tr><th scope=row>GROUP:V1pV5a</th><td>0.04806315</td><td>0.02403158</td><td>2</td><td>94.42652</td><td>1.0073769</td><td>0.3690658192</td></tr>\n",
       "</tbody>\n",
       "</table>\n"
      ],
      "text/latex": [
       "A anova: 4 × 6\n",
       "\\begin{tabular}{r|llllll}\n",
       "  & Sum Sq & Mean Sq & NumDF & DenDF & F value & Pr(>F)\\\\\n",
       "  & <dbl> & <dbl> & <int> & <dbl> & <dbl> & <dbl>\\\\\n",
       "\\hline\n",
       "\tTIMEP & 0.39976477 & 0.19988239 & 2 & 72.01900 & 8.3788468 & 0.0005351423\\\\\n",
       "\tGROUP & 0.03786626 & 0.01893313 & 2 & 52.40166 & 0.7936558 & 0.4575483541\\\\\n",
       "\tV1pV5a & 0.03018950 & 0.03018950 & 1 & 87.71862 & 1.2655104 & 0.2636793982\\\\\n",
       "\tGROUP:V1pV5a & 0.04806315 & 0.02403158 & 2 & 94.42652 & 1.0073769 & 0.3690658192\\\\\n",
       "\\end{tabular}\n"
      ],
      "text/markdown": [
       "\n",
       "A anova: 4 × 6\n",
       "\n",
       "| <!--/--> | Sum Sq &lt;dbl&gt; | Mean Sq &lt;dbl&gt; | NumDF &lt;int&gt; | DenDF &lt;dbl&gt; | F value &lt;dbl&gt; | Pr(&gt;F) &lt;dbl&gt; |\n",
       "|---|---|---|---|---|---|---|\n",
       "| TIMEP | 0.39976477 | 0.19988239 | 2 | 72.01900 | 8.3788468 | 0.0005351423 |\n",
       "| GROUP | 0.03786626 | 0.01893313 | 2 | 52.40166 | 0.7936558 | 0.4575483541 |\n",
       "| V1pV5a | 0.03018950 | 0.03018950 | 1 | 87.71862 | 1.2655104 | 0.2636793982 |\n",
       "| GROUP:V1pV5a | 0.04806315 | 0.02403158 | 2 | 94.42652 | 1.0073769 | 0.3690658192 |\n",
       "\n"
      ],
      "text/plain": [
       "             Sum Sq     Mean Sq    NumDF DenDF    F value   Pr(>F)      \n",
       "TIMEP        0.39976477 0.19988239 2     72.01900 8.3788468 0.0005351423\n",
       "GROUP        0.03786626 0.01893313 2     52.40166 0.7936558 0.4575483541\n",
       "V1pV5a       0.03018950 0.03018950 1     87.71862 1.2655104 0.2636793982\n",
       "GROUP:V1pV5a 0.04806315 0.02403158 2     94.42652 1.0073769 0.3690658192"
      ]
     },
     "metadata": {},
     "output_type": "display_data"
    }
   ],
   "source": [
    "# update.packages(ask=FALSE)\n",
    "# install.packages(\"broom\")\n",
    "library(simr)\n",
    "library(Matrix)\n",
    "library(lme4)\n",
    "library(emmeans)\n",
    "library(lattice)## LOADING AND INSPECTING THE DATA\n",
    "library(lmerTest) ## INFERENTIAL TESTS\n",
    "library(mice)\n",
    "library(ggstatsplot)\n",
    "library(rstantools)\n",
    "library(ggpubr)\n",
    "\n",
    "ndr <- read.table('II_Mixed_mod_Prepro.txt',header=TRUE,sep='\\t')\n",
    "# ndr[45:88,]\n",
    "dim(ndr)\n",
    "\n",
    "## TURN NUMERICAL VALUES INTO FACTOR/CATEGORICAL VARIABLES\n",
    "ndr$TIMEP <- factor(ndr$TIMEP)\n",
    "ndr$GROUP <- factor(ndr$GROUP)\n",
    "ndr$SUBJECT <- factor(ndr$SUBJECT)\n",
    "str(ndr)\n",
    "levels(ndr$GROUP)\n",
    "\n",
    "## SIMPLE PLOTS\n",
    "# plot(NDR~TIMEP,data=ndr,col=\"grey50\",pch=\"o\")\n",
    "# xyplot(NDR~TIMEP,groups=GROUP,data=ndr,pch=\"+\",cex=1.5)\n",
    "# options(repr.plot.width = 8, repr.plot.height = 6)\n",
    "# ggline(ndr, x = \"TIMEP\", y = \"NDR\", add = \"mean_sd\", color = \"GROUP\", palette = \"jco\", size=2, point.size=2,\n",
    "#       legend=\"top\", legend.title=\"GROUP\", font.legend=c(24, \"bold\"))+ ylim(0.6, 1.2) +\n",
    "# theme(axis.title.x=element_text(size=24, face=\"bold\"), axis.title.y=element_text(size=24, face=\"bold\"), \n",
    "#       axis.line=element_line(size=2), axis.text=element_text(size=24, face=\"bold\"))+\n",
    "# stat_compare_means(aes(group= GROUP), size=7, label = \"p.signif\")\n",
    "\n",
    "\n",
    "## IDENTIFY OUTLIERS FOR EACH GROUP OR ACROSS TIMEP\n",
    "# ndr_filt <- filter(ndr, TIMEP==c('TP0') | TIMEP==c('TP10') | TIMEP==c('TP30'))\n",
    "# ndr_filt <- filter(ndr, GROUP==c('Sham','aV1-gV5','gV1-aV5'))\n",
    "# dim(ndr_filt)\n",
    "\n",
    "# options(repr.plot.width = 14, repr.plot.height = 21)\n",
    "# betweenstats because it was a parallel design n=45\n",
    "# grouped_ggbetweenstats(data=ndr, x=TIMEP, y=NDR, grouping.var=GROUP, type = \"np\", pairwise.comparisons=FALSE,\n",
    "#                       outlier.tagging=TRUE, outlier.label=X, outlier.color='red', effsize.type=\"eta\", outlier.coef=1,\n",
    "#                        # arguments relevant for ggstatsplot::combine_plots\n",
    "#                       annotation.args = list(title = \"NDR over TIMEP and GROUPs\"),\n",
    "#                       plotgrid.args = list(ncol = 1))\n",
    "# ## Tukey=1.5\n",
    "# ndr$NDR[61] <- NA\n",
    "# ndr$NDR[68] <- NA\n",
    "# ndr$NDR[101] <- NA\n",
    "# # Tukey=1.2\n",
    "# ndr$NDR[48] <- NA\n",
    "# ndr$NDR[78] <- NA\n",
    "# ndr$NDR[88] <- NA\n",
    "# ndr$NDR[56] <- NA\n",
    "# # Tukey=1\n",
    "# ndr$NDR[113] <- NA\n",
    "# ndr$NDR[45] <- NA\n",
    "# ndr$NDR[56] <- NA\n",
    "# ndr$NDR[90] <- NA\n",
    "# ndr$NDR[124] <- NA\n",
    "# ndr$NDR[131] <- NA\n",
    "# ggline(ndr, x=\"TIMEP\", y=\"NDR\", add=\"mean_sd\", color=\"GROUP\", palette=\"jco\", size=2, point.size=2,\n",
    "#        legend=\"top\", legend.title=\"GROUP\", font.legend=c(24, \"bold\"))+ ylim(0.6, 1.2) +\n",
    "# theme(axis.title.x=element_text(size=24, face=\"bold\"), axis.title.y=element_text(size=24, face=\"bold\"), \n",
    "#       axis.line=element_line(size=2), axis.text=element_text(size=24, face=\"bold\"))+\n",
    "# stat_compare_means(aes(group =GROUP), size=7, label = \"p.signif\") \n",
    "\n",
    "# RANDOM INTERCEPT MODEL\n",
    "# ndr$TIMEP <- relevel(ndr$TIMEP,\"TP0\")   # changed the intercept to TIMEP:TP0\n",
    "# mlm1 <- lmer(NDR ~ 1 + TIMEP*GROUP + (1|SUBJECT), data=ndr, REML=TRUE)#, na.action=\"na.fail\")\n",
    "# summary(mlm1)\n",
    "# anova(mlm1)\n",
    "# # difflsmeans(mlm1, test.effs=\"TIMEP+GROUP\", ddf=\"Kenward-Roger\")\n",
    "# # write.csv(difflsmeans(rint, test.effs=\"GROUP*COHA\"),\"Interaction.csv\")\n",
    "# emm = emmeans(mlm1, ~ TIMEP+GROUP, ddf=\"Kenward-Roger\")\n",
    "# pairs(emm, simple='each', adjust=\"none\")\n",
    "# confint(pairs(emm, simple='each', adjust=\"none\"))\n",
    "\n",
    "# No Need to change the intercept to TIMEP:TP10/TP30 \n",
    "# mlm2 <- lmer(NDR ~ 1 + TIMEP+GROUP*V1pV5a + (1|SUBJECT), data=ndr, REML=TRUE)#, na.action=\"na.fail\")\n",
    "# summary(mlm2)\n",
    "# confint(mlm2)\n",
    "# anova(mlm2, type=2)\n",
    "# plot(mlm2, id=0.05) ## Residuals plotted as white noise mean that they have dist. close to N, mean 0 and constant variance\n",
    "ndr$GROUP <- relevel(ndr$GROUP,\"Sham\")   # changed the intercept to GROUP:SHAM\n",
    "mlm3 <- lmer(NDR ~ 1 + TIMEP+GROUP*V1pV5a + (1|SUBJECT), data=ndr, REML=TRUE)#, na.action=\"na.fail\")\n",
    "summary(mlm3)\n",
    "confint(mlm3)\n",
    "anova(mlm3, type=2)\n",
    "\n",
    "## COMPARING RANDOM EFFECTS BY INFORMATION CRITERIA\n",
    "# AIC(rint) ; BIC(rint)"
   ]
  },
  {
   "cell_type": "code",
   "execution_count": 51,
   "metadata": {},
   "outputs": [
    {
     "name": "stderr",
     "output_type": "stream",
     "text": [
      "Scale for 'y' is already present. Adding another scale for 'y', which will\n",
      "replace the existing scale.\n",
      "\n",
      "Warning message:\n",
      "“Removed 13 rows containing missing values (geom_point).”\n",
      "Warning message:\n",
      "“Removed 24 row(s) containing missing values (geom_path).”\n",
      "Warning message:\n",
      "“Removed 13 rows containing missing values (geom_point).”\n",
      "Warning message:\n",
      "“Removed 24 row(s) containing missing values (geom_path).”\n"
     ]
    },
    {
     "data": {
      "image/png": "[encoded data removed]",
      "text/plain": [
       "plot without title"
      ]
     },
     "metadata": {
      "image/png": {
       "height": 420,
       "width": 420
      }
     },
     "output_type": "display_data"
    }
   ],
   "source": [
    "# install.packages('effects')\n",
    "library(sjPlot)\n",
    "library(ggplot2)\n",
    "\n",
    "set_theme(\n",
    "  axis.title.size = 2,\n",
    "  axis.textsize = 1.5,\n",
    "  legend.size = 2,\n",
    "  title.size = 2, \n",
    "  base = theme_bw()\n",
    ")\n",
    "plot_model(mlm3, type = \"eff\", show.data = T, terms = c('V1pV5a','GROUP'), axis.lim= list(c(-5, 5), c(0.4, 1.3)))#,'TIMEP'))\n",
    "ggsave('V1pV5a_3Groups.png', plot = last_plot(), scale = 1, width = 20, height = 10, units = c('cm'), dpi = 300, limitsize = TRUE)\n",
    "\n",
    "# emmip(mlm3, 'WPLIG' ~ 'GROUP')"
   ]
  },
  {
   "cell_type": "code",
   "execution_count": 13,
   "metadata": {
    "collapsed": true,
    "jupyter": {
     "outputs_hidden": true,
     "source_hidden": true
    }
   },
   "outputs": [
    {
     "data": {
      "text/plain": [
       "Linear mixed model fit by REML. t-tests use Satterthwaite's method [\n",
       "lmerModLmerTest]\n",
       "Formula: NDR ~ 1 + TIMEP + (1 | SUBJECT)\n",
       "   Data: G3\n",
       "\n",
       "REML criterion at convergence: -25.1\n",
       "\n",
       "Scaled residuals: \n",
       "     Min       1Q   Median       3Q      Max \n",
       "-2.90025 -0.36438  0.03442  0.47117  2.91387 \n",
       "\n",
       "Random effects:\n",
       " Groups   Name        Variance Std.Dev.\n",
       " SUBJECT  (Intercept) 0.001418 0.03765 \n",
       " Residual             0.027463 0.16572 \n",
       "Number of obs: 54, groups:  SUBJECT, 14\n",
       "\n",
       "Fixed effects:\n",
       "            Estimate Std. Error       df t value Pr(>|t|)    \n",
       "(Intercept)  0.80859    0.04903 49.82918  16.490  < 2e-16 ***\n",
       "TIMEPBsl     0.19141    0.06531 38.78696   2.931  0.00564 ** \n",
       "TIMEPTP0     0.08383    0.06531 38.78696   1.284  0.20687    \n",
       "TIMEPTP30    0.03763    0.06531 38.78696   0.576  0.56779    \n",
       "---\n",
       "Signif. codes:  0 ‘***’ 0.001 ‘**’ 0.01 ‘*’ 0.05 ‘.’ 0.1 ‘ ’ 1\n",
       "\n",
       "Correlation of Fixed Effects:\n",
       "          (Intr) TIMEPB TIMEPTP0\n",
       "TIMEPBsl  -0.719                \n",
       "TIMEPTP0  -0.719  0.540         \n",
       "TIMEPTP30 -0.719  0.540  0.540  "
      ]
     },
     "metadata": {},
     "output_type": "display_data"
    },
    {
     "name": "stderr",
     "output_type": "stream",
     "text": [
      "Computing profile confidence intervals ...\n",
      "\n"
     ]
    },
    {
     "data": {
      "text/html": [
       "<table>\n",
       "<caption>A matrix: 6 × 2 of type dbl</caption>\n",
       "<thead>\n",
       "\t<tr><th></th><th scope=col>2.5 %</th><th scope=col>97.5 %</th></tr>\n",
       "</thead>\n",
       "<tbody>\n",
       "\t<tr><th scope=row>.sig01</th><td> 0.00000000</td><td>0.1088836</td></tr>\n",
       "\t<tr><th scope=row>.sigma</th><td> 0.13012736</td><td>0.1989454</td></tr>\n",
       "\t<tr><th scope=row>(Intercept)</th><td> 0.71430451</td><td>0.9030166</td></tr>\n",
       "\t<tr><th scope=row>TIMEPBsl</th><td> 0.06583983</td><td>0.3181964</td></tr>\n",
       "\t<tr><th scope=row>TIMEPTP0</th><td>-0.04173930</td><td>0.2106173</td></tr>\n",
       "\t<tr><th scope=row>TIMEPTP30</th><td>-0.08793912</td><td>0.1644175</td></tr>\n",
       "</tbody>\n",
       "</table>\n"
      ],
      "text/latex": [
       "A matrix: 6 × 2 of type dbl\n",
       "\\begin{tabular}{r|ll}\n",
       "  & 2.5 \\% & 97.5 \\%\\\\\n",
       "\\hline\n",
       "\t.sig01 &  0.00000000 & 0.1088836\\\\\n",
       "\t.sigma &  0.13012736 & 0.1989454\\\\\n",
       "\t(Intercept) &  0.71430451 & 0.9030166\\\\\n",
       "\tTIMEPBsl &  0.06583983 & 0.3181964\\\\\n",
       "\tTIMEPTP0 & -0.04173930 & 0.2106173\\\\\n",
       "\tTIMEPTP30 & -0.08793912 & 0.1644175\\\\\n",
       "\\end{tabular}\n"
      ],
      "text/markdown": [
       "\n",
       "A matrix: 6 × 2 of type dbl\n",
       "\n",
       "| <!--/--> | 2.5 % | 97.5 % |\n",
       "|---|---|---|\n",
       "| .sig01 |  0.00000000 | 0.1088836 |\n",
       "| .sigma |  0.13012736 | 0.1989454 |\n",
       "| (Intercept) |  0.71430451 | 0.9030166 |\n",
       "| TIMEPBsl |  0.06583983 | 0.3181964 |\n",
       "| TIMEPTP0 | -0.04173930 | 0.2106173 |\n",
       "| TIMEPTP30 | -0.08793912 | 0.1644175 |\n",
       "\n"
      ],
      "text/plain": [
       "            2.5 %       97.5 %   \n",
       ".sig01       0.00000000 0.1088836\n",
       ".sigma       0.13012736 0.1989454\n",
       "(Intercept)  0.71430451 0.9030166\n",
       "TIMEPBsl     0.06583983 0.3181964\n",
       "TIMEPTP0    -0.04173930 0.2106173\n",
       "TIMEPTP30   -0.08793912 0.1644175"
      ]
     },
     "metadata": {},
     "output_type": "display_data"
    },
    {
     "data": {
      "text/plain": [
       "Linear mixed model fit by REML. t-tests use Satterthwaite's method [\n",
       "lmerModLmerTest]\n",
       "Formula: NDR ~ 1 + TIMEP + (1 | SUBJECT)\n",
       "   Data: G4\n",
       "\n",
       "REML criterion at convergence: -19.3\n",
       "\n",
       "Scaled residuals: \n",
       "    Min      1Q  Median      3Q     Max \n",
       "-2.2148 -0.5897  0.0774  0.5992  3.2822 \n",
       "\n",
       "Random effects:\n",
       " Groups   Name        Variance Std.Dev.\n",
       " SUBJECT  (Intercept) 0.007647 0.08745 \n",
       " Residual             0.027541 0.16596 \n",
       "Number of obs: 57, groups:  SUBJECT, 15\n",
       "\n",
       "Fixed effects:\n",
       "            Estimate Std. Error       df t value Pr(>|t|)    \n",
       "(Intercept)  0.83123    0.04997 48.13963  16.635  < 2e-16 ***\n",
       "TIMEPBsl     0.16877    0.06183 39.99398   2.729  0.00938 ** \n",
       "TIMEPTP0     0.04525    0.06183 39.99398   0.732  0.46852    \n",
       "TIMEPTP30   -0.04130    0.06446 40.95285  -0.641  0.52531    \n",
       "---\n",
       "Signif. codes:  0 ‘***’ 0.001 ‘**’ 0.01 ‘*’ 0.05 ‘.’ 0.1 ‘ ’ 1\n",
       "\n",
       "Correlation of Fixed Effects:\n",
       "          (Intr) TIMEPB TIMEPTP0\n",
       "TIMEPBsl  -0.643                \n",
       "TIMEPTP0  -0.643  0.520         \n",
       "TIMEPTP30 -0.618  0.499  0.499  "
      ]
     },
     "metadata": {},
     "output_type": "display_data"
    },
    {
     "name": "stderr",
     "output_type": "stream",
     "text": [
      "Computing profile confidence intervals ...\n",
      "\n"
     ]
    },
    {
     "data": {
      "text/html": [
       "<table>\n",
       "<caption>A matrix: 6 × 2 of type dbl</caption>\n",
       "<thead>\n",
       "\t<tr><th></th><th scope=col>2.5 %</th><th scope=col>97.5 %</th></tr>\n",
       "</thead>\n",
       "<tbody>\n",
       "\t<tr><th scope=row>.sig01</th><td> 0.00000000</td><td>0.15608411</td></tr>\n",
       "\t<tr><th scope=row>.sigma</th><td> 0.13117255</td><td>0.20102488</td></tr>\n",
       "\t<tr><th scope=row>(Intercept)</th><td> 0.73504657</td><td>0.92757478</td></tr>\n",
       "\t<tr><th scope=row>TIMEPBsl</th><td> 0.04940752</td><td>0.28838462</td></tr>\n",
       "\t<tr><th scope=row>TIMEPTP0</th><td>-0.07410996</td><td>0.16486714</td></tr>\n",
       "\t<tr><th scope=row>TIMEPTP30</th><td>-0.16562644</td><td>0.08341061</td></tr>\n",
       "</tbody>\n",
       "</table>\n"
      ],
      "text/latex": [
       "A matrix: 6 × 2 of type dbl\n",
       "\\begin{tabular}{r|ll}\n",
       "  & 2.5 \\% & 97.5 \\%\\\\\n",
       "\\hline\n",
       "\t.sig01 &  0.00000000 & 0.15608411\\\\\n",
       "\t.sigma &  0.13117255 & 0.20102488\\\\\n",
       "\t(Intercept) &  0.73504657 & 0.92757478\\\\\n",
       "\tTIMEPBsl &  0.04940752 & 0.28838462\\\\\n",
       "\tTIMEPTP0 & -0.07410996 & 0.16486714\\\\\n",
       "\tTIMEPTP30 & -0.16562644 & 0.08341061\\\\\n",
       "\\end{tabular}\n"
      ],
      "text/markdown": [
       "\n",
       "A matrix: 6 × 2 of type dbl\n",
       "\n",
       "| <!--/--> | 2.5 % | 97.5 % |\n",
       "|---|---|---|\n",
       "| .sig01 |  0.00000000 | 0.15608411 |\n",
       "| .sigma |  0.13117255 | 0.20102488 |\n",
       "| (Intercept) |  0.73504657 | 0.92757478 |\n",
       "| TIMEPBsl |  0.04940752 | 0.28838462 |\n",
       "| TIMEPTP0 | -0.07410996 | 0.16486714 |\n",
       "| TIMEPTP30 | -0.16562644 | 0.08341061 |\n",
       "\n"
      ],
      "text/plain": [
       "            2.5 %       97.5 %    \n",
       ".sig01       0.00000000 0.15608411\n",
       ".sigma       0.13117255 0.20102488\n",
       "(Intercept)  0.73504657 0.92757478\n",
       "TIMEPBsl     0.04940752 0.28838462\n",
       "TIMEPTP0    -0.07410996 0.16486714\n",
       "TIMEPTP30   -0.16562644 0.08341061"
      ]
     },
     "metadata": {},
     "output_type": "display_data"
    },
    {
     "data": {
      "text/plain": [
       "Linear mixed model fit by REML. t-tests use Satterthwaite's method [\n",
       "lmerModLmerTest]\n",
       "Formula: NDR ~ 1 + TIMEP + (1 | SUBJECT)\n",
       "   Data: G5\n",
       "\n",
       "REML criterion at convergence: -4.8\n",
       "\n",
       "Scaled residuals: \n",
       "     Min       1Q   Median       3Q      Max \n",
       "-1.94540 -0.53708  0.02758  0.64342  1.83887 \n",
       "\n",
       "Random effects:\n",
       " Groups   Name        Variance Std.Dev.\n",
       " SUBJECT  (Intercept) 0.02155  0.1468  \n",
       " Residual             0.03143  0.1773  \n",
       "Number of obs: 58, groups:  SUBJECT, 15\n",
       "\n",
       "Fixed effects:\n",
       "            Estimate Std. Error       df t value Pr(>|t|)    \n",
       "(Intercept)  0.94977    0.06096 38.60113  15.582   <2e-16 ***\n",
       "TIMEPBsl     0.05023    0.06614 40.42600   0.759    0.452    \n",
       "TIMEPTP0    -0.04671    0.06614 40.42600  -0.706    0.484    \n",
       "TIMEPTP30   -0.04251    0.06755 40.73402  -0.629    0.533    \n",
       "---\n",
       "Signif. codes:  0 ‘***’ 0.001 ‘**’ 0.01 ‘*’ 0.05 ‘.’ 0.1 ‘ ’ 1\n",
       "\n",
       "Correlation of Fixed Effects:\n",
       "          (Intr) TIMEPB TIMEPTP0\n",
       "TIMEPBsl  -0.565                \n",
       "TIMEPTP0  -0.565  0.521         \n",
       "TIMEPTP30 -0.554  0.511  0.511  "
      ]
     },
     "metadata": {},
     "output_type": "display_data"
    },
    {
     "name": "stderr",
     "output_type": "stream",
     "text": [
      "Computing profile confidence intervals ...\n",
      "\n"
     ]
    },
    {
     "data": {
      "text/html": [
       "<table>\n",
       "<caption>A matrix: 6 × 2 of type dbl</caption>\n",
       "<thead>\n",
       "\t<tr><th></th><th scope=col>2.5 %</th><th scope=col>97.5 %</th></tr>\n",
       "</thead>\n",
       "<tbody>\n",
       "\t<tr><th scope=row>.sig01</th><td> 0.07997201</td><td>0.23407149</td></tr>\n",
       "\t<tr><th scope=row>.sigma</th><td> 0.14040788</td><td>0.21456857</td></tr>\n",
       "\t<tr><th scope=row>(Intercept)</th><td> 0.83121720</td><td>1.06757477</td></tr>\n",
       "\t<tr><th scope=row>TIMEPBsl</th><td>-0.07798236</td><td>0.17780187</td></tr>\n",
       "\t<tr><th scope=row>TIMEPTP0</th><td>-0.17492089</td><td>0.08086334</td></tr>\n",
       "\t<tr><th scope=row>TIMEPTP30</th><td>-0.17326693</td><td>0.08789225</td></tr>\n",
       "</tbody>\n",
       "</table>\n"
      ],
      "text/latex": [
       "A matrix: 6 × 2 of type dbl\n",
       "\\begin{tabular}{r|ll}\n",
       "  & 2.5 \\% & 97.5 \\%\\\\\n",
       "\\hline\n",
       "\t.sig01 &  0.07997201 & 0.23407149\\\\\n",
       "\t.sigma &  0.14040788 & 0.21456857\\\\\n",
       "\t(Intercept) &  0.83121720 & 1.06757477\\\\\n",
       "\tTIMEPBsl & -0.07798236 & 0.17780187\\\\\n",
       "\tTIMEPTP0 & -0.17492089 & 0.08086334\\\\\n",
       "\tTIMEPTP30 & -0.17326693 & 0.08789225\\\\\n",
       "\\end{tabular}\n"
      ],
      "text/markdown": [
       "\n",
       "A matrix: 6 × 2 of type dbl\n",
       "\n",
       "| <!--/--> | 2.5 % | 97.5 % |\n",
       "|---|---|---|\n",
       "| .sig01 |  0.07997201 | 0.23407149 |\n",
       "| .sigma |  0.14040788 | 0.21456857 |\n",
       "| (Intercept) |  0.83121720 | 1.06757477 |\n",
       "| TIMEPBsl | -0.07798236 | 0.17780187 |\n",
       "| TIMEPTP0 | -0.17492089 | 0.08086334 |\n",
       "| TIMEPTP30 | -0.17326693 | 0.08789225 |\n",
       "\n"
      ],
      "text/plain": [
       "            2.5 %       97.5 %    \n",
       ".sig01       0.07997201 0.23407149\n",
       ".sigma       0.14040788 0.21456857\n",
       "(Intercept)  0.83121720 1.06757477\n",
       "TIMEPBsl    -0.07798236 0.17780187\n",
       "TIMEPTP0    -0.17492089 0.08086334\n",
       "TIMEPTP30   -0.17326693 0.08789225"
      ]
     },
     "metadata": {},
     "output_type": "display_data"
    }
   ],
   "source": [
    "### Single GROUP evaluation over time\n",
    "\n",
    "ndr <- read.table('II_Mixed_mod_Prepro.txt',header=TRUE,sep='\\t')\n",
    "\n",
    "G3 <- ndr[which(ndr$GROUP=='aV1-gV5'), ]\n",
    "G4 <- ndr[which(ndr$GROUP=='gV1-aV5'), ]\n",
    "G5 <- ndr[which(ndr$GROUP=='Sham'), ]\n",
    "\n",
    "G3$TIMEP <- relevel(G3$TIMEP,\"TP10\")   # changed the intercept to TIMEP:TP0?\n",
    "G4$TIMEP <- relevel(G4$TIMEP,\"TP10\")   # changed the intercept to TIMEP:TP0?\n",
    "G5$TIMEP <- relevel(G5$TIMEP,\"TP10\")   # changed the intercept to TIMEP:TP0?\n",
    "\n",
    "mlm4 <- lmer(NDR ~ 1 + TIMEP + (1|SUBJECT), data=G3, REML=TRUE)\n",
    "summary(mlm4)\n",
    "confint(mlm4)\n",
    "mlm5 <- lmer(NDR ~ 1 + TIMEP + (1|SUBJECT), data=G4, REML=TRUE)\n",
    "summary(mlm5)\n",
    "confint(mlm5)\n",
    "mlm6 <- lmer(NDR ~ 1 + TIMEP + (1|SUBJECT), data=G5, REML=TRUE)\n",
    "summary(mlm6)\n",
    "confint(mlm6)"
   ]
  },
  {
   "cell_type": "code",
   "execution_count": 64,
   "metadata": {
    "collapsed": true,
    "jupyter": {
     "outputs_hidden": true,
     "source_hidden": true
    }
   },
   "outputs": [
    {
     "data": {
      "text/html": [
       "<style>\n",
       ".list-inline {list-style: none; margin:0; padding: 0}\n",
       ".list-inline>li {display: inline-block}\n",
       ".list-inline>li:not(:last-child)::after {content: \"\\00b7\"; padding: 0 .5ex}\n",
       "</style>\n",
       "<ol class=list-inline><li>176</li><li>20</li></ol>\n"
      ],
      "text/latex": [
       "\\begin{enumerate*}\n",
       "\\item 176\n",
       "\\item 20\n",
       "\\end{enumerate*}\n"
      ],
      "text/markdown": [
       "1. 176\n",
       "2. 20\n",
       "\n",
       "\n"
      ],
      "text/plain": [
       "[1] 176  20"
      ]
     },
     "metadata": {},
     "output_type": "display_data"
    },
    {
     "name": "stdout",
     "output_type": "stream",
     "text": [
      "'data.frame':\t176 obs. of  20 variables:\n",
      " $ X      : int  0 1 2 3 4 5 6 7 8 9 ...\n",
      " $ NDR    : num  41.4 29.7 21.5 12.5 39.4 ...\n",
      " $ SUBJECT: Factor w/ 44 levels \"1\",\"2\",\"3\",\"4\",..: 1 2 3 4 5 6 7 8 9 10 ...\n",
      " $ GROUP  : Factor w/ 3 levels \"aV1-gV5\",\"gV1-aV5\",..: 1 1 1 1 1 1 1 1 1 1 ...\n",
      " $ TIMEP  : Factor w/ 4 levels \"Bsl\",\"TP0\",\"TP10\",..: 1 1 1 1 1 1 1 1 1 1 ...\n",
      " $ PSDA   : num  2.86e-13 5.08e-13 4.63e-13 4.06e-13 4.20e-13 ...\n",
      " $ PSDB   : num  1.68e-13 2.29e-13 1.48e-13 2.79e-13 3.90e-13 ...\n",
      " $ PSDG   : num  1.31e-13 1.81e-13 1.46e-13 2.19e-13 1.55e-13 ...\n",
      " $ COHA   : num  0.157 0.328 0.118 0.281 0.357 ...\n",
      " $ COHB   : num  0.1234 0.2916 0.0956 0.2891 0.3165 ...\n",
      " $ COHG   : num  0.1145 0.2893 0.0954 0.2341 0.3401 ...\n",
      " $ V1pV5a : num  0.5188 2.5105 -0.7129 -0.5849 0.0852 ...\n",
      " $ V1aV5p : num  1.327 2.001 0.574 1.348 3.106 ...\n",
      " $ WPLIA  : num  0.1236 0.1468 0.0929 0.1653 0.0965 ...\n",
      " $ WPLIB  : num  0.133 0.142 0.099 0.104 0.091 ...\n",
      " $ WPLIG  : num  0.112 0.131 0.153 0.139 0.136 ...\n",
      " $ PSIT   : num  -9.87e-03 -6.25e-05 5.13e-04 -2.58e-04 1.28e-03 ...\n",
      " $ PSIA   : num  -9.87e-03 -6.25e-05 5.13e-04 -2.58e-04 1.28e-03 ...\n",
      " $ PSIB   : num  0.012581 0.010862 -0.002021 -0.000313 0.003562 ...\n",
      " $ PSIG   : num  -0.00437 -0.00674 0.00195 -0.0066 0.00171 ...\n"
     ]
    },
    {
     "data": {
      "text/plain": [
       "Linear mixed model fit by REML. t-tests use Satterthwaite's method [\n",
       "lmerModLmerTest]\n",
       "Formula: NDR ~ 1 + TIMEP + GROUP + (1 | SUBJECT)\n",
       "   Data: ndr\n",
       "\n",
       "REML criterion at convergence: 1330.3\n",
       "\n",
       "Scaled residuals: \n",
       "    Min      1Q  Median      3Q     Max \n",
       "-4.4903 -0.3473  0.0139  0.4508  2.3140 \n",
       "\n",
       "Random effects:\n",
       " Groups   Name        Variance Std.Dev.\n",
       " SUBJECT  (Intercept) 347.81   18.650  \n",
       " Residual              59.56    7.717  \n",
       "Number of obs: 176, groups:  SUBJECT, 44\n",
       "\n",
       "Fixed effects:\n",
       "             Estimate Std. Error      df t value Pr(>|t|)    \n",
       "(Intercept)    40.116      5.019  44.490   7.992 3.83e-10 ***\n",
       "TIMEPTP0       -5.797      1.645 129.000  -3.523  0.00059 ***\n",
       "TIMEPTP10      -6.146      1.645 129.000  -3.735  0.00028 ***\n",
       "TIMEPTP30      -7.418      1.645 129.000  -4.508 1.45e-05 ***\n",
       "GROUPaV1-gV5   -6.214      7.077  41.000  -0.878  0.38508    \n",
       "GROUPgV1-aV5    7.155      6.954  41.000   1.029  0.30954    \n",
       "---\n",
       "Signif. codes:  0 ‘***’ 0.001 ‘**’ 0.01 ‘*’ 0.05 ‘.’ 0.1 ‘ ’ 1\n",
       "\n",
       "Correlation of Fixed Effects:\n",
       "            (Intr) TIMEPTP0 TIMEPTP1 TIMEPTP3 GROUPV1-gV5\n",
       "TIMEPTP0    -0.164                                       \n",
       "TIMEPTP10   -0.164  0.500                                \n",
       "TIMEPTP30   -0.164  0.500    0.500                       \n",
       "GROUPV1-gV5 -0.681  0.000    0.000    0.000              \n",
       "GROUPgV1-V5 -0.693  0.000    0.000    0.000    0.491     "
      ]
     },
     "metadata": {},
     "output_type": "display_data"
    },
    {
     "data": {
      "text/plain": [
       "$`simple contrasts for TIMEP`\n",
       "GROUP = Sham:\n",
       " contrast    estimate   SE  df t.ratio p.value\n",
       " Bsl - TP0      5.797 1.65 129 3.523   0.0006 \n",
       " Bsl - TP10     6.146 1.65 129 3.735   0.0003 \n",
       " Bsl - TP30     7.418 1.65 129 4.508   <.0001 \n",
       " TP0 - TP10     0.349 1.65 129 0.212   0.8324 \n",
       " TP0 - TP30     1.621 1.65 129 0.985   0.3263 \n",
       " TP10 - TP30    1.272 1.65 129 0.773   0.4408 \n",
       "\n",
       "GROUP = aV1-gV5:\n",
       " contrast    estimate   SE  df t.ratio p.value\n",
       " Bsl - TP0      5.797 1.65 129 3.523   0.0006 \n",
       " Bsl - TP10     6.146 1.65 129 3.735   0.0003 \n",
       " Bsl - TP30     7.418 1.65 129 4.508   <.0001 \n",
       " TP0 - TP10     0.349 1.65 129 0.212   0.8324 \n",
       " TP0 - TP30     1.621 1.65 129 0.985   0.3263 \n",
       " TP10 - TP30    1.272 1.65 129 0.773   0.4408 \n",
       "\n",
       "GROUP = gV1-aV5:\n",
       " contrast    estimate   SE  df t.ratio p.value\n",
       " Bsl - TP0      5.797 1.65 129 3.523   0.0006 \n",
       " Bsl - TP10     6.146 1.65 129 3.735   0.0003 \n",
       " Bsl - TP30     7.418 1.65 129 4.508   <.0001 \n",
       " TP0 - TP10     0.349 1.65 129 0.212   0.8324 \n",
       " TP0 - TP30     1.621 1.65 129 0.985   0.3263 \n",
       " TP10 - TP30    1.272 1.65 129 0.773   0.4408 \n",
       "\n",
       "Degrees-of-freedom method: kenward-roger \n",
       "\n",
       "$`simple contrasts for GROUP`\n",
       "TIMEP = Bsl:\n",
       " contrast              estimate   SE df t.ratio p.value\n",
       " Sham - (aV1-gV5)          6.21 7.08 41  0.878  0.3851 \n",
       " Sham - (gV1-aV5)         -7.16 6.95 41 -1.029  0.3095 \n",
       " (aV1-gV5) - (gV1-aV5)   -13.37 7.08 41 -1.889  0.0660 \n",
       "\n",
       "TIMEP = TP0:\n",
       " contrast              estimate   SE df t.ratio p.value\n",
       " Sham - (aV1-gV5)          6.21 7.08 41  0.878  0.3851 \n",
       " Sham - (gV1-aV5)         -7.16 6.95 41 -1.029  0.3095 \n",
       " (aV1-gV5) - (gV1-aV5)   -13.37 7.08 41 -1.889  0.0660 \n",
       "\n",
       "TIMEP = TP10:\n",
       " contrast              estimate   SE df t.ratio p.value\n",
       " Sham - (aV1-gV5)          6.21 7.08 41  0.878  0.3851 \n",
       " Sham - (gV1-aV5)         -7.16 6.95 41 -1.029  0.3095 \n",
       " (aV1-gV5) - (gV1-aV5)   -13.37 7.08 41 -1.889  0.0660 \n",
       "\n",
       "TIMEP = TP30:\n",
       " contrast              estimate   SE df t.ratio p.value\n",
       " Sham - (aV1-gV5)          6.21 7.08 41  0.878  0.3851 \n",
       " Sham - (gV1-aV5)         -7.16 6.95 41 -1.029  0.3095 \n",
       " (aV1-gV5) - (gV1-aV5)   -13.37 7.08 41 -1.889  0.0660 \n",
       "\n",
       "Degrees-of-freedom method: kenward-roger \n"
      ]
     },
     "metadata": {},
     "output_type": "display_data"
    },
    {
     "data": {
      "text/html": [
       "<dl>\n",
       "\t<dt>$`simple contrasts for TIMEP`</dt>\n",
       "\t\t<dd><table>\n",
       "<caption>A summary_emm: 18 × 7</caption>\n",
       "<thead>\n",
       "\t<tr><th></th><th scope=col>contrast</th><th scope=col>GROUP</th><th scope=col>estimate</th><th scope=col>SE</th><th scope=col>df</th><th scope=col>lower.CL</th><th scope=col>upper.CL</th></tr>\n",
       "\t<tr><th></th><th scope=col>&lt;fct&gt;</th><th scope=col>&lt;fct&gt;</th><th scope=col>&lt;dbl&gt;</th><th scope=col>&lt;dbl&gt;</th><th scope=col>&lt;dbl&gt;</th><th scope=col>&lt;dbl&gt;</th><th scope=col>&lt;dbl&gt;</th></tr>\n",
       "</thead>\n",
       "<tbody>\n",
       "\t<tr><th scope=row>1</th><td>Bsl - TP0  </td><td>Sham   </td><td>5.796771</td><td>1.64533</td><td>129</td><td> 2.541444</td><td> 9.052097</td></tr>\n",
       "\t<tr><th scope=row>2</th><td>Bsl - TP10 </td><td>Sham   </td><td>6.145770</td><td>1.64533</td><td>129</td><td> 2.890443</td><td> 9.401096</td></tr>\n",
       "\t<tr><th scope=row>3</th><td>Bsl - TP30 </td><td>Sham   </td><td>7.417865</td><td>1.64533</td><td>129</td><td> 4.162539</td><td>10.673192</td></tr>\n",
       "\t<tr><th scope=row>4</th><td>TP0 - TP10 </td><td>Sham   </td><td>0.348999</td><td>1.64533</td><td>129</td><td>-2.906327</td><td> 3.604325</td></tr>\n",
       "\t<tr><th scope=row>5</th><td>TP0 - TP30 </td><td>Sham   </td><td>1.621095</td><td>1.64533</td><td>129</td><td>-1.634232</td><td> 4.876421</td></tr>\n",
       "\t<tr><th scope=row>6</th><td>TP10 - TP30</td><td>Sham   </td><td>1.272096</td><td>1.64533</td><td>129</td><td>-1.983231</td><td> 4.527422</td></tr>\n",
       "\t<tr><th scope=row>7</th><td>Bsl - TP0  </td><td>aV1-gV5</td><td>5.796771</td><td>1.64533</td><td>129</td><td> 2.541444</td><td> 9.052097</td></tr>\n",
       "\t<tr><th scope=row>8</th><td>Bsl - TP10 </td><td>aV1-gV5</td><td>6.145770</td><td>1.64533</td><td>129</td><td> 2.890443</td><td> 9.401096</td></tr>\n",
       "\t<tr><th scope=row>9</th><td>Bsl - TP30 </td><td>aV1-gV5</td><td>7.417865</td><td>1.64533</td><td>129</td><td> 4.162539</td><td>10.673192</td></tr>\n",
       "\t<tr><th scope=row>10</th><td>TP0 - TP10 </td><td>aV1-gV5</td><td>0.348999</td><td>1.64533</td><td>129</td><td>-2.906327</td><td> 3.604325</td></tr>\n",
       "\t<tr><th scope=row>11</th><td>TP0 - TP30 </td><td>aV1-gV5</td><td>1.621095</td><td>1.64533</td><td>129</td><td>-1.634232</td><td> 4.876421</td></tr>\n",
       "\t<tr><th scope=row>12</th><td>TP10 - TP30</td><td>aV1-gV5</td><td>1.272096</td><td>1.64533</td><td>129</td><td>-1.983231</td><td> 4.527422</td></tr>\n",
       "\t<tr><th scope=row>13</th><td>Bsl - TP0  </td><td>gV1-aV5</td><td>5.796771</td><td>1.64533</td><td>129</td><td> 2.541444</td><td> 9.052097</td></tr>\n",
       "\t<tr><th scope=row>14</th><td>Bsl - TP10 </td><td>gV1-aV5</td><td>6.145770</td><td>1.64533</td><td>129</td><td> 2.890443</td><td> 9.401096</td></tr>\n",
       "\t<tr><th scope=row>15</th><td>Bsl - TP30 </td><td>gV1-aV5</td><td>7.417865</td><td>1.64533</td><td>129</td><td> 4.162539</td><td>10.673192</td></tr>\n",
       "\t<tr><th scope=row>16</th><td>TP0 - TP10 </td><td>gV1-aV5</td><td>0.348999</td><td>1.64533</td><td>129</td><td>-2.906327</td><td> 3.604325</td></tr>\n",
       "\t<tr><th scope=row>17</th><td>TP0 - TP30 </td><td>gV1-aV5</td><td>1.621095</td><td>1.64533</td><td>129</td><td>-1.634232</td><td> 4.876421</td></tr>\n",
       "\t<tr><th scope=row>18</th><td>TP10 - TP30</td><td>gV1-aV5</td><td>1.272096</td><td>1.64533</td><td>129</td><td>-1.983231</td><td> 4.527422</td></tr>\n",
       "</tbody>\n",
       "</table>\n",
       "</dd>\n",
       "\t<dt>$`simple contrasts for GROUP`</dt>\n",
       "\t\t<dd><table>\n",
       "<caption>A summary_emm: 12 × 7</caption>\n",
       "<thead>\n",
       "\t<tr><th></th><th scope=col>contrast</th><th scope=col>TIMEP</th><th scope=col>estimate</th><th scope=col>SE</th><th scope=col>df</th><th scope=col>lower.CL</th><th scope=col>upper.CL</th></tr>\n",
       "\t<tr><th></th><th scope=col>&lt;fct&gt;</th><th scope=col>&lt;fct&gt;</th><th scope=col>&lt;dbl&gt;</th><th scope=col>&lt;dbl&gt;</th><th scope=col>&lt;dbl&gt;</th><th scope=col>&lt;dbl&gt;</th><th scope=col>&lt;dbl&gt;</th></tr>\n",
       "</thead>\n",
       "<tbody>\n",
       "\t<tr><th scope=row>1</th><td>Sham - (aV1-gV5)     </td><td>Bsl </td><td>  6.213547</td><td>7.077244</td><td>41</td><td> -8.079237</td><td>20.5063322</td></tr>\n",
       "\t<tr><th scope=row>2</th><td>Sham - (gV1-aV5)     </td><td>Bsl </td><td> -7.155370</td><td>6.954152</td><td>41</td><td>-21.199566</td><td> 6.8888255</td></tr>\n",
       "\t<tr><th scope=row>3</th><td>(aV1-gV5) - (gV1-aV5)</td><td>Bsl </td><td>-13.368918</td><td>7.077244</td><td>41</td><td>-27.661702</td><td> 0.9238671</td></tr>\n",
       "\t<tr><th scope=row>4</th><td>Sham - (aV1-gV5)     </td><td>TP0 </td><td>  6.213547</td><td>7.077244</td><td>41</td><td> -8.079237</td><td>20.5063322</td></tr>\n",
       "\t<tr><th scope=row>5</th><td>Sham - (gV1-aV5)     </td><td>TP0 </td><td> -7.155370</td><td>6.954152</td><td>41</td><td>-21.199566</td><td> 6.8888255</td></tr>\n",
       "\t<tr><th scope=row>6</th><td>(aV1-gV5) - (gV1-aV5)</td><td>TP0 </td><td>-13.368918</td><td>7.077244</td><td>41</td><td>-27.661702</td><td> 0.9238671</td></tr>\n",
       "\t<tr><th scope=row>7</th><td>Sham - (aV1-gV5)     </td><td>TP10</td><td>  6.213547</td><td>7.077244</td><td>41</td><td> -8.079237</td><td>20.5063322</td></tr>\n",
       "\t<tr><th scope=row>8</th><td>Sham - (gV1-aV5)     </td><td>TP10</td><td> -7.155370</td><td>6.954152</td><td>41</td><td>-21.199566</td><td> 6.8888255</td></tr>\n",
       "\t<tr><th scope=row>9</th><td>(aV1-gV5) - (gV1-aV5)</td><td>TP10</td><td>-13.368918</td><td>7.077244</td><td>41</td><td>-27.661702</td><td> 0.9238671</td></tr>\n",
       "\t<tr><th scope=row>10</th><td>Sham - (aV1-gV5)     </td><td>TP30</td><td>  6.213547</td><td>7.077244</td><td>41</td><td> -8.079237</td><td>20.5063322</td></tr>\n",
       "\t<tr><th scope=row>11</th><td>Sham - (gV1-aV5)     </td><td>TP30</td><td> -7.155370</td><td>6.954152</td><td>41</td><td>-21.199566</td><td> 6.8888255</td></tr>\n",
       "\t<tr><th scope=row>12</th><td>(aV1-gV5) - (gV1-aV5)</td><td>TP30</td><td>-13.368918</td><td>7.077244</td><td>41</td><td>-27.661702</td><td> 0.9238671</td></tr>\n",
       "</tbody>\n",
       "</table>\n",
       "</dd>\n",
       "</dl>\n"
      ],
      "text/latex": [
       "\\begin{description}\n",
       "\\item[\\$`simple contrasts for TIMEP`] A summary\\_emm: 18 × 7\n",
       "\\begin{tabular}{r|lllllll}\n",
       "  & contrast & GROUP & estimate & SE & df & lower.CL & upper.CL\\\\\n",
       "  & <fct> & <fct> & <dbl> & <dbl> & <dbl> & <dbl> & <dbl>\\\\\n",
       "\\hline\n",
       "\t1 & Bsl - TP0   & Sham    & 5.796771 & 1.64533 & 129 &  2.541444 &  9.052097\\\\\n",
       "\t2 & Bsl - TP10  & Sham    & 6.145770 & 1.64533 & 129 &  2.890443 &  9.401096\\\\\n",
       "\t3 & Bsl - TP30  & Sham    & 7.417865 & 1.64533 & 129 &  4.162539 & 10.673192\\\\\n",
       "\t4 & TP0 - TP10  & Sham    & 0.348999 & 1.64533 & 129 & -2.906327 &  3.604325\\\\\n",
       "\t5 & TP0 - TP30  & Sham    & 1.621095 & 1.64533 & 129 & -1.634232 &  4.876421\\\\\n",
       "\t6 & TP10 - TP30 & Sham    & 1.272096 & 1.64533 & 129 & -1.983231 &  4.527422\\\\\n",
       "\t7 & Bsl - TP0   & aV1-gV5 & 5.796771 & 1.64533 & 129 &  2.541444 &  9.052097\\\\\n",
       "\t8 & Bsl - TP10  & aV1-gV5 & 6.145770 & 1.64533 & 129 &  2.890443 &  9.401096\\\\\n",
       "\t9 & Bsl - TP30  & aV1-gV5 & 7.417865 & 1.64533 & 129 &  4.162539 & 10.673192\\\\\n",
       "\t10 & TP0 - TP10  & aV1-gV5 & 0.348999 & 1.64533 & 129 & -2.906327 &  3.604325\\\\\n",
       "\t11 & TP0 - TP30  & aV1-gV5 & 1.621095 & 1.64533 & 129 & -1.634232 &  4.876421\\\\\n",
       "\t12 & TP10 - TP30 & aV1-gV5 & 1.272096 & 1.64533 & 129 & -1.983231 &  4.527422\\\\\n",
       "\t13 & Bsl - TP0   & gV1-aV5 & 5.796771 & 1.64533 & 129 &  2.541444 &  9.052097\\\\\n",
       "\t14 & Bsl - TP10  & gV1-aV5 & 6.145770 & 1.64533 & 129 &  2.890443 &  9.401096\\\\\n",
       "\t15 & Bsl - TP30  & gV1-aV5 & 7.417865 & 1.64533 & 129 &  4.162539 & 10.673192\\\\\n",
       "\t16 & TP0 - TP10  & gV1-aV5 & 0.348999 & 1.64533 & 129 & -2.906327 &  3.604325\\\\\n",
       "\t17 & TP0 - TP30  & gV1-aV5 & 1.621095 & 1.64533 & 129 & -1.634232 &  4.876421\\\\\n",
       "\t18 & TP10 - TP30 & gV1-aV5 & 1.272096 & 1.64533 & 129 & -1.983231 &  4.527422\\\\\n",
       "\\end{tabular}\n",
       "\n",
       "\\item[\\$`simple contrasts for GROUP`] A summary\\_emm: 12 × 7\n",
       "\\begin{tabular}{r|lllllll}\n",
       "  & contrast & TIMEP & estimate & SE & df & lower.CL & upper.CL\\\\\n",
       "  & <fct> & <fct> & <dbl> & <dbl> & <dbl> & <dbl> & <dbl>\\\\\n",
       "\\hline\n",
       "\t1 & Sham - (aV1-gV5)      & Bsl  &   6.213547 & 7.077244 & 41 &  -8.079237 & 20.5063322\\\\\n",
       "\t2 & Sham - (gV1-aV5)      & Bsl  &  -7.155370 & 6.954152 & 41 & -21.199566 &  6.8888255\\\\\n",
       "\t3 & (aV1-gV5) - (gV1-aV5) & Bsl  & -13.368918 & 7.077244 & 41 & -27.661702 &  0.9238671\\\\\n",
       "\t4 & Sham - (aV1-gV5)      & TP0  &   6.213547 & 7.077244 & 41 &  -8.079237 & 20.5063322\\\\\n",
       "\t5 & Sham - (gV1-aV5)      & TP0  &  -7.155370 & 6.954152 & 41 & -21.199566 &  6.8888255\\\\\n",
       "\t6 & (aV1-gV5) - (gV1-aV5) & TP0  & -13.368918 & 7.077244 & 41 & -27.661702 &  0.9238671\\\\\n",
       "\t7 & Sham - (aV1-gV5)      & TP10 &   6.213547 & 7.077244 & 41 &  -8.079237 & 20.5063322\\\\\n",
       "\t8 & Sham - (gV1-aV5)      & TP10 &  -7.155370 & 6.954152 & 41 & -21.199566 &  6.8888255\\\\\n",
       "\t9 & (aV1-gV5) - (gV1-aV5) & TP10 & -13.368918 & 7.077244 & 41 & -27.661702 &  0.9238671\\\\\n",
       "\t10 & Sham - (aV1-gV5)      & TP30 &   6.213547 & 7.077244 & 41 &  -8.079237 & 20.5063322\\\\\n",
       "\t11 & Sham - (gV1-aV5)      & TP30 &  -7.155370 & 6.954152 & 41 & -21.199566 &  6.8888255\\\\\n",
       "\t12 & (aV1-gV5) - (gV1-aV5) & TP30 & -13.368918 & 7.077244 & 41 & -27.661702 &  0.9238671\\\\\n",
       "\\end{tabular}\n",
       "\n",
       "\\end{description}\n"
      ],
      "text/markdown": [
       "$`simple contrasts for TIMEP`\n",
       ":   \n",
       "A summary_emm: 18 × 7\n",
       "\n",
       "| <!--/--> | contrast &lt;fct&gt; | GROUP &lt;fct&gt; | estimate &lt;dbl&gt; | SE &lt;dbl&gt; | df &lt;dbl&gt; | lower.CL &lt;dbl&gt; | upper.CL &lt;dbl&gt; |\n",
       "|---|---|---|---|---|---|---|---|\n",
       "| 1 | Bsl - TP0   | Sham    | 5.796771 | 1.64533 | 129 |  2.541444 |  9.052097 |\n",
       "| 2 | Bsl - TP10  | Sham    | 6.145770 | 1.64533 | 129 |  2.890443 |  9.401096 |\n",
       "| 3 | Bsl - TP30  | Sham    | 7.417865 | 1.64533 | 129 |  4.162539 | 10.673192 |\n",
       "| 4 | TP0 - TP10  | Sham    | 0.348999 | 1.64533 | 129 | -2.906327 |  3.604325 |\n",
       "| 5 | TP0 - TP30  | Sham    | 1.621095 | 1.64533 | 129 | -1.634232 |  4.876421 |\n",
       "| 6 | TP10 - TP30 | Sham    | 1.272096 | 1.64533 | 129 | -1.983231 |  4.527422 |\n",
       "| 7 | Bsl - TP0   | aV1-gV5 | 5.796771 | 1.64533 | 129 |  2.541444 |  9.052097 |\n",
       "| 8 | Bsl - TP10  | aV1-gV5 | 6.145770 | 1.64533 | 129 |  2.890443 |  9.401096 |\n",
       "| 9 | Bsl - TP30  | aV1-gV5 | 7.417865 | 1.64533 | 129 |  4.162539 | 10.673192 |\n",
       "| 10 | TP0 - TP10  | aV1-gV5 | 0.348999 | 1.64533 | 129 | -2.906327 |  3.604325 |\n",
       "| 11 | TP0 - TP30  | aV1-gV5 | 1.621095 | 1.64533 | 129 | -1.634232 |  4.876421 |\n",
       "| 12 | TP10 - TP30 | aV1-gV5 | 1.272096 | 1.64533 | 129 | -1.983231 |  4.527422 |\n",
       "| 13 | Bsl - TP0   | gV1-aV5 | 5.796771 | 1.64533 | 129 |  2.541444 |  9.052097 |\n",
       "| 14 | Bsl - TP10  | gV1-aV5 | 6.145770 | 1.64533 | 129 |  2.890443 |  9.401096 |\n",
       "| 15 | Bsl - TP30  | gV1-aV5 | 7.417865 | 1.64533 | 129 |  4.162539 | 10.673192 |\n",
       "| 16 | TP0 - TP10  | gV1-aV5 | 0.348999 | 1.64533 | 129 | -2.906327 |  3.604325 |\n",
       "| 17 | TP0 - TP30  | gV1-aV5 | 1.621095 | 1.64533 | 129 | -1.634232 |  4.876421 |\n",
       "| 18 | TP10 - TP30 | gV1-aV5 | 1.272096 | 1.64533 | 129 | -1.983231 |  4.527422 |\n",
       "\n",
       "\n",
       "$`simple contrasts for GROUP`\n",
       ":   \n",
       "A summary_emm: 12 × 7\n",
       "\n",
       "| <!--/--> | contrast &lt;fct&gt; | TIMEP &lt;fct&gt; | estimate &lt;dbl&gt; | SE &lt;dbl&gt; | df &lt;dbl&gt; | lower.CL &lt;dbl&gt; | upper.CL &lt;dbl&gt; |\n",
       "|---|---|---|---|---|---|---|---|\n",
       "| 1 | Sham - (aV1-gV5)      | Bsl  |   6.213547 | 7.077244 | 41 |  -8.079237 | 20.5063322 |\n",
       "| 2 | Sham - (gV1-aV5)      | Bsl  |  -7.155370 | 6.954152 | 41 | -21.199566 |  6.8888255 |\n",
       "| 3 | (aV1-gV5) - (gV1-aV5) | Bsl  | -13.368918 | 7.077244 | 41 | -27.661702 |  0.9238671 |\n",
       "| 4 | Sham - (aV1-gV5)      | TP0  |   6.213547 | 7.077244 | 41 |  -8.079237 | 20.5063322 |\n",
       "| 5 | Sham - (gV1-aV5)      | TP0  |  -7.155370 | 6.954152 | 41 | -21.199566 |  6.8888255 |\n",
       "| 6 | (aV1-gV5) - (gV1-aV5) | TP0  | -13.368918 | 7.077244 | 41 | -27.661702 |  0.9238671 |\n",
       "| 7 | Sham - (aV1-gV5)      | TP10 |   6.213547 | 7.077244 | 41 |  -8.079237 | 20.5063322 |\n",
       "| 8 | Sham - (gV1-aV5)      | TP10 |  -7.155370 | 6.954152 | 41 | -21.199566 |  6.8888255 |\n",
       "| 9 | (aV1-gV5) - (gV1-aV5) | TP10 | -13.368918 | 7.077244 | 41 | -27.661702 |  0.9238671 |\n",
       "| 10 | Sham - (aV1-gV5)      | TP30 |   6.213547 | 7.077244 | 41 |  -8.079237 | 20.5063322 |\n",
       "| 11 | Sham - (gV1-aV5)      | TP30 |  -7.155370 | 6.954152 | 41 | -21.199566 |  6.8888255 |\n",
       "| 12 | (aV1-gV5) - (gV1-aV5) | TP30 | -13.368918 | 7.077244 | 41 | -27.661702 |  0.9238671 |\n",
       "\n",
       "\n",
       "\n",
       "\n"
      ],
      "text/plain": [
       "$`simple contrasts for TIMEP`\n",
       "GROUP = Sham:\n",
       " contrast    estimate   SE  df lower.CL upper.CL\n",
       " Bsl - TP0      5.797 1.65 129     2.54     9.05\n",
       " Bsl - TP10     6.146 1.65 129     2.89     9.40\n",
       " Bsl - TP30     7.418 1.65 129     4.16    10.67\n",
       " TP0 - TP10     0.349 1.65 129    -2.91     3.60\n",
       " TP0 - TP30     1.621 1.65 129    -1.63     4.88\n",
       " TP10 - TP30    1.272 1.65 129    -1.98     4.53\n",
       "\n",
       "GROUP = aV1-gV5:\n",
       " contrast    estimate   SE  df lower.CL upper.CL\n",
       " Bsl - TP0      5.797 1.65 129     2.54     9.05\n",
       " Bsl - TP10     6.146 1.65 129     2.89     9.40\n",
       " Bsl - TP30     7.418 1.65 129     4.16    10.67\n",
       " TP0 - TP10     0.349 1.65 129    -2.91     3.60\n",
       " TP0 - TP30     1.621 1.65 129    -1.63     4.88\n",
       " TP10 - TP30    1.272 1.65 129    -1.98     4.53\n",
       "\n",
       "GROUP = gV1-aV5:\n",
       " contrast    estimate   SE  df lower.CL upper.CL\n",
       " Bsl - TP0      5.797 1.65 129     2.54     9.05\n",
       " Bsl - TP10     6.146 1.65 129     2.89     9.40\n",
       " Bsl - TP30     7.418 1.65 129     4.16    10.67\n",
       " TP0 - TP10     0.349 1.65 129    -2.91     3.60\n",
       " TP0 - TP30     1.621 1.65 129    -1.63     4.88\n",
       " TP10 - TP30    1.272 1.65 129    -1.98     4.53\n",
       "\n",
       "Degrees-of-freedom method: kenward-roger \n",
       "Confidence level used: 0.95 \n",
       "\n",
       "$`simple contrasts for GROUP`\n",
       "TIMEP = Bsl:\n",
       " contrast              estimate   SE df lower.CL upper.CL\n",
       " Sham - (aV1-gV5)          6.21 7.08 41    -8.08   20.506\n",
       " Sham - (gV1-aV5)         -7.16 6.95 41   -21.20    6.889\n",
       " (aV1-gV5) - (gV1-aV5)   -13.37 7.08 41   -27.66    0.924\n",
       "\n",
       "TIMEP = TP0:\n",
       " contrast              estimate   SE df lower.CL upper.CL\n",
       " Sham - (aV1-gV5)          6.21 7.08 41    -8.08   20.506\n",
       " Sham - (gV1-aV5)         -7.16 6.95 41   -21.20    6.889\n",
       " (aV1-gV5) - (gV1-aV5)   -13.37 7.08 41   -27.66    0.924\n",
       "\n",
       "TIMEP = TP10:\n",
       " contrast              estimate   SE df lower.CL upper.CL\n",
       " Sham - (aV1-gV5)          6.21 7.08 41    -8.08   20.506\n",
       " Sham - (gV1-aV5)         -7.16 6.95 41   -21.20    6.889\n",
       " (aV1-gV5) - (gV1-aV5)   -13.37 7.08 41   -27.66    0.924\n",
       "\n",
       "TIMEP = TP30:\n",
       " contrast              estimate   SE df lower.CL upper.CL\n",
       " Sham - (aV1-gV5)          6.21 7.08 41    -8.08   20.506\n",
       " Sham - (gV1-aV5)         -7.16 6.95 41   -21.20    6.889\n",
       " (aV1-gV5) - (gV1-aV5)   -13.37 7.08 41   -27.66    0.924\n",
       "\n",
       "Degrees-of-freedom method: kenward-roger \n",
       "Confidence level used: 0.95 \n"
      ]
     },
     "metadata": {},
     "output_type": "display_data"
    },
    {
     "data": {
      "image/png": "[encoded data removed]",
      "text/plain": [
       "plot without title"
      ]
     },
     "metadata": {
      "image/png": {
       "height": 420,
       "width": 420
      }
     },
     "output_type": "display_data"
    }
   ],
   "source": [
    "### Raw dataset. Is the baseline different and comparable between groups? YESSSSS!\n",
    "\n",
    "library(simr)\n",
    "library(Matrix)\n",
    "library(lme4)\n",
    "library(emmeans)\n",
    "library(lattice)## LOADING AND INSPECTING THE DATA\n",
    "library(lmerTest) ## INFERENTIAL TESTS\n",
    "# install.packages('mice')\n",
    "library(mice)\n",
    "library(ggplot2)\n",
    "\n",
    "ndr <- read.table('II_Mixed_mod_All_Raw.txt',header=TRUE,sep='\\t')\n",
    "# ndr[45:88,]\n",
    "dim(ndr)\n",
    "\n",
    "## SIMPLE PLOTS\n",
    "plot(NDR~TIMEP,data=ndr,col=\"grey50\",pch=\"+\")\n",
    "# xyplot(NDR~TIMEP,groups=GROUP,data=ndr,pch=\"+\",cex=1.5)\n",
    "\n",
    "## TURN NUMERICAL VALUES INTO FACTOR/CATEGORICAL VARIABLES\n",
    "ndr$TIMEP <- factor(ndr$TIMEP)\n",
    "ndr$GROUP <- factor(ndr$GROUP)\n",
    "ndr$SUBJECT <- factor(ndr$SUBJECT)\n",
    "str(ndr)\n",
    "\n",
    "## RANDOM INTERCEPT MODEL\n",
    "ndr$TIMEP <- relevel(ndr$TIMEP,\"Bsl\")   # changed the intercept to TIMEP:TP0\n",
    "ndr$GROUP <- relevel(ndr$GROUP,\"Sham\")   # changed the intercept to GROUP:Sham\n",
    "mlm1 <- lmer(NDR ~ 1 + TIMEP + GROUP + (1|SUBJECT), data=ndr, REML=TRUE)#, na.action=\"na.fail\")\n",
    "summary(mlm1)\n",
    "emm = emmeans(mlm1, ~ TIMEP + GROUP, ddf=\"Kenward-Roger\")\n",
    "pairs(emm, simple='each', adjust=\"none\")\n",
    "confint(pairs(emm, simple='each', adjust=\"none\"))\n"
   ]
  },
  {
   "cell_type": "code",
   "execution_count": 84,
   "metadata": {},
   "outputs": [
    {
     "data": {
      "text/plain": [
       "Linear mixed model fit by REML. t-tests use Satterthwaite's method [\n",
       "lmerModLmerTest]\n",
       "Formula: NDR ~ 1 + TIMEP + GROUP * WPLIA + (1 | SUBJECT)\n",
       "   Data: ndr\n",
       "\n",
       "REML criterion at convergence: -58.7\n",
       "\n",
       "Scaled residuals: \n",
       "    Min      1Q  Median      3Q     Max \n",
       "-2.0621 -0.3314 -0.0333  0.3618  3.8453 \n",
       "\n",
       "Random effects:\n",
       " Groups   Name        Variance Std.Dev.\n",
       " SUBJECT  (Intercept) 0.003695 0.06079 \n",
       " Residual             0.016653 0.12905 \n",
       "Number of obs: 72, groups:  SUBJECT, 29\n",
       "\n",
       "Fixed effects:\n",
       "                   Estimate Std. Error       df t value Pr(>|t|)    \n",
       "(Intercept)         0.94273    0.12676 65.83496   7.437 2.73e-10 ***\n",
       "TIMEPTP10          -0.13833    0.03897 49.32241  -3.550 0.000858 ***\n",
       "TIMEPTP30          -0.18210    0.03661 47.91072  -4.974 8.84e-06 ***\n",
       "GROUPgV1-aV5       -0.34718    0.16636 64.60647  -2.087 0.040846 *  \n",
       "WPLIA               0.06165    0.12536 65.99989   0.492 0.624520    \n",
       "GROUPgV1-aV5:WPLIA  0.33871    0.16802 65.68951   2.016 0.047900 *  \n",
       "---\n",
       "Signif. codes:  0 ‘***’ 0.001 ‘**’ 0.01 ‘*’ 0.05 ‘.’ 0.1 ‘ ’ 1\n",
       "\n",
       "Correlation of Fixed Effects:\n",
       "            (Intr) TIMEPTP1 TIMEPTP3 GROUPgV1-V5 WPLIA \n",
       "TIMEPTP10   -0.274                                     \n",
       "TIMEPTP30   -0.218  0.427                              \n",
       "GROUPgV1-V5 -0.709  0.021    0.073                     \n",
       "WPLIA       -0.965  0.160    0.103    0.705            \n",
       "GROUPV1-V5:  0.699 -0.021   -0.084   -0.973      -0.733"
      ]
     },
     "metadata": {},
     "output_type": "display_data"
    },
    {
     "name": "stderr",
     "output_type": "stream",
     "text": [
      "Computing profile confidence intervals ...\n",
      "\n"
     ]
    },
    {
     "data": {
      "text/html": [
       "<table class=\"dataframe\">\n",
       "<caption>A matrix: 8 × 2 of type dbl</caption>\n",
       "<thead>\n",
       "\t<tr><th></th><th scope=col>2.5 %</th><th scope=col>97.5 %</th></tr>\n",
       "</thead>\n",
       "<tbody>\n",
       "\t<tr><th scope=row>.sig01</th><td> 0.00000000</td><td> 0.10002080</td></tr>\n",
       "\t<tr><th scope=row>.sigma</th><td> 0.10288371</td><td> 0.15423587</td></tr>\n",
       "\t<tr><th scope=row>(Intercept)</th><td> 0.70195616</td><td> 1.18410341</td></tr>\n",
       "\t<tr><th scope=row>TIMEPTP10</th><td>-0.21295135</td><td>-0.06316277</td></tr>\n",
       "\t<tr><th scope=row>TIMEPTP30</th><td>-0.25256607</td><td>-0.11176347</td></tr>\n",
       "\t<tr><th scope=row>GROUPgV1-aV5</th><td>-0.66647887</td><td>-0.03025611</td></tr>\n",
       "\t<tr><th scope=row>WPLIA</th><td>-0.17739780</td><td> 0.29976490</td></tr>\n",
       "\t<tr><th scope=row>GROUPgV1-aV5:WPLIA</th><td> 0.01868658</td><td> 0.66240191</td></tr>\n",
       "</tbody>\n",
       "</table>\n"
      ],
      "text/latex": [
       "A matrix: 8 × 2 of type dbl\n",
       "\\begin{tabular}{r|ll}\n",
       "  & 2.5 \\% & 97.5 \\%\\\\\n",
       "\\hline\n",
       "\t.sig01 &  0.00000000 &  0.10002080\\\\\n",
       "\t.sigma &  0.10288371 &  0.15423587\\\\\n",
       "\t(Intercept) &  0.70195616 &  1.18410341\\\\\n",
       "\tTIMEPTP10 & -0.21295135 & -0.06316277\\\\\n",
       "\tTIMEPTP30 & -0.25256607 & -0.11176347\\\\\n",
       "\tGROUPgV1-aV5 & -0.66647887 & -0.03025611\\\\\n",
       "\tWPLIA & -0.17739780 &  0.29976490\\\\\n",
       "\tGROUPgV1-aV5:WPLIA &  0.01868658 &  0.66240191\\\\\n",
       "\\end{tabular}\n"
      ],
      "text/markdown": [
       "\n",
       "A matrix: 8 × 2 of type dbl\n",
       "\n",
       "| <!--/--> | 2.5 % | 97.5 % |\n",
       "|---|---|---|\n",
       "| .sig01 |  0.00000000 |  0.10002080 |\n",
       "| .sigma |  0.10288371 |  0.15423587 |\n",
       "| (Intercept) |  0.70195616 |  1.18410341 |\n",
       "| TIMEPTP10 | -0.21295135 | -0.06316277 |\n",
       "| TIMEPTP30 | -0.25256607 | -0.11176347 |\n",
       "| GROUPgV1-aV5 | -0.66647887 | -0.03025611 |\n",
       "| WPLIA | -0.17739780 |  0.29976490 |\n",
       "| GROUPgV1-aV5:WPLIA |  0.01868658 |  0.66240191 |\n",
       "\n"
      ],
      "text/plain": [
       "                   2.5 %       97.5 %     \n",
       ".sig01              0.00000000  0.10002080\n",
       ".sigma              0.10288371  0.15423587\n",
       "(Intercept)         0.70195616  1.18410341\n",
       "TIMEPTP10          -0.21295135 -0.06316277\n",
       "TIMEPTP30          -0.25256607 -0.11176347\n",
       "GROUPgV1-aV5       -0.66647887 -0.03025611\n",
       "WPLIA              -0.17739780  0.29976490\n",
       "GROUPgV1-aV5:WPLIA  0.01868658  0.66240191"
      ]
     },
     "metadata": {},
     "output_type": "display_data"
    },
    {
     "data": {
      "text/html": [
       "<table class=\"dataframe\">\n",
       "<caption>A anova: 4 × 6</caption>\n",
       "<thead>\n",
       "\t<tr><th></th><th scope=col>Sum Sq</th><th scope=col>Mean Sq</th><th scope=col>NumDF</th><th scope=col>DenDF</th><th scope=col>F value</th><th scope=col>Pr(&gt;F)</th></tr>\n",
       "\t<tr><th></th><th scope=col>&lt;dbl&gt;</th><th scope=col>&lt;dbl&gt;</th><th scope=col>&lt;int&gt;</th><th scope=col>&lt;dbl&gt;</th><th scope=col>&lt;dbl&gt;</th><th scope=col>&lt;dbl&gt;</th></tr>\n",
       "</thead>\n",
       "<tbody>\n",
       "\t<tr><th scope=row>TIMEP</th><td>0.45350119</td><td>0.22675059</td><td>2</td><td>48.52196</td><td>13.615998</td><td>2.024423e-05</td></tr>\n",
       "\t<tr><th scope=row>GROUP</th><td>0.07252876</td><td>0.07252876</td><td>1</td><td>64.60647</td><td> 4.355232</td><td>4.084577e-02</td></tr>\n",
       "\t<tr><th scope=row>WPLIA</th><td>0.14399076</td><td>0.14399076</td><td>1</td><td>65.54380</td><td> 8.646407</td><td>4.523607e-03</td></tr>\n",
       "\t<tr><th scope=row>GROUP:WPLIA</th><td>0.06767890</td><td>0.06767890</td><td>1</td><td>65.68951</td><td> 4.064006</td><td>4.789977e-02</td></tr>\n",
       "</tbody>\n",
       "</table>\n"
      ],
      "text/latex": [
       "A anova: 4 × 6\n",
       "\\begin{tabular}{r|llllll}\n",
       "  & Sum Sq & Mean Sq & NumDF & DenDF & F value & Pr(>F)\\\\\n",
       "  & <dbl> & <dbl> & <int> & <dbl> & <dbl> & <dbl>\\\\\n",
       "\\hline\n",
       "\tTIMEP & 0.45350119 & 0.22675059 & 2 & 48.52196 & 13.615998 & 2.024423e-05\\\\\n",
       "\tGROUP & 0.07252876 & 0.07252876 & 1 & 64.60647 &  4.355232 & 4.084577e-02\\\\\n",
       "\tWPLIA & 0.14399076 & 0.14399076 & 1 & 65.54380 &  8.646407 & 4.523607e-03\\\\\n",
       "\tGROUP:WPLIA & 0.06767890 & 0.06767890 & 1 & 65.68951 &  4.064006 & 4.789977e-02\\\\\n",
       "\\end{tabular}\n"
      ],
      "text/markdown": [
       "\n",
       "A anova: 4 × 6\n",
       "\n",
       "| <!--/--> | Sum Sq &lt;dbl&gt; | Mean Sq &lt;dbl&gt; | NumDF &lt;int&gt; | DenDF &lt;dbl&gt; | F value &lt;dbl&gt; | Pr(&gt;F) &lt;dbl&gt; |\n",
       "|---|---|---|---|---|---|---|\n",
       "| TIMEP | 0.45350119 | 0.22675059 | 2 | 48.52196 | 13.615998 | 2.024423e-05 |\n",
       "| GROUP | 0.07252876 | 0.07252876 | 1 | 64.60647 |  4.355232 | 4.084577e-02 |\n",
       "| WPLIA | 0.14399076 | 0.14399076 | 1 | 65.54380 |  8.646407 | 4.523607e-03 |\n",
       "| GROUP:WPLIA | 0.06767890 | 0.06767890 | 1 | 65.68951 |  4.064006 | 4.789977e-02 |\n",
       "\n"
      ],
      "text/plain": [
       "            Sum Sq     Mean Sq    NumDF DenDF    F value   Pr(>F)      \n",
       "TIMEP       0.45350119 0.22675059 2     48.52196 13.615998 2.024423e-05\n",
       "GROUP       0.07252876 0.07252876 1     64.60647  4.355232 4.084577e-02\n",
       "WPLIA       0.14399076 0.14399076 1     65.54380  8.646407 4.523607e-03\n",
       "GROUP:WPLIA 0.06767890 0.06767890 1     65.68951  4.064006 4.789977e-02"
      ]
     },
     "metadata": {},
     "output_type": "display_data"
    },
    {
     "data": {
      "image/png": "[encoded data removed]",
      "text/plain": [
       "plot without title"
      ]
     },
     "metadata": {
      "image/png": {
       "height": 420,
       "width": 420
      }
     },
     "output_type": "display_data"
    }
   ],
   "source": [
    "### Difference between Verum groups\n",
    "\n",
    "library(sjPlot)\n",
    "library(ggplot2)\n",
    "\n",
    "set_theme(\n",
    "  axis.title.size = 2,\n",
    "  axis.textsize = 1.5,\n",
    "  legend.size = 2,\n",
    "  title.size = 2, \n",
    "  base = theme_bw()\n",
    ")\n",
    "\n",
    "ndr <- read.table('II_Mixed_mod_Prepro.txt',header=TRUE,sep='\\t')\n",
    "\n",
    "ndr$GROUP <- relevel(ndr$GROUP,\"aV1-gV5\")   # changed the intercept to GROUP\n",
    "ndr$TIMEP <- relevel(ndr$TIMEP,\"Bsl\")   # changed the intercept to GROUP\n",
    "ndr <- ndr[!(ndr$GROUP==\"Sham\"),] # drop all data from Sham\n",
    "\n",
    "mlm4 <- lmer(NDR ~ 1 + TIMEP+GROUP*WPLIA + (1|SUBJECT), data=ndr, REML=TRUE)#, na.action=\"na.fail\")\n",
    "summary(mlm4)\n",
    "confint(mlm4)\n",
    "anova(mlm4, type=2)\n",
    "plot_model(mlm4, type = \"pred\", terms = c(\"WPLIA\", \"GROUP\"))"
   ]
  },
  {
   "cell_type": "code",
   "execution_count": 90,
   "metadata": {},
   "outputs": [
    {
     "name": "stderr",
     "output_type": "stream",
     "text": [
      "Scale for 'y' is already present. Adding another scale for 'y', which will\n",
      "replace the existing scale.\n",
      "\n",
      "Warning message:\n",
      "“Removed 5 rows containing missing values (geom_point).”\n",
      "Warning message:\n",
      "“Removed 6 row(s) containing missing values (geom_path).”\n",
      "Warning message:\n",
      "“Removed 5 rows containing missing values (geom_point).”\n",
      "Warning message:\n",
      "“Removed 6 row(s) containing missing values (geom_path).”\n"
     ]
    },
    {
     "data": {
      "image/png": "[encoded data removed]",
      "text/plain": [
       "plot without title"
      ]
     },
     "metadata": {
      "image/png": {
       "height": 420,
       "width": 420
      }
     },
     "output_type": "display_data"
    }
   ],
   "source": [
    "### Correlation graphs 2 Verum groups against each other\n",
    "\n",
    "# install.packages('effects')\n",
    "library(sjPlot)\n",
    "library(ggplot2)\n",
    "\n",
    "set_theme(\n",
    "  axis.title.size = 2,\n",
    "  axis.textsize = 1.5,\n",
    "  legend.size = 2,\n",
    "  title.size = 2, \n",
    "  base = theme_bw()\n",
    ")\n",
    "plot_model(mlm4, type = \"eff\", show.data = T, terms = c('WPLIA','GROUP'), axis.lim= list(c(0.5,1.5), c(0.5, 1.3)))#,'TIMEP'))\n",
    "ggsave('WPLIA_2Groups.png', plot = last_plot(), scale = 1, width = 20, height = 10, units = c('cm'), dpi = 300, limitsize = TRUE)"
   ]
  },
  {
   "cell_type": "code",
   "execution_count": 21,
   "metadata": {},
   "outputs": [
    {
     "data": {
      "text/html": [
       "<style>\n",
       ".list-inline {list-style: none; margin:0; padding: 0}\n",
       ".list-inline>li {display: inline-block}\n",
       ".list-inline>li:not(:last-child)::after {content: \"\\00b7\"; padding: 0 .5ex}\n",
       "</style>\n",
       "<ol class=list-inline><li>'aV1-gV5'</li><li>'gV1-aV5'</li><li>'Sham'</li></ol>\n"
      ],
      "text/latex": [
       "\\begin{enumerate*}\n",
       "\\item 'aV1-gV5'\n",
       "\\item 'gV1-aV5'\n",
       "\\item 'Sham'\n",
       "\\end{enumerate*}\n"
      ],
      "text/markdown": [
       "1. 'aV1-gV5'\n",
       "2. 'gV1-aV5'\n",
       "3. 'Sham'\n",
       "\n",
       "\n"
      ],
      "text/plain": [
       "[1] \"aV1-gV5\" \"gV1-aV5\" \"Sham\"   "
      ]
     },
     "metadata": {},
     "output_type": "display_data"
    },
    {
     "data": {
      "text/html": [
       "<style>\n",
       ".list-inline {list-style: none; margin:0; padding: 0}\n",
       ".list-inline>li {display: inline-block}\n",
       ".list-inline>li:not(:last-child)::after {content: \"\\00b7\"; padding: 0 .5ex}\n",
       "</style>\n",
       "<ol class=list-inline><li>'Verum'</li><li>'Sham'</li></ol>\n"
      ],
      "text/latex": [
       "\\begin{enumerate*}\n",
       "\\item 'Verum'\n",
       "\\item 'Sham'\n",
       "\\end{enumerate*}\n"
      ],
      "text/markdown": [
       "1. 'Verum'\n",
       "2. 'Sham'\n",
       "\n",
       "\n"
      ],
      "text/plain": [
       "[1] \"Verum\" \"Sham\" "
      ]
     },
     "metadata": {},
     "output_type": "display_data"
    },
    {
     "name": "stderr",
     "output_type": "stream",
     "text": [
      "Warning message:\n",
      "“Removed 22 rows containing non-finite values (stat_summary).”\n",
      "Warning message:\n",
      "“Removed 22 rows containing non-finite values (stat_compare_means).”\n"
     ]
    },
    {
     "data": {
      "text/plain": [
       "Linear mixed model fit by REML. t-tests use Satterthwaite's method [\n",
       "lmerModLmerTest]\n",
       "Formula: NDR ~ 1 + TIMEP + GROUP * WPLIG + (1 | SUBJECT)\n",
       "   Data: ndr\n",
       "\n",
       "REML criterion at convergence: -67.7\n",
       "\n",
       "Scaled residuals: \n",
       "    Min      1Q  Median      3Q     Max \n",
       "-2.0671 -0.4631  0.0291  0.4476  3.8079 \n",
       "\n",
       "Random effects:\n",
       " Groups   Name        Variance Std.Dev.\n",
       " SUBJECT  (Intercept) 0.006409 0.08006 \n",
       " Residual             0.021576 0.14689 \n",
       "Number of obs: 111, groups:  SUBJECT, 44\n",
       "\n",
       "Fixed effects:\n",
       "                 Estimate Std. Error        df t value Pr(>|t|)    \n",
       "(Intercept)       0.55965    0.17071 102.57557   3.278 0.001426 ** \n",
       "TIMEPTP10        -0.10262    0.03511  74.58875  -2.923 0.004588 ** \n",
       "TIMEPTP30        -0.12621    0.03405  73.76832  -3.706 0.000404 ***\n",
       "GROUPSham         0.93329    0.21514 103.30805   4.338 3.35e-05 ***\n",
       "WPLIG             0.41563    0.16963 101.97689   2.450 0.015981 *  \n",
       "GROUPSham:WPLIG  -0.86080    0.21304 101.75674  -4.041 0.000104 ***\n",
       "---\n",
       "Signif. codes:  0 ‘***’ 0.001 ‘**’ 0.01 ‘*’ 0.05 ‘.’ 0.1 ‘ ’ 1\n",
       "\n",
       "Correlation of Fixed Effects:\n",
       "            (Intr) TIMEPTP1 TIMEPTP3 GROUPSh WPLIG \n",
       "TIMEPTP10   -0.283                                 \n",
       "TIMEPTP30   -0.100  0.420                          \n",
       "GROUPSham   -0.776  0.163    0.053                 \n",
       "WPLIG       -0.986  0.207    0.015    0.770        \n",
       "GROUPS:WPLI  0.787 -0.177   -0.052   -0.983  -0.796"
      ]
     },
     "metadata": {},
     "output_type": "display_data"
    },
    {
     "name": "stderr",
     "output_type": "stream",
     "text": [
      "Computing profile confidence intervals ...\n",
      "\n"
     ]
    },
    {
     "data": {
      "text/html": [
       "<table class=\"dataframe\">\n",
       "<caption>A matrix: 8 × 2 of type dbl</caption>\n",
       "<thead>\n",
       "\t<tr><th></th><th scope=col>2.5 %</th><th scope=col>97.5 %</th></tr>\n",
       "</thead>\n",
       "<tbody>\n",
       "\t<tr><th scope=row>.sig01</th><td> 0.02567752</td><td> 0.11781456</td></tr>\n",
       "\t<tr><th scope=row>.sigma</th><td> 0.12253681</td><td> 0.17032649</td></tr>\n",
       "\t<tr><th scope=row>(Intercept)</th><td> 0.23050733</td><td> 0.88782206</td></tr>\n",
       "\t<tr><th scope=row>TIMEPTP10</th><td>-0.17030955</td><td>-0.03440432</td></tr>\n",
       "\t<tr><th scope=row>TIMEPTP30</th><td>-0.19182245</td><td>-0.05995758</td></tr>\n",
       "\t<tr><th scope=row>GROUPSham</th><td> 0.51890867</td><td> 1.35157766</td></tr>\n",
       "\t<tr><th scope=row>WPLIG</th><td> 0.08947498</td><td> 0.74261019</td></tr>\n",
       "\t<tr><th scope=row>GROUPSham:WPLIG</th><td>-1.27453727</td><td>-0.45090340</td></tr>\n",
       "</tbody>\n",
       "</table>\n"
      ],
      "text/latex": [
       "A matrix: 8 × 2 of type dbl\n",
       "\\begin{tabular}{r|ll}\n",
       "  & 2.5 \\% & 97.5 \\%\\\\\n",
       "\\hline\n",
       "\t.sig01 &  0.02567752 &  0.11781456\\\\\n",
       "\t.sigma &  0.12253681 &  0.17032649\\\\\n",
       "\t(Intercept) &  0.23050733 &  0.88782206\\\\\n",
       "\tTIMEPTP10 & -0.17030955 & -0.03440432\\\\\n",
       "\tTIMEPTP30 & -0.19182245 & -0.05995758\\\\\n",
       "\tGROUPSham &  0.51890867 &  1.35157766\\\\\n",
       "\tWPLIG &  0.08947498 &  0.74261019\\\\\n",
       "\tGROUPSham:WPLIG & -1.27453727 & -0.45090340\\\\\n",
       "\\end{tabular}\n"
      ],
      "text/markdown": [
       "\n",
       "A matrix: 8 × 2 of type dbl\n",
       "\n",
       "| <!--/--> | 2.5 % | 97.5 % |\n",
       "|---|---|---|\n",
       "| .sig01 |  0.02567752 |  0.11781456 |\n",
       "| .sigma |  0.12253681 |  0.17032649 |\n",
       "| (Intercept) |  0.23050733 |  0.88782206 |\n",
       "| TIMEPTP10 | -0.17030955 | -0.03440432 |\n",
       "| TIMEPTP30 | -0.19182245 | -0.05995758 |\n",
       "| GROUPSham |  0.51890867 |  1.35157766 |\n",
       "| WPLIG |  0.08947498 |  0.74261019 |\n",
       "| GROUPSham:WPLIG | -1.27453727 | -0.45090340 |\n",
       "\n"
      ],
      "text/plain": [
       "                2.5 %       97.5 %     \n",
       ".sig01           0.02567752  0.11781456\n",
       ".sigma           0.12253681  0.17032649\n",
       "(Intercept)      0.23050733  0.88782206\n",
       "TIMEPTP10       -0.17030955 -0.03440432\n",
       "TIMEPTP30       -0.19182245 -0.05995758\n",
       "GROUPSham        0.51890867  1.35157766\n",
       "WPLIG            0.08947498  0.74261019\n",
       "GROUPSham:WPLIG -1.27453727 -0.45090340"
      ]
     },
     "metadata": {},
     "output_type": "display_data"
    },
    {
     "data": {
      "text/html": [
       "<table class=\"dataframe\">\n",
       "<caption>A anova: 4 × 6</caption>\n",
       "<thead>\n",
       "\t<tr><th></th><th scope=col>Sum Sq</th><th scope=col>Mean Sq</th><th scope=col>NumDF</th><th scope=col>DenDF</th><th scope=col>F value</th><th scope=col>Pr(&gt;F)</th></tr>\n",
       "\t<tr><th></th><th scope=col>&lt;dbl&gt;</th><th scope=col>&lt;dbl&gt;</th><th scope=col>&lt;int&gt;</th><th scope=col>&lt;dbl&gt;</th><th scope=col>&lt;dbl&gt;</th><th scope=col>&lt;dbl&gt;</th></tr>\n",
       "</thead>\n",
       "<tbody>\n",
       "\t<tr><th scope=row>TIMEP</th><td>0.3453402</td><td>0.1726701</td><td>2</td><td> 74.54516</td><td> 8.002972</td><td>7.102725e-04</td></tr>\n",
       "\t<tr><th scope=row>GROUP</th><td>0.4060465</td><td>0.4060465</td><td>1</td><td>103.30805</td><td>18.819583</td><td>3.352981e-05</td></tr>\n",
       "\t<tr><th scope=row>WPLIG</th><td>0.0335297</td><td>0.0335297</td><td>1</td><td>102.06516</td><td> 1.554046</td><td>2.153926e-01</td></tr>\n",
       "\t<tr><th scope=row>GROUP:WPLIG</th><td>0.3522445</td><td>0.3522445</td><td>1</td><td>101.75674</td><td>16.325947</td><td>1.037002e-04</td></tr>\n",
       "</tbody>\n",
       "</table>\n"
      ],
      "text/latex": [
       "A anova: 4 × 6\n",
       "\\begin{tabular}{r|llllll}\n",
       "  & Sum Sq & Mean Sq & NumDF & DenDF & F value & Pr(>F)\\\\\n",
       "  & <dbl> & <dbl> & <int> & <dbl> & <dbl> & <dbl>\\\\\n",
       "\\hline\n",
       "\tTIMEP & 0.3453402 & 0.1726701 & 2 &  74.54516 &  8.002972 & 7.102725e-04\\\\\n",
       "\tGROUP & 0.4060465 & 0.4060465 & 1 & 103.30805 & 18.819583 & 3.352981e-05\\\\\n",
       "\tWPLIG & 0.0335297 & 0.0335297 & 1 & 102.06516 &  1.554046 & 2.153926e-01\\\\\n",
       "\tGROUP:WPLIG & 0.3522445 & 0.3522445 & 1 & 101.75674 & 16.325947 & 1.037002e-04\\\\\n",
       "\\end{tabular}\n"
      ],
      "text/markdown": [
       "\n",
       "A anova: 4 × 6\n",
       "\n",
       "| <!--/--> | Sum Sq &lt;dbl&gt; | Mean Sq &lt;dbl&gt; | NumDF &lt;int&gt; | DenDF &lt;dbl&gt; | F value &lt;dbl&gt; | Pr(&gt;F) &lt;dbl&gt; |\n",
       "|---|---|---|---|---|---|---|\n",
       "| TIMEP | 0.3453402 | 0.1726701 | 2 |  74.54516 |  8.002972 | 7.102725e-04 |\n",
       "| GROUP | 0.4060465 | 0.4060465 | 1 | 103.30805 | 18.819583 | 3.352981e-05 |\n",
       "| WPLIG | 0.0335297 | 0.0335297 | 1 | 102.06516 |  1.554046 | 2.153926e-01 |\n",
       "| GROUP:WPLIG | 0.3522445 | 0.3522445 | 1 | 101.75674 | 16.325947 | 1.037002e-04 |\n",
       "\n"
      ],
      "text/plain": [
       "            Sum Sq    Mean Sq   NumDF DenDF     F value   Pr(>F)      \n",
       "TIMEP       0.3453402 0.1726701 2      74.54516  8.002972 7.102725e-04\n",
       "GROUP       0.4060465 0.4060465 1     103.30805 18.819583 3.352981e-05\n",
       "WPLIG       0.0335297 0.0335297 1     102.06516  1.554046 2.153926e-01\n",
       "GROUP:WPLIG 0.3522445 0.3522445 1     101.75674 16.325947 1.037002e-04"
      ]
     },
     "metadata": {},
     "output_type": "display_data"
    },
    {
     "data": {
      "text/plain": [
       "$`simple contrasts for TIMEP`\n",
       "GROUP = Verum:\n",
       " contrast    estimate     SE   df t.ratio p.value\n",
       " Bsl - TP10    0.1026 0.0352 71.3 2.914   0.0048 \n",
       " Bsl - TP30    0.1262 0.0341 70.4 3.697   0.0004 \n",
       " TP10 - TP30   0.0236 0.0374 72.2 0.631   0.5303 \n",
       "\n",
       "GROUP = Sham:\n",
       " contrast    estimate     SE   df t.ratio p.value\n",
       " Bsl - TP10    0.1026 0.0352 71.3 2.914   0.0048 \n",
       " Bsl - TP30    0.1262 0.0341 70.4 3.697   0.0004 \n",
       " TP10 - TP30   0.0236 0.0374 72.2 0.631   0.5303 \n",
       "\n",
       "Degrees-of-freedom method: kenward-roger \n",
       "\n",
       "$`simple contrasts for GROUP`\n",
       "TIMEP = Bsl:\n",
       " contrast     estimate     SE   df t.ratio p.value\n",
       " Verum - Sham  -0.0787 0.0394 39.8 -1.998  0.0526 \n",
       "\n",
       "TIMEP = TP10:\n",
       " contrast     estimate     SE   df t.ratio p.value\n",
       " Verum - Sham  -0.0787 0.0394 39.8 -1.998  0.0526 \n",
       "\n",
       "TIMEP = TP30:\n",
       " contrast     estimate     SE   df t.ratio p.value\n",
       " Verum - Sham  -0.0787 0.0394 39.8 -1.998  0.0526 \n",
       "\n",
       "Degrees-of-freedom method: kenward-roger \n"
      ]
     },
     "metadata": {},
     "output_type": "display_data"
    },
    {
     "data": {
      "text/html": [
       "<dl>\n",
       "\t<dt>$`simple contrasts for TIMEP`</dt>\n",
       "\t\t<dd><table class=\"dataframe\">\n",
       "<caption>A summary_emm: 6 × 7</caption>\n",
       "<thead>\n",
       "\t<tr><th></th><th scope=col>contrast</th><th scope=col>GROUP</th><th scope=col>estimate</th><th scope=col>SE</th><th scope=col>df</th><th scope=col>lower.CL</th><th scope=col>upper.CL</th></tr>\n",
       "\t<tr><th></th><th scope=col>&lt;fct&gt;</th><th scope=col>&lt;fct&gt;</th><th scope=col>&lt;dbl&gt;</th><th scope=col>&lt;dbl&gt;</th><th scope=col>&lt;dbl&gt;</th><th scope=col>&lt;dbl&gt;</th><th scope=col>&lt;dbl&gt;</th></tr>\n",
       "</thead>\n",
       "<tbody>\n",
       "\t<tr><th scope=row>1</th><td>Bsl - TP10 </td><td>Verum</td><td>0.10262308</td><td>0.03521946</td><td>71.28469</td><td> 0.03240233</td><td>0.17284384</td></tr>\n",
       "\t<tr><th scope=row>2</th><td>Bsl - TP30 </td><td>Verum</td><td>0.12620620</td><td>0.03413419</td><td>70.41645</td><td> 0.05813477</td><td>0.19427762</td></tr>\n",
       "\t<tr><th scope=row>3</th><td>TP10 - TP30</td><td>Verum</td><td>0.02358311</td><td>0.03740090</td><td>72.22189</td><td>-0.05097032</td><td>0.09813654</td></tr>\n",
       "\t<tr><th scope=row>4</th><td>Bsl - TP10 </td><td>Sham </td><td>0.10262308</td><td>0.03521946</td><td>71.28469</td><td> 0.03240233</td><td>0.17284384</td></tr>\n",
       "\t<tr><th scope=row>5</th><td>Bsl - TP30 </td><td>Sham </td><td>0.12620620</td><td>0.03413419</td><td>70.41645</td><td> 0.05813477</td><td>0.19427762</td></tr>\n",
       "\t<tr><th scope=row>6</th><td>TP10 - TP30</td><td>Sham </td><td>0.02358311</td><td>0.03740090</td><td>72.22189</td><td>-0.05097032</td><td>0.09813654</td></tr>\n",
       "</tbody>\n",
       "</table>\n",
       "</dd>\n",
       "\t<dt>$`simple contrasts for GROUP`</dt>\n",
       "\t\t<dd><table class=\"dataframe\">\n",
       "<caption>A summary_emm: 3 × 7</caption>\n",
       "<thead>\n",
       "\t<tr><th></th><th scope=col>contrast</th><th scope=col>TIMEP</th><th scope=col>estimate</th><th scope=col>SE</th><th scope=col>df</th><th scope=col>lower.CL</th><th scope=col>upper.CL</th></tr>\n",
       "\t<tr><th></th><th scope=col>&lt;fct&gt;</th><th scope=col>&lt;fct&gt;</th><th scope=col>&lt;dbl&gt;</th><th scope=col>&lt;dbl&gt;</th><th scope=col>&lt;dbl&gt;</th><th scope=col>&lt;dbl&gt;</th><th scope=col>&lt;dbl&gt;</th></tr>\n",
       "</thead>\n",
       "<tbody>\n",
       "\t<tr><th scope=row>1</th><td>Verum - Sham</td><td>Bsl </td><td>-0.07872659</td><td>0.03940385</td><td>39.78534</td><td>-0.1583781</td><td>0.0009249465</td></tr>\n",
       "\t<tr><th scope=row>2</th><td>Verum - Sham</td><td>TP10</td><td>-0.07872659</td><td>0.03940385</td><td>39.78534</td><td>-0.1583781</td><td>0.0009249465</td></tr>\n",
       "\t<tr><th scope=row>3</th><td>Verum - Sham</td><td>TP30</td><td>-0.07872659</td><td>0.03940385</td><td>39.78534</td><td>-0.1583781</td><td>0.0009249465</td></tr>\n",
       "</tbody>\n",
       "</table>\n",
       "</dd>\n",
       "</dl>\n"
      ],
      "text/latex": [
       "\\begin{description}\n",
       "\\item[\\$`simple contrasts for TIMEP`] A summary\\_emm: 6 × 7\n",
       "\\begin{tabular}{r|lllllll}\n",
       "  & contrast & GROUP & estimate & SE & df & lower.CL & upper.CL\\\\\n",
       "  & <fct> & <fct> & <dbl> & <dbl> & <dbl> & <dbl> & <dbl>\\\\\n",
       "\\hline\n",
       "\t1 & Bsl - TP10  & Verum & 0.10262308 & 0.03521946 & 71.28469 &  0.03240233 & 0.17284384\\\\\n",
       "\t2 & Bsl - TP30  & Verum & 0.12620620 & 0.03413419 & 70.41645 &  0.05813477 & 0.19427762\\\\\n",
       "\t3 & TP10 - TP30 & Verum & 0.02358311 & 0.03740090 & 72.22189 & -0.05097032 & 0.09813654\\\\\n",
       "\t4 & Bsl - TP10  & Sham  & 0.10262308 & 0.03521946 & 71.28469 &  0.03240233 & 0.17284384\\\\\n",
       "\t5 & Bsl - TP30  & Sham  & 0.12620620 & 0.03413419 & 70.41645 &  0.05813477 & 0.19427762\\\\\n",
       "\t6 & TP10 - TP30 & Sham  & 0.02358311 & 0.03740090 & 72.22189 & -0.05097032 & 0.09813654\\\\\n",
       "\\end{tabular}\n",
       "\n",
       "\\item[\\$`simple contrasts for GROUP`] A summary\\_emm: 3 × 7\n",
       "\\begin{tabular}{r|lllllll}\n",
       "  & contrast & TIMEP & estimate & SE & df & lower.CL & upper.CL\\\\\n",
       "  & <fct> & <fct> & <dbl> & <dbl> & <dbl> & <dbl> & <dbl>\\\\\n",
       "\\hline\n",
       "\t1 & Verum - Sham & Bsl  & -0.07872659 & 0.03940385 & 39.78534 & -0.1583781 & 0.0009249465\\\\\n",
       "\t2 & Verum - Sham & TP10 & -0.07872659 & 0.03940385 & 39.78534 & -0.1583781 & 0.0009249465\\\\\n",
       "\t3 & Verum - Sham & TP30 & -0.07872659 & 0.03940385 & 39.78534 & -0.1583781 & 0.0009249465\\\\\n",
       "\\end{tabular}\n",
       "\n",
       "\\end{description}\n"
      ],
      "text/markdown": [
       "$`simple contrasts for TIMEP`\n",
       ":   \n",
       "A summary_emm: 6 × 7\n",
       "\n",
       "| <!--/--> | contrast &lt;fct&gt; | GROUP &lt;fct&gt; | estimate &lt;dbl&gt; | SE &lt;dbl&gt; | df &lt;dbl&gt; | lower.CL &lt;dbl&gt; | upper.CL &lt;dbl&gt; |\n",
       "|---|---|---|---|---|---|---|---|\n",
       "| 1 | Bsl - TP10  | Verum | 0.10262308 | 0.03521946 | 71.28469 |  0.03240233 | 0.17284384 |\n",
       "| 2 | Bsl - TP30  | Verum | 0.12620620 | 0.03413419 | 70.41645 |  0.05813477 | 0.19427762 |\n",
       "| 3 | TP10 - TP30 | Verum | 0.02358311 | 0.03740090 | 72.22189 | -0.05097032 | 0.09813654 |\n",
       "| 4 | Bsl - TP10  | Sham  | 0.10262308 | 0.03521946 | 71.28469 |  0.03240233 | 0.17284384 |\n",
       "| 5 | Bsl - TP30  | Sham  | 0.12620620 | 0.03413419 | 70.41645 |  0.05813477 | 0.19427762 |\n",
       "| 6 | TP10 - TP30 | Sham  | 0.02358311 | 0.03740090 | 72.22189 | -0.05097032 | 0.09813654 |\n",
       "\n",
       "\n",
       "$`simple contrasts for GROUP`\n",
       ":   \n",
       "A summary_emm: 3 × 7\n",
       "\n",
       "| <!--/--> | contrast &lt;fct&gt; | TIMEP &lt;fct&gt; | estimate &lt;dbl&gt; | SE &lt;dbl&gt; | df &lt;dbl&gt; | lower.CL &lt;dbl&gt; | upper.CL &lt;dbl&gt; |\n",
       "|---|---|---|---|---|---|---|---|\n",
       "| 1 | Verum - Sham | Bsl  | -0.07872659 | 0.03940385 | 39.78534 | -0.1583781 | 0.0009249465 |\n",
       "| 2 | Verum - Sham | TP10 | -0.07872659 | 0.03940385 | 39.78534 | -0.1583781 | 0.0009249465 |\n",
       "| 3 | Verum - Sham | TP30 | -0.07872659 | 0.03940385 | 39.78534 | -0.1583781 | 0.0009249465 |\n",
       "\n",
       "\n",
       "\n",
       "\n"
      ],
      "text/plain": [
       "$`simple contrasts for TIMEP`\n",
       "GROUP = Verum:\n",
       " contrast    estimate     SE   df lower.CL upper.CL\n",
       " Bsl - TP10    0.1026 0.0352 71.3   0.0324   0.1728\n",
       " Bsl - TP30    0.1262 0.0341 70.4   0.0581   0.1943\n",
       " TP10 - TP30   0.0236 0.0374 72.2  -0.0510   0.0981\n",
       "\n",
       "GROUP = Sham:\n",
       " contrast    estimate     SE   df lower.CL upper.CL\n",
       " Bsl - TP10    0.1026 0.0352 71.3   0.0324   0.1728\n",
       " Bsl - TP30    0.1262 0.0341 70.4   0.0581   0.1943\n",
       " TP10 - TP30   0.0236 0.0374 72.2  -0.0510   0.0981\n",
       "\n",
       "Degrees-of-freedom method: kenward-roger \n",
       "Confidence level used: 0.95 \n",
       "\n",
       "$`simple contrasts for GROUP`\n",
       "TIMEP = Bsl:\n",
       " contrast     estimate     SE   df lower.CL upper.CL\n",
       " Verum - Sham  -0.0787 0.0394 39.8   -0.158 0.000925\n",
       "\n",
       "TIMEP = TP10:\n",
       " contrast     estimate     SE   df lower.CL upper.CL\n",
       " Verum - Sham  -0.0787 0.0394 39.8   -0.158 0.000925\n",
       "\n",
       "TIMEP = TP30:\n",
       " contrast     estimate     SE   df lower.CL upper.CL\n",
       " Verum - Sham  -0.0787 0.0394 39.8   -0.158 0.000925\n",
       "\n",
       "Degrees-of-freedom method: kenward-roger \n",
       "Confidence level used: 0.95 \n"
      ]
     },
     "metadata": {},
     "output_type": "display_data"
    },
    {
     "data": {
      "text/html": [
       "<table class=\"dataframe\">\n",
       "<caption>A data.frame: 8 × 7</caption>\n",
       "<thead>\n",
       "\t<tr><th scope=col>GROUP</th><th scope=col>TIMEP</th><th scope=col>N</th><th scope=col>NDR</th><th scope=col>sd</th><th scope=col>se</th><th scope=col>ci</th></tr>\n",
       "\t<tr><th scope=col>&lt;fct&gt;</th><th scope=col>&lt;fct&gt;</th><th scope=col>&lt;dbl&gt;</th><th scope=col>&lt;dbl&gt;</th><th scope=col>&lt;dbl&gt;</th><th scope=col>&lt;dbl&gt;</th><th scope=col>&lt;dbl&gt;</th></tr>\n",
       "</thead>\n",
       "<tbody>\n",
       "\t<tr><td>Verum</td><td>Bsl </td><td>29</td><td>1.0000000</td><td>0.0000000</td><td>0.00000000</td><td>0.00000000</td></tr>\n",
       "\t<tr><td>Verum</td><td>TP0 </td><td>29</td><td>0.8841769</td><td>0.2139038</td><td>0.03972093</td><td>0.08136465</td></tr>\n",
       "\t<tr><td>Verum</td><td>TP10</td><td>20</td><td>0.8394572</td><td>0.2204343</td><td>0.04929060</td><td>0.10316641</td></tr>\n",
       "\t<tr><td>Verum</td><td>TP30</td><td>23</td><td>0.8169281</td><td>0.1806023</td><td>0.03765818</td><td>0.07809829</td></tr>\n",
       "\t<tr><td>Sham </td><td>Bsl </td><td>15</td><td>1.0000000</td><td>0.0000000</td><td>0.00000000</td><td>0.00000000</td></tr>\n",
       "\t<tr><td>Sham </td><td>TP0 </td><td>15</td><td>0.9030615</td><td>0.2317670</td><td>0.05984198</td><td>0.12834827</td></tr>\n",
       "\t<tr><td>Sham </td><td>TP10</td><td>13</td><td>0.9509429</td><td>0.3052209</td><td>0.08465304</td><td>0.18444313</td></tr>\n",
       "\t<tr><td>Sham </td><td>TP30</td><td>11</td><td>0.9778468</td><td>0.2445023</td><td>0.07372022</td><td>0.16425889</td></tr>\n",
       "</tbody>\n",
       "</table>\n"
      ],
      "text/latex": [
       "A data.frame: 8 × 7\n",
       "\\begin{tabular}{lllllll}\n",
       " GROUP & TIMEP & N & NDR & sd & se & ci\\\\\n",
       " <fct> & <fct> & <dbl> & <dbl> & <dbl> & <dbl> & <dbl>\\\\\n",
       "\\hline\n",
       "\t Verum & Bsl  & 29 & 1.0000000 & 0.0000000 & 0.00000000 & 0.00000000\\\\\n",
       "\t Verum & TP0  & 29 & 0.8841769 & 0.2139038 & 0.03972093 & 0.08136465\\\\\n",
       "\t Verum & TP10 & 20 & 0.8394572 & 0.2204343 & 0.04929060 & 0.10316641\\\\\n",
       "\t Verum & TP30 & 23 & 0.8169281 & 0.1806023 & 0.03765818 & 0.07809829\\\\\n",
       "\t Sham  & Bsl  & 15 & 1.0000000 & 0.0000000 & 0.00000000 & 0.00000000\\\\\n",
       "\t Sham  & TP0  & 15 & 0.9030615 & 0.2317670 & 0.05984198 & 0.12834827\\\\\n",
       "\t Sham  & TP10 & 13 & 0.9509429 & 0.3052209 & 0.08465304 & 0.18444313\\\\\n",
       "\t Sham  & TP30 & 11 & 0.9778468 & 0.2445023 & 0.07372022 & 0.16425889\\\\\n",
       "\\end{tabular}\n"
      ],
      "text/markdown": [
       "\n",
       "A data.frame: 8 × 7\n",
       "\n",
       "| GROUP &lt;fct&gt; | TIMEP &lt;fct&gt; | N &lt;dbl&gt; | NDR &lt;dbl&gt; | sd &lt;dbl&gt; | se &lt;dbl&gt; | ci &lt;dbl&gt; |\n",
       "|---|---|---|---|---|---|---|\n",
       "| Verum | Bsl  | 29 | 1.0000000 | 0.0000000 | 0.00000000 | 0.00000000 |\n",
       "| Verum | TP0  | 29 | 0.8841769 | 0.2139038 | 0.03972093 | 0.08136465 |\n",
       "| Verum | TP10 | 20 | 0.8394572 | 0.2204343 | 0.04929060 | 0.10316641 |\n",
       "| Verum | TP30 | 23 | 0.8169281 | 0.1806023 | 0.03765818 | 0.07809829 |\n",
       "| Sham  | Bsl  | 15 | 1.0000000 | 0.0000000 | 0.00000000 | 0.00000000 |\n",
       "| Sham  | TP0  | 15 | 0.9030615 | 0.2317670 | 0.05984198 | 0.12834827 |\n",
       "| Sham  | TP10 | 13 | 0.9509429 | 0.3052209 | 0.08465304 | 0.18444313 |\n",
       "| Sham  | TP30 | 11 | 0.9778468 | 0.2445023 | 0.07372022 | 0.16425889 |\n",
       "\n"
      ],
      "text/plain": [
       "  GROUP TIMEP N  NDR       sd        se         ci        \n",
       "1 Verum Bsl   29 1.0000000 0.0000000 0.00000000 0.00000000\n",
       "2 Verum TP0   29 0.8841769 0.2139038 0.03972093 0.08136465\n",
       "3 Verum TP10  20 0.8394572 0.2204343 0.04929060 0.10316641\n",
       "4 Verum TP30  23 0.8169281 0.1806023 0.03765818 0.07809829\n",
       "5 Sham  Bsl   15 1.0000000 0.0000000 0.00000000 0.00000000\n",
       "6 Sham  TP0   15 0.9030615 0.2317670 0.05984198 0.12834827\n",
       "7 Sham  TP10  13 0.9509429 0.3052209 0.08465304 0.18444313\n",
       "8 Sham  TP30  11 0.9778468 0.2445023 0.07372022 0.16425889"
      ]
     },
     "metadata": {},
     "output_type": "display_data"
    },
    {
     "data": {
      "image/png": "[encoded data removed]",
      "text/plain": [
       "plot without title"
      ]
     },
     "metadata": {
      "image/png": {
       "height": 360,
       "width": 480
      }
     },
     "output_type": "display_data"
    },
    {
     "data": {
      "text/plain": [
       "Linear mixed model fit by REML. t-tests use Satterthwaite's method [\n",
       "lmerModLmerTest]\n",
       "Formula: NDR ~ 1 + GROUP + (1 | SUBJECT)\n",
       "   Data: ndr\n",
       "\n",
       "REML criterion at convergence: -62.8\n",
       "\n",
       "Scaled residuals: \n",
       "    Min      1Q  Median      3Q     Max \n",
       "-2.6180 -0.5741  0.2021  0.6132  2.7832 \n",
       "\n",
       "Random effects:\n",
       " Groups   Name        Variance Std.Dev.\n",
       " SUBJECT  (Intercept) 0.00934  0.09665 \n",
       " Residual             0.03002  0.17326 \n",
       "Number of obs: 155, groups:  SUBJECT, 44\n",
       "\n",
       "Fixed effects:\n",
       "            Estimate Std. Error       df t value Pr(>|t|)    \n",
       "(Intercept)  0.89636    0.02504 43.21403  35.794   <2e-16 ***\n",
       "GROUPSham    0.05339    0.04256 42.41621   1.254    0.217    \n",
       "---\n",
       "Signif. codes:  0 ‘***’ 0.001 ‘**’ 0.01 ‘*’ 0.05 ‘.’ 0.1 ‘ ’ 1\n",
       "\n",
       "Correlation of Fixed Effects:\n",
       "          (Intr)\n",
       "GROUPSham -0.588"
      ]
     },
     "metadata": {},
     "output_type": "display_data"
    },
    {
     "name": "stderr",
     "output_type": "stream",
     "text": [
      "Computing profile confidence intervals ...\n",
      "\n"
     ]
    },
    {
     "data": {
      "text/html": [
       "<table class=\"dataframe\">\n",
       "<caption>A matrix: 4 × 2 of type dbl</caption>\n",
       "<thead>\n",
       "\t<tr><th></th><th scope=col>2.5 %</th><th scope=col>97.5 %</th></tr>\n",
       "</thead>\n",
       "<tbody>\n",
       "\t<tr><th scope=row>.sig01</th><td> 0.05034832</td><td>0.1352448</td></tr>\n",
       "\t<tr><th scope=row>.sigma</th><td> 0.15284225</td><td>0.1985137</td></tr>\n",
       "\t<tr><th scope=row>(Intercept)</th><td> 0.84744606</td><td>0.9455189</td></tr>\n",
       "\t<tr><th scope=row>GROUPSham</th><td>-0.03043357</td><td>0.1364436</td></tr>\n",
       "</tbody>\n",
       "</table>\n"
      ],
      "text/latex": [
       "A matrix: 4 × 2 of type dbl\n",
       "\\begin{tabular}{r|ll}\n",
       "  & 2.5 \\% & 97.5 \\%\\\\\n",
       "\\hline\n",
       "\t.sig01 &  0.05034832 & 0.1352448\\\\\n",
       "\t.sigma &  0.15284225 & 0.1985137\\\\\n",
       "\t(Intercept) &  0.84744606 & 0.9455189\\\\\n",
       "\tGROUPSham & -0.03043357 & 0.1364436\\\\\n",
       "\\end{tabular}\n"
      ],
      "text/markdown": [
       "\n",
       "A matrix: 4 × 2 of type dbl\n",
       "\n",
       "| <!--/--> | 2.5 % | 97.5 % |\n",
       "|---|---|---|\n",
       "| .sig01 |  0.05034832 | 0.1352448 |\n",
       "| .sigma |  0.15284225 | 0.1985137 |\n",
       "| (Intercept) |  0.84744606 | 0.9455189 |\n",
       "| GROUPSham | -0.03043357 | 0.1364436 |\n",
       "\n"
      ],
      "text/plain": [
       "            2.5 %       97.5 %   \n",
       ".sig01       0.05034832 0.1352448\n",
       ".sigma       0.15284225 0.1985137\n",
       "(Intercept)  0.84744606 0.9455189\n",
       "GROUPSham   -0.03043357 0.1364436"
      ]
     },
     "metadata": {},
     "output_type": "display_data"
    },
    {
     "data": {
      "text/html": [
       "<table class=\"dataframe\">\n",
       "<caption>A anova: 1 × 6</caption>\n",
       "<thead>\n",
       "\t<tr><th></th><th scope=col>Sum Sq</th><th scope=col>Mean Sq</th><th scope=col>NumDF</th><th scope=col>DenDF</th><th scope=col>F value</th><th scope=col>Pr(&gt;F)</th></tr>\n",
       "\t<tr><th></th><th scope=col>&lt;dbl&gt;</th><th scope=col>&lt;dbl&gt;</th><th scope=col>&lt;int&gt;</th><th scope=col>&lt;dbl&gt;</th><th scope=col>&lt;dbl&gt;</th><th scope=col>&lt;dbl&gt;</th></tr>\n",
       "</thead>\n",
       "<tbody>\n",
       "\t<tr><th scope=row>GROUP</th><td>0.04723591</td><td>0.04723591</td><td>1</td><td>42.41621</td><td>1.573578</td><td>0.2165569</td></tr>\n",
       "</tbody>\n",
       "</table>\n"
      ],
      "text/latex": [
       "A anova: 1 × 6\n",
       "\\begin{tabular}{r|llllll}\n",
       "  & Sum Sq & Mean Sq & NumDF & DenDF & F value & Pr(>F)\\\\\n",
       "  & <dbl> & <dbl> & <int> & <dbl> & <dbl> & <dbl>\\\\\n",
       "\\hline\n",
       "\tGROUP & 0.04723591 & 0.04723591 & 1 & 42.41621 & 1.573578 & 0.2165569\\\\\n",
       "\\end{tabular}\n"
      ],
      "text/markdown": [
       "\n",
       "A anova: 1 × 6\n",
       "\n",
       "| <!--/--> | Sum Sq &lt;dbl&gt; | Mean Sq &lt;dbl&gt; | NumDF &lt;int&gt; | DenDF &lt;dbl&gt; | F value &lt;dbl&gt; | Pr(&gt;F) &lt;dbl&gt; |\n",
       "|---|---|---|---|---|---|---|\n",
       "| GROUP | 0.04723591 | 0.04723591 | 1 | 42.41621 | 1.573578 | 0.2165569 |\n",
       "\n"
      ],
      "text/plain": [
       "      Sum Sq     Mean Sq    NumDF DenDF    F value  Pr(>F)   \n",
       "GROUP 0.04723591 0.04723591 1     42.41621 1.573578 0.2165569"
      ]
     },
     "metadata": {},
     "output_type": "display_data"
    },
    {
     "name": "stderr",
     "output_type": "stream",
     "text": [
      "`geom_smooth()` using formula 'y ~ x'\n",
      "\n"
     ]
    },
    {
     "data": {
      "image/png": "[encoded data removed]",
      "text/plain": [
       "plot without title"
      ]
     },
     "metadata": {
      "image/png": {
       "height": 360,
       "width": 480
      }
     },
     "output_type": "display_data"
    },
    {
     "data": {
      "image/png": "[encoded data removed]",
      "text/plain": [
       "plot without title"
      ]
     },
     "metadata": {
      "image/png": {
       "height": 360,
       "width": 480
      }
     },
     "output_type": "display_data"
    }
   ],
   "source": [
    "### Grouping 2 Verum groups in a single one \n",
    "\n",
    "# install.packages('Rmisc')\n",
    "library(sjPlot)\n",
    "library(ggplot2)\n",
    "library(Rmisc)\n",
    "library(lmerTest) \n",
    "library(emmeans)\n",
    "\n",
    "set_theme(\n",
    "  axis.title.size = 2,\n",
    "  axis.textsize = 1.5,\n",
    "  legend.size = 2,\n",
    "  title.size = 2, \n",
    "  base = theme_bw()\n",
    ")\n",
    "\n",
    "ndr <- read.table('II_Mixed_mod_Prepro.txt',header=TRUE,sep='\\t')\n",
    "levels(ndr$GROUP)\n",
    "levels(ndr$GROUP) <- c(\"Verum\", \"Verum\", \"Sham\")\n",
    "levels(ndr$GROUP)\n",
    "\n",
    "## SIMPLE PLOTS\n",
    "options(repr.plot.width = 8, repr.plot.height = 6)\n",
    "ggline(ndr, x = \"TIMEP\", y = \"NDR\", add = \"mean_sd\", color = \"GROUP\", palette = \"jco\", size=2, point.size=2,\n",
    "      legend=\"top\", legend.title=\"GROUP\", font.legend=c(24, \"bold\"))+ ylim(0.6, 1.2) +\n",
    "theme(axis.title.x=element_text(size=24, face=\"bold\"), axis.title.y=element_text(size=24, face=\"bold\"), \n",
    "      axis.line=element_line(size=2), axis.text=element_text(size=24, face=\"bold\"))+\n",
    "stat_compare_means(aes(group= GROUP), size=7, label = \"p.signif\")\n",
    "\n",
    "## IDENTIFY OUTLIERS FOR EACH GROUP OR ACROSS TIMEP\n",
    "# betweenstats because it was a parallel design n=45\n",
    "# options(repr.plot.width = 14, repr.plot.height = 21)\n",
    "# grouped_ggbetweenstats(data=ndr, x=TIMEP, y=NDR, grouping.var=GROUP, type = \"np\", pairwise.comparisons=FALSE,\n",
    "#                       outlier.tagging=TRUE, outlier.label=X, outlier.color='red', effsize.type=\"eta\", outlier.coef=1,\n",
    "#                        # arguments relevant for ggstatsplot::combine_plots\n",
    "#                       annotation.args = list(title = \"NDR over TIMEP and GROUPs\"),\n",
    "#                       plotgrid.args = list(ncol = 1))\n",
    "# ## Tukey=1.5\n",
    "# ndr$NDR[48] <- NA\n",
    "# ndr$NDR[45] <- NA\n",
    "# ndr$NDR[101] <- NA\n",
    "# ndr$NDR[68] <- NA\n",
    "# ndr$NDR[56] <- NA\n",
    "# ## Tukey=1.2\n",
    "# ndr$NDR[61] <- NA\n",
    "# ndr$NDR[68] <- NA\n",
    "# ndr$NDR[78] <- NA\n",
    "# ## Tukey=1\n",
    "# ndr$NDR[139] <- NA\n",
    "# ndr$NDR[113] <- NA\n",
    "# options(repr.plot.width = 8, repr.plot.height = 6)\n",
    "# ggline(ndr, x = \"TIMEP\", y = \"NDR\", add = \"mean_sd\", color = \"GROUP\", palette = \"jco\", size=2, point.size=2,\n",
    "#       legend=\"top\", legend.title=\"GROUP\", font.legend=c(24, \"bold\"))+ ylim(0.6, 1.2) +\n",
    "# theme(axis.title.x=element_text(size=24, face=\"bold\"), axis.title.y=element_text(size=24, face=\"bold\"), \n",
    "#       axis.line=element_line(size=2), axis.text=element_text(size=24, face=\"bold\"))+\n",
    "# stat_compare_means(aes(group= GROUP), size=7, label = \"p.signif\")\n",
    "\n",
    "# MODEL GROUP DIFFERENCES ACROSS TIMEP\n",
    "# ndr$TIMEP <- relevel(ndr$TIMEP,\"TP0\")   # changed the intercept to TIMEP:TP0\n",
    "mlm5 <- lmer(NDR ~ 1 + TIMEP+GROUP*WPLIG + (1|SUBJECT), data=ndr, REML=TRUE)\n",
    "summary(mlm5)\n",
    "confint(mlm5)\n",
    "anova(mlm5, type=2)\n",
    "emm5 = emmeans(mlm5, ~ TIMEP+GROUP, ddf=\"Kenward-Roger\")\n",
    "pairs(emm5, simple='each', adjust=\"none\")\n",
    "confint(pairs(emm5, simple='each', adjust=\"none\"))\n",
    "\n",
    "# Calculate SD, SE, CI from the model\n",
    "ndr_int <- summarySE(ndr, measurevar=\"NDR\", groupvars=c(\"GROUP\",\"TIMEP\"))\n",
    "ndr_int\n",
    "\n",
    "# Use GROUP as a factor and TIMEP rather as numeric\n",
    "ndr_int$GROUP <- factor(ndr_int$GROUP)\n",
    "ndr_int$TIMEP <- c(ndr_int$TIMEP)\n",
    "\n",
    "pd <- position_dodge(0.15) # move them .05 to the left and right\n",
    "ggplot(ndr_int, aes(x=TIMEP, y=NDR, colour=GROUP)) + \n",
    "    geom_errorbar(aes(ymin=NDR-sd, ymax=NDR+sd), width=.1, position=pd) +\n",
    "    geom_line(position=pd)\n",
    "#     scale_x_discrete(breaks=c(\"1\",\"2\",\"3\",\"4\"),\n",
    "#                      labels=c(\"Bsl\",\"TP0\",\"TP10\",\"TP30\"))\n",
    "\n",
    "mlm6 <- lmer(NDR ~ 1 + GROUP + (1|SUBJECT), data=ndr, REML=TRUE)\n",
    "summary(mlm6)\n",
    "confint(mlm6)\n",
    "anova(mlm6, type=2)\n",
    "\n",
    "# Fit first degree polynomial equation\n",
    "fit  <- lm(NDR ~ GROUP, data=ndr)\n",
    "ggplot(data=ndr_int, aes(x=TIMEP, y=NDR, colour=GROUP))+\n",
    "        geom_point() +\n",
    "        geom_smooth(method=\"lm\")\n",
    "\n",
    "# Fit high order degree polynomial equation\n",
    "# fit2  <- lm(NDR ~ poly(GROUP,2), data=ndr)\n",
    "# ggplot(data=ndr_int, aes(x=TIMEP, y=NDR, colour=GROUP))+\n",
    "#         geom_point() +\n",
    "#         geom_smooth(method=\"lm\")\n"
   ]
  },
  {
   "cell_type": "code",
   "execution_count": 15,
   "metadata": {},
   "outputs": [
    {
     "data": {
      "image/png": "[encoded data removed]",
      "text/plain": [
       "plot without title"
      ]
     },
     "metadata": {
      "image/png": {
       "height": 360,
       "width": 480
      }
     },
     "output_type": "display_data"
    }
   ],
   "source": [
    "### Correlation graphs Verum vs. Sham\n",
    "\n",
    "# install.packages('effects')\n",
    "library(sjPlot)\n",
    "library(ggplot2)\n",
    "\n",
    "set_theme(\n",
    "  axis.title.size = 2,\n",
    "  axis.textsize = 1.5,\n",
    "  legend.size = 2,\n",
    "  title.size = 2, \n",
    "  base = theme_bw()\n",
    ")\n",
    "plot_model(mlm5, type = \"eff\", show.data = T, terms = c('WPLIG','GROUP'))#, axis.lim= list(c(0.5,1.5), c(0.5, 1.3)))#,'TIMEP'))\n",
    "# ggsave('WPLIA_2Groups.png', plot = last_plot(), scale = 1, width = 20, height = 10, units = c('cm'), dpi = 300, limitsize = TRUE)"
   ]
  },
  {
   "cell_type": "code",
   "execution_count": 1,
   "metadata": {},
   "outputs": [
    {
     "name": "stderr",
     "output_type": "stream",
     "text": [
      "Loading required package: lattice\n",
      "\n",
      "Loading required package: plyr\n",
      "\n",
      "Loading required package: lme4\n",
      "\n",
      "Loading required package: Matrix\n",
      "\n",
      "\n",
      "Attaching package: ‘lmerTest’\n",
      "\n",
      "\n",
      "The following object is masked from ‘package:lme4’:\n",
      "\n",
      "    lmer\n",
      "\n",
      "\n",
      "The following object is masked from ‘package:stats’:\n",
      "\n",
      "    step\n",
      "\n",
      "\n",
      "Registered S3 methods overwritten by 'car':\n",
      "  method                          from\n",
      "  influence.merMod                lme4\n",
      "  cooks.distance.influence.merMod lme4\n",
      "  dfbeta.influence.merMod         lme4\n",
      "  dfbetas.influence.merMod        lme4\n",
      "\n",
      "\n",
      "Attaching package: ‘ggpubr’\n",
      "\n",
      "\n",
      "The following object is masked from ‘package:plyr’:\n",
      "\n",
      "    mutate\n",
      "\n",
      "\n"
     ]
    },
    {
     "data": {
      "text/html": [
       "<style>\n",
       ".list-inline {list-style: none; margin:0; padding: 0}\n",
       ".list-inline>li {display: inline-block}\n",
       ".list-inline>li:not(:last-child)::after {content: \"\\00b7\"; padding: 0 .5ex}\n",
       "</style>\n",
       "<ol class=list-inline><li>'aV1-gV5'</li><li>'gV1-aV5'</li><li>'Sham'</li></ol>\n"
      ],
      "text/latex": [
       "\\begin{enumerate*}\n",
       "\\item 'aV1-gV5'\n",
       "\\item 'gV1-aV5'\n",
       "\\item 'Sham'\n",
       "\\end{enumerate*}\n"
      ],
      "text/markdown": [
       "1. 'aV1-gV5'\n",
       "2. 'gV1-aV5'\n",
       "3. 'Sham'\n",
       "\n",
       "\n"
      ],
      "text/plain": [
       "[1] \"aV1-gV5\" \"gV1-aV5\" \"Sham\"   "
      ]
     },
     "metadata": {},
     "output_type": "display_data"
    },
    {
     "data": {
      "text/html": [
       "<style>\n",
       ".list-inline {list-style: none; margin:0; padding: 0}\n",
       ".list-inline>li {display: inline-block}\n",
       ".list-inline>li:not(:last-child)::after {content: \"\\00b7\"; padding: 0 .5ex}\n",
       "</style>\n",
       "<ol class=list-inline><li>'Bsl'</li><li>'TP0'</li><li>'TP10'</li><li>'TP30'</li></ol>\n"
      ],
      "text/latex": [
       "\\begin{enumerate*}\n",
       "\\item 'Bsl'\n",
       "\\item 'TP0'\n",
       "\\item 'TP10'\n",
       "\\item 'TP30'\n",
       "\\end{enumerate*}\n"
      ],
      "text/markdown": [
       "1. 'Bsl'\n",
       "2. 'TP0'\n",
       "3. 'TP10'\n",
       "4. 'TP30'\n",
       "\n",
       "\n"
      ],
      "text/plain": [
       "[1] \"Bsl\"  \"TP0\"  \"TP10\" \"TP30\""
      ]
     },
     "metadata": {},
     "output_type": "display_data"
    },
    {
     "data": {
      "text/html": [
       "<style>\n",
       ".list-inline {list-style: none; margin:0; padding: 0}\n",
       ".list-inline>li {display: inline-block}\n",
       ".list-inline>li:not(:last-child)::after {content: \"\\00b7\"; padding: 0 .5ex}\n",
       "</style>\n",
       "<ol class=list-inline><li>72</li><li>23</li></ol>\n"
      ],
      "text/latex": [
       "\\begin{enumerate*}\n",
       "\\item 72\n",
       "\\item 23\n",
       "\\end{enumerate*}\n"
      ],
      "text/markdown": [
       "1. 72\n",
       "2. 23\n",
       "\n",
       "\n"
      ],
      "text/plain": [
       "[1] 72 23"
      ]
     },
     "metadata": {},
     "output_type": "display_data"
    },
    {
     "data": {
      "image/png": "[encoded data removed]",
      "text/plain": [
       "plot without title"
      ]
     },
     "metadata": {
      "image/png": {
       "height": 360,
       "width": 480
      }
     },
     "output_type": "display_data"
    }
   ],
   "source": [
    "### Grouping 2 Verum groups in a single one \n",
    "\n",
    "# install.packages('Rmisc')\n",
    "library(sjPlot)\n",
    "library(ggplot2)\n",
    "library(Rmisc)\n",
    "library(lmerTest) \n",
    "library(emmeans)\n",
    "library(ggpubr)\n",
    "\n",
    "set_theme(\n",
    "  axis.title.size = 2,\n",
    "  axis.textsize = 1.5,\n",
    "  legend.size = 2,\n",
    "  title.size = 2, \n",
    "  base = theme_bw()\n",
    ")\n",
    "\n",
    "ndr <- read.table('II_Mixed_mod_Prepro.txt',header=TRUE,sep='\\t')\n",
    "ndr <- ndr[!(ndr$TIMEP==\"TP0\"),] # drop all data from TP0\n",
    "ndr <- ndr[!(ndr$GROUP==\"Sham\"),] # drop all data from Sham\n",
    "# levels(ndr$GROUP) <- c(\"Verum\", \"Verum\", \"Sham\")\n",
    "levels(ndr$GROUP)\n",
    "levels(ndr$TIMEP)\n",
    "dim(ndr)\n",
    "\n",
    "## SIMPLE PLOTS\n",
    "options(repr.plot.width = 8, repr.plot.height = 6)\n",
    "ggline(ndr, x = \"TIMEP\", y = \"V1pV5a\", add = \"mean_sd\", color = \"GROUP\", palette = \"jco\", size=2, point.size=2,\n",
    "      legend=\"top\", legend.title=\"GROUP\", font.legend=c(24, \"bold\"))+ #ylim(-2, 7) + \n",
    "theme(axis.title.x=element_text(size=24, face=\"bold\"), axis.title.y=element_text(size=24, face=\"bold\"), \n",
    "      axis.line=element_line(size=2), axis.text=element_text(size=24, face=\"bold\"))#+\n",
    "# stat_compare_means(aes(group= GROUP), size=7, label = \"p.signif\")"
   ]
  },
  {
   "cell_type": "code",
   "execution_count": 3,
   "metadata": {},
   "outputs": [
    {
     "data": {
      "text/html": [
       "<style>\n",
       ".list-inline {list-style: none; margin:0; padding: 0}\n",
       ".list-inline>li {display: inline-block}\n",
       ".list-inline>li:not(:last-child)::after {content: \"\\00b7\"; padding: 0 .5ex}\n",
       "</style>\n",
       "<ol class=list-inline><li>155</li><li>23</li></ol>\n"
      ],
      "text/latex": [
       "\\begin{enumerate*}\n",
       "\\item 155\n",
       "\\item 23\n",
       "\\end{enumerate*}\n"
      ],
      "text/markdown": [
       "1. 155\n",
       "2. 23\n",
       "\n",
       "\n"
      ],
      "text/plain": [
       "[1] 155  23"
      ]
     },
     "metadata": {},
     "output_type": "display_data"
    },
    {
     "data": {
      "text/html": [
       "<style>\n",
       ".list-inline {list-style: none; margin:0; padding: 0}\n",
       ".list-inline>li {display: inline-block}\n",
       ".list-inline>li:not(:last-child)::after {content: \"\\00b7\"; padding: 0 .5ex}\n",
       "</style>\n",
       "<ol class=list-inline><li>'aV1-gV5'</li><li>'gV1-aV5'</li><li>'Sham'</li></ol>\n"
      ],
      "text/latex": [
       "\\begin{enumerate*}\n",
       "\\item 'aV1-gV5'\n",
       "\\item 'gV1-aV5'\n",
       "\\item 'Sham'\n",
       "\\end{enumerate*}\n"
      ],
      "text/markdown": [
       "1. 'aV1-gV5'\n",
       "2. 'gV1-aV5'\n",
       "3. 'Sham'\n",
       "\n",
       "\n"
      ],
      "text/plain": [
       "[1] \"aV1-gV5\" \"gV1-aV5\" \"Sham\"   "
      ]
     },
     "metadata": {},
     "output_type": "display_data"
    },
    {
     "data": {
      "text/html": [
       "<style>\n",
       ".list-inline {list-style: none; margin:0; padding: 0}\n",
       ".list-inline>li {display: inline-block}\n",
       ".list-inline>li:not(:last-child)::after {content: \"\\00b7\"; padding: 0 .5ex}\n",
       "</style>\n",
       "<ol class=list-inline><li>'Bsl'</li><li>'TP0'</li><li>'TP10'</li><li>'TP30'</li></ol>\n"
      ],
      "text/latex": [
       "\\begin{enumerate*}\n",
       "\\item 'Bsl'\n",
       "\\item 'TP0'\n",
       "\\item 'TP10'\n",
       "\\item 'TP30'\n",
       "\\end{enumerate*}\n"
      ],
      "text/markdown": [
       "1. 'Bsl'\n",
       "2. 'TP0'\n",
       "3. 'TP10'\n",
       "4. 'TP30'\n",
       "\n",
       "\n"
      ],
      "text/plain": [
       "[1] \"Bsl\"  \"TP0\"  \"TP10\" \"TP30\""
      ]
     },
     "metadata": {},
     "output_type": "display_data"
    },
    {
     "name": "stderr",
     "output_type": "stream",
     "text": [
      "`geom_smooth()` using formula 'y ~ x'\n",
      "\n",
      "`geom_smooth()` using formula 'y ~ x'\n",
      "\n"
     ]
    },
    {
     "data": {
      "image/png": "[encoded data removed]",
      "text/plain": [
       "plot without title"
      ]
     },
     "metadata": {
      "image/png": {
       "height": 300,
       "width": 840
      }
     },
     "output_type": "display_data"
    },
    {
     "data": {
      "image/png": "[encoded data removed]",
      "text/plain": [
       "plot without title"
      ]
     },
     "metadata": {
      "image/png": {
       "height": 300,
       "width": 840
      }
     },
     "output_type": "display_data"
    }
   ],
   "source": [
    "### Correlation graphs: EEG vs. NDR\n",
    "\n",
    "# install.packages('Rmisc')\n",
    "library(sjPlot)\n",
    "library(ggplot2)\n",
    "library(Rmisc)\n",
    "library(lmerTest) \n",
    "library(emmeans)\n",
    "library(ggpubr)\n",
    "\n",
    "set_theme(\n",
    "  axis.title.size = 2,\n",
    "  axis.textsize = 1.5,\n",
    "  legend.size = 2,\n",
    "  title.size = 2, \n",
    "  base = theme_bw()\n",
    ")\n",
    "\n",
    "ndr <- read.table('II_Mixed_mod_Prepro.txt',header=TRUE,sep='\\t')\n",
    "# head(ndr[5:15])\n",
    "dim(ndr)\n",
    "levels(ndr$GROUP)\n",
    "levels(ndr$TIMEP)\n",
    "\n",
    "ndr <- ndr[!(ndr$TIMEP==\"TP0\"),] # drop all data from TP0\n",
    "ndr <- ndr[!(ndr$GROUP==\"Sham\"),] # drop all data from Sham\n",
    "\n",
    "options(repr.plot.width = 14, repr.plot.height = 5)\n",
    "b <- ggplot(ndr, aes(x = V1aV5p, y = NDR))\n",
    "b + geom_point(aes(color = GROUP, shape = GROUP)) +\n",
    "  geom_smooth(aes(color = GROUP), method = lm, se = FALSE, fullrange = TRUE)+\n",
    "  ggpubr::stat_cor(aes(color = GROUP), label.x = -3, size = 2)+\n",
    "  theme(axis.title.x=element_text(size=4, face=\"bold\"), axis.title.y=element_text(size=4, face=\"bold\"), \n",
    "      axis.line=element_line(size=0), axis.text=element_text(size=14, face=\"bold\"),\n",
    "      legend.text = element_text(size=4, face=\"bold\"), legend.title = element_text(size=4, face=\"bold\"))\n",
    "# ggsave('V1aV5p.png', plot = last_plot(), scale = 1, width = 15, height = 5, units = c('cm'), dpi = 300, limitsize = TRUE)\n",
    "\n",
    "\n",
    "c <- ggplot(ndr, aes(x = WPLIA, y = NDR))\n",
    "c + geom_point(aes(color = GROUP, shape = GROUP)) +\n",
    "  geom_smooth(aes(color = GROUP), method = lm, se = FALSE, fullrange = TRUE)+\n",
    "  ggpubr::stat_cor(aes(color = GROUP), label.x = 0.5, size = 2)+\n",
    "  theme(axis.title.x=element_text(size=4, face=\"bold\"), axis.title.y=element_text(size=4, face=\"bold\"), \n",
    "      axis.line=element_line(size=0), axis.text=element_text(size=14, face=\"bold\"),\n",
    "      legend.text = element_text(size=4, face=\"bold\"), legend.title = element_text(size=4, face=\"bold\"))\n",
    "# ggsave('WPLIA.png', plot = last_plot(), scale = 1, width = 15, height = 5, units = c('cm'), dpi = 300, limitsize = TRUE)\n"
   ]
  },
  {
   "cell_type": "code",
   "execution_count": null,
   "metadata": {},
   "outputs": [],
   "source": [
    "### simrOptions(progress=TRUE) #Avoid showing progress bars\n",
    "\n",
    "### Power = Pr(Reject H0 | H1 is TRUE) --> fcompare(H1) \n",
    "sim_GROUP <- powerSim(rint, nsim=20, test = fcompare(NDR~TIMEP))\n",
    "sim_GROUP\n",
    "# sim_TIMEP <- powerSim(rint, nsim=20, test = fcompare(NDR~GROUP))\n",
    "# sim_TIMEP\n",
    "# sim_TG <- powerSim(rint, nsim=20, test = fcompare(NDR~TIMEP*GROUP))\n",
    "# sim_TG\n",
    "\n",
    "# Extend the number of participants per group\n",
    "model_ext_subj <- extend(rint, along=\"SUBJECT\", n=60)\n",
    "model_ext_subj\n",
    "\n",
    "# ReTest Power with the new number of subjects\n",
    "sim_treat_subj <- powerSim(model_ext_subj, nsim=20, test=fcompare(NDR~TIMEP), progress=FALSE)\n",
    "sim_treat_subj\n",
    "\n",
    "# Plot number of subjects against Stat.Power\n",
    "p_curve_treat <- powerCurve(model_ext_subj, test=fcompare(NDR~TIMEP), along='SUBJECT',\n",
    "                            breaks=c(5,10,15,20,25,30, 40, 50, 60), progress=FALSE)\n",
    "plot(p_curve_treat)\n",
    "\n",
    "# # Change the effect size\n",
    "# model_large <- rint\n",
    "# fixef(model_large)#['TIMEP'] <- 2\n",
    "\n",
    "# sim_treat_large <- powerSim(model_large, nsim=100, test = fcompare(y~time))\n",
    "# sim_treat_large"
   ]
  },
  {
   "cell_type": "code",
   "execution_count": null,
   "metadata": {},
   "outputs": [],
   "source": []
  }
 ],
 "metadata": {
  "kernelspec": {
   "display_name": "R",
   "language": "R",
   "name": "ir"
  },
  "language_info": {
   "codemirror_mode": "r",
   "file_extension": ".r",
   "mimetype": "text/x-r-source",
   "name": "R",
   "pygments_lexer": "r",
   "version": "3.6.1"
  }
 },
 "nbformat": 4,
 "nbformat_minor": 4
}
