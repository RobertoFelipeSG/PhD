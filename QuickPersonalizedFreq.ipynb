{
 "cells": [
  {
   "cell_type": "code",
   "execution_count": 1,
   "metadata": {},
   "outputs": [
    {
     "name": "stdout",
     "output_type": "stream",
     "text": [
      "Extracting parameters from /home/robertofelipe_sg/Documents/EEG_Data/P30_RS.vhdr...\n",
      "Setting channel info structure...\n",
      "Reading 0 ... 367979  =      0.000 ...   367.979 secs...\n",
      "Size of the Raw data\n",
      "(63, 367980)\n",
      "Size of the Resampled data\n",
      "(63, 91995)\n",
      "(91995,)\n",
      "(45997,)\n",
      "8.53850752758302\n",
      "20.854394260557637\n"
     ]
    },
    {
     "data": {
      "image/png": "[encoded data removed]",
      "text/plain": [
       "<Figure size 432x288 with 1 Axes>"
      ]
     },
     "metadata": {
      "needs_background": "light"
     },
     "output_type": "display_data"
    }
   ],
   "source": [
    "from __future__ import division\n",
    "import numpy as np\n",
    "import matplotlib.pyplot as plt\n",
    "import mne\n",
    "import scipy as sp\n",
    "\n",
    "from numpy import sin, linspace, pi\n",
    "from pylab import plot, show, title, xlabel, ylabel, subplot\n",
    "from scipy import fft, arange, signal\n",
    "\n",
    "raw_path = '/home/robertofelipe_sg/Documents/EEG_Data/P30_RS.vhdr'\n",
    "\n",
    "#Reading Data from \n",
    "a = mne.io.read_raw_brainvision(raw_path, preload=True)\n",
    "b = a.get_data(start=0, stop=None)#, return_times=True)\n",
    "print('Size of the Raw data')\n",
    "print(b.shape)\n",
    "\n",
    "#Resampling\n",
    "sample_freq   = 1000\n",
    "resample_freq = 250\n",
    "t_recording = (len(b[1])/sample_freq) # time in secs\n",
    "new_sampling = t_recording*resample_freq\n",
    "data = sp.signal.resample(b,int(new_sampling), axis=1)\n",
    "print('Size of the Resampled data')\n",
    "print(data.shape)\n",
    "\n",
    "#Filtering\n",
    "nyq   = 0.5 * resample_freq\n",
    "lowf  = 5\n",
    "highf = 45\n",
    "N     = 3\n",
    "i, j = sp.signal.butter(N, [lowf/nyq, highf/nyq], 'bandpass')\n",
    "filtered = sp.signal.filtfilt(i, j, data)\n",
    "\n",
    "#Averaging all channels\n",
    "signal = np.mean(filtered,0)\n",
    "print(signal.shape)\n",
    "\n",
    "\n",
    "def plotSpectrum(y,Fs):\n",
    "# Plots a Single-Sided Amplitude Spectrum of y(t)\n",
    "\n",
    "    n = len(y)                      # length of the signal\n",
    "    k = np.arange(n)\n",
    "    T = n/Fs\n",
    "    frq = k/T                       # two sides frequency range\n",
    "    freq = frq[range(int(n/2))]     # one side frequency range\n",
    "\n",
    "    Y = np.fft.fft(y)/n             # fft computing and normalization\n",
    "    Y = Y[range(int(n/2))]\n",
    "    print(Y.shape)\n",
    "    #print(np.argmax(abs(Y)))\n",
    "\n",
    "    if n > int(45*2*Fs):\n",
    "        limite = int((45*Fs))\n",
    "        #print(limite)\n",
    "        alpha_idx = np.argmax(abs(Y[8*Fs:13*Fs]))\n",
    "        print(freq[(8*Fs)+alpha_idx])\n",
    "        gamma_idx = np.argmax(abs(Y[30*Fs:45*Fs]))\n",
    "        print(freq[(30*Fs)+gamma_idx])  \n",
    "    elif n < int(45*2*Fs):\n",
    "        limite = int(45)\n",
    "        #print(limite)\n",
    "        alpha_idx = np.argmax(abs(Y[8:13]))\n",
    "        print(freq[8+alpha_idx])\n",
    "        gamma_idx = np.argmax(abs(Y[30:45]))\n",
    "        print(freq[30+gamma_idx])\n",
    "  \n",
    "    plot(freq[0:limite],abs(Y)[0:limite],'r') # plotting the spectrum\n",
    "    xlabel('Freq (Hz)')\n",
    "    ylabel('|Y(freq)|')\n",
    "    show()\n",
    "    \n",
    "plotSpectrum(signal,resample_freq)\n"
   ]
  },
  {
   "cell_type": "code",
   "execution_count": null,
   "metadata": {},
   "outputs": [],
   "source": []
  }
 ],
 "metadata": {
  "kernelspec": {
   "display_name": "Python 3",
   "language": "python",
   "name": "python3"
  },
  "language_info": {
   "codemirror_mode": {
    "name": "ipython",
    "version": 3
   },
   "file_extension": ".py",
   "mimetype": "text/x-python",
   "name": "python",
   "nbconvert_exporter": "python",
   "pygments_lexer": "ipython3",
   "version": "3.6.10"
  }
 },
 "nbformat": 4,
 "nbformat_minor": 4
}
