{
 "cells": [
  {
   "cell_type": "code",
   "execution_count": 2,
   "metadata": {},
   "outputs": [
    {
     "name": "stdout",
     "output_type": "stream",
     "text": [
      "Extracting EDF parameters from /home/robertofelipe_sg/Documents/EEG_Data/MF.edf...\n",
      "EDF file detected\n",
      "Setting channel info structure...\n",
      "Creating raw.info structure...\n"
     ]
    },
    {
     "ename": "ValueError",
     "evalue": "No stim channels found. Consider specifying them manually using the 'stim_channel' parameter.",
     "output_type": "error",
     "traceback": [
      "\u001b[0;31m---------------------------------------------------------------------------\u001b[0m",
      "\u001b[0;31mValueError\u001b[0m                                Traceback (most recent call last)",
      "\u001b[0;32m<ipython-input-2-571c61ea8b3b>\u001b[0m in \u001b[0;36m<module>\u001b[0;34m\u001b[0m\n\u001b[1;32m     30\u001b[0m \u001b[0;34m\u001b[0m\u001b[0m\n\u001b[1;32m     31\u001b[0m \u001b[0;31m# # Event triggers and conditions\u001b[0m\u001b[0;34m\u001b[0m\u001b[0;34m\u001b[0m\u001b[0;34m\u001b[0m\u001b[0m\n\u001b[0;32m---> 32\u001b[0;31m \u001b[0mevents\u001b[0m \u001b[0;34m=\u001b[0m \u001b[0mmne\u001b[0m\u001b[0;34m.\u001b[0m\u001b[0mfind_events\u001b[0m\u001b[0;34m(\u001b[0m\u001b[0mraw\u001b[0m\u001b[0;34m)\u001b[0m\u001b[0;34m\u001b[0m\u001b[0;34m\u001b[0m\u001b[0m\n\u001b[0m\u001b[1;32m     33\u001b[0m \u001b[0;31m# events, _ = mne.events_from_annotations(raw)\u001b[0m\u001b[0;34m\u001b[0m\u001b[0;34m\u001b[0m\u001b[0;34m\u001b[0m\u001b[0m\n\u001b[1;32m     34\u001b[0m \u001b[0;31m# print(events)\u001b[0m\u001b[0;34m\u001b[0m\u001b[0;34m\u001b[0m\u001b[0;34m\u001b[0m\u001b[0m\n",
      "\u001b[0;32m<decorator-gen-160>\u001b[0m in \u001b[0;36mfind_events\u001b[0;34m(raw, stim_channel, output, consecutive, min_duration, shortest_event, mask, uint_cast, mask_type, initial_event, verbose)\u001b[0m\n",
      "\u001b[0;32m~/anaconda3/lib/python3.6/site-packages/mne/event.py\u001b[0m in \u001b[0;36mfind_events\u001b[0;34m(raw, stim_channel, output, consecutive, min_duration, shortest_event, mask, uint_cast, mask_type, initial_event, verbose)\u001b[0m\n\u001b[1;32m    695\u001b[0m     \u001b[0;31m# pull stim channel from config if necessary\u001b[0m\u001b[0;34m\u001b[0m\u001b[0;34m\u001b[0m\u001b[0;34m\u001b[0m\u001b[0m\n\u001b[1;32m    696\u001b[0m     \u001b[0;32mtry\u001b[0m\u001b[0;34m:\u001b[0m\u001b[0;34m\u001b[0m\u001b[0;34m\u001b[0m\u001b[0m\n\u001b[0;32m--> 697\u001b[0;31m         \u001b[0mstim_channel\u001b[0m \u001b[0;34m=\u001b[0m \u001b[0m_get_stim_channel\u001b[0m\u001b[0;34m(\u001b[0m\u001b[0mstim_channel\u001b[0m\u001b[0;34m,\u001b[0m \u001b[0mraw\u001b[0m\u001b[0;34m.\u001b[0m\u001b[0minfo\u001b[0m\u001b[0;34m)\u001b[0m\u001b[0;34m\u001b[0m\u001b[0;34m\u001b[0m\u001b[0m\n\u001b[0m\u001b[1;32m    698\u001b[0m     \u001b[0;32mexcept\u001b[0m \u001b[0mValueError\u001b[0m\u001b[0;34m:\u001b[0m\u001b[0;34m\u001b[0m\u001b[0;34m\u001b[0m\u001b[0m\n\u001b[1;32m    699\u001b[0m         \u001b[0;32mif\u001b[0m \u001b[0mlen\u001b[0m\u001b[0;34m(\u001b[0m\u001b[0mraw\u001b[0m\u001b[0;34m.\u001b[0m\u001b[0mannotations\u001b[0m\u001b[0;34m)\u001b[0m \u001b[0;34m>\u001b[0m \u001b[0;36m0\u001b[0m\u001b[0;34m:\u001b[0m\u001b[0;34m\u001b[0m\u001b[0;34m\u001b[0m\u001b[0m\n",
      "\u001b[0;32m~/anaconda3/lib/python3.6/site-packages/mne/utils/config.py\u001b[0m in \u001b[0;36m_get_stim_channel\u001b[0;34m(stim_channel, info, raise_error)\u001b[0m\n\u001b[1;32m    406\u001b[0m         \u001b[0mstim_channel\u001b[0m \u001b[0;34m=\u001b[0m \u001b[0;34m[\u001b[0m\u001b[0minfo\u001b[0m\u001b[0;34m[\u001b[0m\u001b[0;34m'ch_names'\u001b[0m\u001b[0;34m]\u001b[0m\u001b[0;34m[\u001b[0m\u001b[0mch_\u001b[0m\u001b[0;34m]\u001b[0m \u001b[0;32mfor\u001b[0m \u001b[0mch_\u001b[0m \u001b[0;32min\u001b[0m \u001b[0mstim_channel\u001b[0m\u001b[0;34m]\u001b[0m\u001b[0;34m\u001b[0m\u001b[0;34m\u001b[0m\u001b[0m\n\u001b[1;32m    407\u001b[0m     \u001b[0;32melif\u001b[0m \u001b[0mraise_error\u001b[0m\u001b[0;34m:\u001b[0m\u001b[0;34m\u001b[0m\u001b[0;34m\u001b[0m\u001b[0m\n\u001b[0;32m--> 408\u001b[0;31m         raise ValueError(\"No stim channels found. Consider specifying them \"\n\u001b[0m\u001b[1;32m    409\u001b[0m                          \"manually using the 'stim_channel' parameter.\")\n\u001b[1;32m    410\u001b[0m     \u001b[0;32mreturn\u001b[0m \u001b[0mstim_channel\u001b[0m\u001b[0;34m\u001b[0m\u001b[0;34m\u001b[0m\u001b[0m\n",
      "\u001b[0;31mValueError\u001b[0m: No stim channels found. Consider specifying them manually using the 'stim_channel' parameter."
     ]
    }
   ],
   "source": [
    "import numpy as np\n",
    "import mne\n",
    "import matplotlib\n",
    "\n",
    "%matplotlib qt\n",
    "import matplotlib.pyplot as plt\n",
    "\n",
    "from mne.preprocessing import ICA\n",
    "from mne.datasets import sample\n",
    "\n",
    "from time import time\n",
    "\n",
    "# raw_path = ('/home/robertofelipe_sg/mne_data/MNE-eegbci-data/files/eegmmidb/1.0.0/S001/S001R04.edf')\n",
    "raw_path = ('/home/robertofelipe_sg/Documents/EEG_Data/MF.edf')\n",
    "\n",
    "\n",
    "# Read input file\n",
    "raw = mne.io.read_raw_edf(raw_path)\n",
    "# raw.plot_sensors(ch_type='eeg')\n",
    "\n",
    "# #     # Read montage file\n",
    "# #     montage = mne.channels.read_montage(kind='easycap_64')\n",
    "# #     #print(montage)\n",
    "# #     raw.set_montage(montage, set_dig=True)\n",
    "\n",
    "# # Read montage file\n",
    "# montage = mne.channels.read_custom_montage(fname='PassiveCap_patients_S2.txt', unit='auto')\n",
    "# print(type(montage))\n",
    "# raw.set_montage(montage)\n",
    "\n",
    "# # Event triggers and conditions\n",
    "# events = mne.find_events(raw)\n",
    "# events, _ = mne.events_from_annotations(raw)\n",
    "# print(events)\n",
    "\n",
    "# eventsofint = np.zeros((150, 3), dtype=int)\n",
    "# cor = np.zeros((1,3), dtype=int)\n",
    "# inc = np.zeros((1,3), dtype=int)\n",
    "# j=0\n",
    "# for i, event in enumerate(events):\n",
    "#     if event[2,]==1 and events[i-1,2]==3:\n",
    "#         cor[:,0:2] = events[i-1,0:2]\n",
    "#         cor[:,2] = int(31)\n",
    "#         eventsofint[j,:] = cor\n",
    "#         j += 1\n",
    "#     elif event[2,]==2 and events[i-1,2]==3:\n",
    "#         inc[:,0:2] = events[i-1,0:2]\n",
    "#         inc[:,2] = int(32)\n",
    "#         eventsofint[j,:] = inc\n",
    "#         j += 1\n",
    "# a = isinstance(eventsofint, int)\n",
    "# #print(a)\n",
    "# #print(eventsofint)\n",
    "# print(eventsofint.shape)    \n",
    "\n",
    "# #     incevent, lag1 = mne.event.define_target_events(events, 3, 2, sfreq=raw.info['sfreq'], tmin=-.1, tmax=3.4, new_id=32, fill_na=31)\n",
    "\n",
    "# # Set EEG average reference\n",
    "# reference = raw.set_eeg_reference(ref_channels='average', projection=False) \n",
    "\n",
    "# # Plot Raw data in order to delete completely bad channels\n",
    "raw.plot(block = True, remove_dc=True)#, events=events) \n",
    "# #print(raw.info['bads'])\n",
    "\n",
    "# # Filtering\n",
    "# raw.filter (l_freq=0.5, h_freq=45.0)\n",
    "# raw.filter (1., None, n_jobs=1, fir_design='firwin')\n",
    "\n",
    "# # Intermediate step\n",
    "# #raw.plot_psd(tmax=np.inf, fmax=45)\n",
    "# picks = mne.pick_types(raw.info, meg=False, eeg=True)\n",
    "# print(picks)\n",
    "\n",
    "# # Epochs definition\n",
    "# baseline = (-.300, -.100)  # means from the first instant to t = 0\n",
    "# tmin = -1.50\n",
    "# tmax = 1.50\n",
    "# event_id = dict(stim_cor=31, stim_inc=32)\n",
    "# epochs = mne.Epochs(raw, eventsofint, event_id, tmin, tmax, proj=False, picks=picks, detrend=1,\n",
    "#                     baseline=baseline, preload=True) # Based on signals from Trigger\n",
    "# print(epochs)\n",
    "# print(epochs.event_id)\n",
    "\n",
    "# # baseline noise cov, not a lot of samples\n",
    "# #noise_cov = mne.compute_covariance(epochs, tmax=0., method='shrunk',                                   #verbose='error')\n",
    "# #print(noise_cov)\n",
    "\n",
    "# # Plot whitening process\n",
    "# #evoked = epochs.average()\n",
    "# #evoked.plot_white(noise_cov, time_unit='s')\n",
    "\n",
    "# # Plot & inspect epochs\n",
    "# scalings = dict(mag=1e-12, grad=4e-11, eeg=100e-6, eog=150e-6, ecg=5e-4,\n",
    "#      emg=1e-3, ref_meg=1e-12, misc=1e-3, stim=1, resp=1, chpi=1e-4,\n",
    "#      whitened=10.)\n",
    "# stimuli = mne.pick_events(events, include=[1,2,3])\n",
    "# color = {1: 'blue', 2: 'red', 3: 'green'}#, 4: 'c', 5: 'black', 32: 'blue'}\n",
    "# epochs.plot(block=True, scalings=scalings , n_channels=64, n_epochs=1, event_colors=color, events=stimuli)#, noise_cov=noise_cov)#\n",
    "\n",
    "# # Interpolate bad epochs\n",
    "# mne.Epochs.interpolate_bads(epochs, reset_bads=False, mode='accurate', verbose=False)\n",
    "# print(epochs.info['bads'])\n",
    "\n",
    "# # Resampling\n",
    "# epochs_resampled = epochs.copy().resample(250, npad='auto')\n",
    "# print('New sampling rate:', epochs_resampled.info['sfreq'], 'Hz')\n",
    "\n",
    "# # ICA \n",
    "# ica = ICA(method='fastica', random_state=0)\n",
    "# ica.fit(epochs_resampled)\n",
    "# ica.plot_sources(epochs_resampled, block=True)\n",
    "# print(ica.exclude)\n",
    "# preprocessed = ica.apply(epochs_resampled)\n",
    "\n",
    "# #Save output\n",
    "# preprocessed.save('%s_preprocessed_epo.fif' %sub_id)\n",
    "\n",
    "# #Return output\n",
    "# return preprocessed"
   ]
  },
  {
   "cell_type": "code",
   "execution_count": 37,
   "metadata": {},
   "outputs": [
    {
     "data": {
      "text/plain": [
       "'/home/robertofelipe_sg/mne_data'"
      ]
     },
     "execution_count": 37,
     "metadata": {},
     "output_type": "execute_result"
    }
   ],
   "source": [
    "import os\n",
    "os.getenv('HOME') + '/mne_data'"
   ]
  },
  {
   "cell_type": "code",
   "execution_count": null,
   "metadata": {},
   "outputs": [],
   "source": []
  }
 ],
 "metadata": {
  "kernelspec": {
   "display_name": "Python 3",
   "language": "python",
   "name": "python3"
  },
  "language_info": {
   "codemirror_mode": {
    "name": "ipython",
    "version": 3
   },
   "file_extension": ".py",
   "mimetype": "text/x-python",
   "name": "python",
   "nbconvert_exporter": "python",
   "pygments_lexer": "ipython3",
   "version": "3.6.10"
  }
 },
 "nbformat": 4,
 "nbformat_minor": 4
}
